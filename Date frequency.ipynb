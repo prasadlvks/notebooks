{
  "cells": [
    {
      "metadata": {
        "trusted": true
      },
      "cell_type": "code",
      "source": "import pandas as pd",
      "execution_count": 1,
      "outputs": []
    },
    {
      "metadata": {
        "trusted": true
      },
      "cell_type": "code",
      "source": "index = pd.date_range('1/1/2000', periods=4, freq='T')",
      "execution_count": 2,
      "outputs": []
    },
    {
      "metadata": {
        "trusted": true
      },
      "cell_type": "code",
      "source": "index",
      "execution_count": 3,
      "outputs": [
        {
          "output_type": "execute_result",
          "execution_count": 3,
          "data": {
            "text/plain": "DatetimeIndex(['2000-01-01 00:00:00', '2000-01-01 00:01:00',\n               '2000-01-01 00:02:00', '2000-01-01 00:03:00'],\n              dtype='datetime64[ns]', freq='T')"
          },
          "metadata": {}
        }
      ]
    },
    {
      "metadata": {
        "trusted": true
      },
      "cell_type": "code",
      "source": "series = pd.Series([0.0, None, 2.0, 3.0], index=index)",
      "execution_count": 4,
      "outputs": []
    },
    {
      "metadata": {
        "trusted": true
      },
      "cell_type": "code",
      "source": "series",
      "execution_count": 5,
      "outputs": [
        {
          "output_type": "execute_result",
          "execution_count": 5,
          "data": {
            "text/plain": "2000-01-01 00:00:00    0.0\n2000-01-01 00:01:00    NaN\n2000-01-01 00:02:00    2.0\n2000-01-01 00:03:00    3.0\nFreq: T, dtype: float64"
          },
          "metadata": {}
        }
      ]
    },
    {
      "metadata": {
        "trusted": true
      },
      "cell_type": "code",
      "source": "type(series.index)",
      "execution_count": 6,
      "outputs": [
        {
          "output_type": "execute_result",
          "execution_count": 6,
          "data": {
            "text/plain": "pandas.core.indexes.datetimes.DatetimeIndex"
          },
          "metadata": {}
        }
      ]
    },
    {
      "metadata": {
        "trusted": true
      },
      "cell_type": "code",
      "source": "df = pd.DataFrame({'s':series})",
      "execution_count": 7,
      "outputs": []
    },
    {
      "metadata": {
        "trusted": true
      },
      "cell_type": "code",
      "source": "df",
      "execution_count": 8,
      "outputs": [
        {
          "output_type": "execute_result",
          "execution_count": 8,
          "data": {
            "text/html": "<div>\n<style scoped>\n    .dataframe tbody tr th:only-of-type {\n        vertical-align: middle;\n    }\n\n    .dataframe tbody tr th {\n        vertical-align: top;\n    }\n\n    .dataframe thead th {\n        text-align: right;\n    }\n</style>\n<table border=\"1\" class=\"dataframe\">\n  <thead>\n    <tr style=\"text-align: right;\">\n      <th></th>\n      <th>s</th>\n    </tr>\n  </thead>\n  <tbody>\n    <tr>\n      <th>2000-01-01 00:00:00</th>\n      <td>0.0</td>\n    </tr>\n    <tr>\n      <th>2000-01-01 00:01:00</th>\n      <td>NaN</td>\n    </tr>\n    <tr>\n      <th>2000-01-01 00:02:00</th>\n      <td>2.0</td>\n    </tr>\n    <tr>\n      <th>2000-01-01 00:03:00</th>\n      <td>3.0</td>\n    </tr>\n  </tbody>\n</table>\n</div>",
            "text/plain": "                       s\n2000-01-01 00:00:00  0.0\n2000-01-01 00:01:00  NaN\n2000-01-01 00:02:00  2.0\n2000-01-01 00:03:00  3.0"
          },
          "metadata": {}
        }
      ]
    },
    {
      "metadata": {
        "trusted": true
      },
      "cell_type": "code",
      "source": "df.asfreq(freq='30S',inpl)",
      "execution_count": 17,
      "outputs": [
        {
          "output_type": "execute_result",
          "execution_count": 17,
          "data": {
            "text/html": "<div>\n<style scoped>\n    .dataframe tbody tr th:only-of-type {\n        vertical-align: middle;\n    }\n\n    .dataframe tbody tr th {\n        vertical-align: top;\n    }\n\n    .dataframe thead th {\n        text-align: right;\n    }\n</style>\n<table border=\"1\" class=\"dataframe\">\n  <thead>\n    <tr style=\"text-align: right;\">\n      <th></th>\n      <th>s</th>\n    </tr>\n  </thead>\n  <tbody>\n    <tr>\n      <th>2000-01-01 00:00:00</th>\n      <td>0.0</td>\n    </tr>\n    <tr>\n      <th>2000-01-01 00:00:30</th>\n      <td>NaN</td>\n    </tr>\n    <tr>\n      <th>2000-01-01 00:01:00</th>\n      <td>NaN</td>\n    </tr>\n    <tr>\n      <th>2000-01-01 00:01:30</th>\n      <td>NaN</td>\n    </tr>\n    <tr>\n      <th>2000-01-01 00:02:00</th>\n      <td>2.0</td>\n    </tr>\n    <tr>\n      <th>2000-01-01 00:02:30</th>\n      <td>NaN</td>\n    </tr>\n    <tr>\n      <th>2000-01-01 00:03:00</th>\n      <td>3.0</td>\n    </tr>\n  </tbody>\n</table>\n</div>",
            "text/plain": "                       s\n2000-01-01 00:00:00  0.0\n2000-01-01 00:00:30  NaN\n2000-01-01 00:01:00  NaN\n2000-01-01 00:01:30  NaN\n2000-01-01 00:02:00  2.0\n2000-01-01 00:02:30  NaN\n2000-01-01 00:03:00  3.0"
          },
          "metadata": {}
        }
      ]
    },
    {
      "metadata": {
        "trusted": true
      },
      "cell_type": "code",
      "source": "df",
      "execution_count": 18,
      "outputs": [
        {
          "output_type": "execute_result",
          "execution_count": 18,
          "data": {
            "text/html": "<div>\n<style scoped>\n    .dataframe tbody tr th:only-of-type {\n        vertical-align: middle;\n    }\n\n    .dataframe tbody tr th {\n        vertical-align: top;\n    }\n\n    .dataframe thead th {\n        text-align: right;\n    }\n</style>\n<table border=\"1\" class=\"dataframe\">\n  <thead>\n    <tr style=\"text-align: right;\">\n      <th></th>\n      <th>s</th>\n    </tr>\n  </thead>\n  <tbody>\n    <tr>\n      <th>2000-01-01 00:00:00</th>\n      <td>0.0</td>\n    </tr>\n    <tr>\n      <th>2000-01-01 00:01:00</th>\n      <td>NaN</td>\n    </tr>\n    <tr>\n      <th>2000-01-01 00:02:00</th>\n      <td>2.0</td>\n    </tr>\n    <tr>\n      <th>2000-01-01 00:03:00</th>\n      <td>3.0</td>\n    </tr>\n  </tbody>\n</table>\n</div>",
            "text/plain": "                       s\n2000-01-01 00:00:00  0.0\n2000-01-01 00:01:00  NaN\n2000-01-01 00:02:00  2.0\n2000-01-01 00:03:00  3.0"
          },
          "metadata": {}
        }
      ]
    },
    {
      "metadata": {
        "trusted": true
      },
      "cell_type": "code",
      "source": "index = pd.date_range('1/1/2015', periods=5)\nindex",
      "execution_count": 20,
      "outputs": [
        {
          "output_type": "execute_result",
          "execution_count": 20,
          "data": {
            "text/plain": "DatetimeIndex(['2015-01-01', '2015-01-02', '2015-01-03', '2015-01-04',\n               '2015-01-05'],\n              dtype='datetime64[ns]', freq='D')"
          },
          "metadata": {}
        }
      ]
    },
    {
      "metadata": {
        "trusted": true
      },
      "cell_type": "code",
      "source": "index = pd.date_range('1/1/2015', periods=5, freq='Q')\nindex",
      "execution_count": 21,
      "outputs": [
        {
          "output_type": "execute_result",
          "execution_count": 21,
          "data": {
            "text/plain": "DatetimeIndex(['2015-03-31', '2015-06-30', '2015-09-30', '2015-12-31',\n               '2016-03-31'],\n              dtype='datetime64[ns]', freq='Q-DEC')"
          },
          "metadata": {}
        }
      ]
    },
    {
      "metadata": {
        "trusted": true
      },
      "cell_type": "code",
      "source": "index = pd.date_range('1/1/2015', periods=5, freq='BA')\nindex",
      "execution_count": 22,
      "outputs": [
        {
          "output_type": "execute_result",
          "execution_count": 22,
          "data": {
            "text/plain": "DatetimeIndex(['2015-12-31', '2016-12-30', '2017-12-29', '2018-12-31',\n               '2019-12-31'],\n              dtype='datetime64[ns]', freq='BA-DEC')"
          },
          "metadata": {}
        }
      ]
    },
    {
      "metadata": {
        "trusted": true
      },
      "cell_type": "code",
      "source": "",
      "execution_count": null,
      "outputs": []
    }
  ],
  "metadata": {
    "kernelspec": {
      "name": "python36",
      "display_name": "Python 3.6",
      "language": "python"
    },
    "language_info": {
      "mimetype": "text/x-python",
      "nbconvert_exporter": "python",
      "name": "python",
      "pygments_lexer": "ipython3",
      "version": "3.6.6",
      "file_extension": ".py",
      "codemirror_mode": {
        "version": 3,
        "name": "ipython"
      }
    }
  },
  "nbformat": 4,
  "nbformat_minor": 2
}