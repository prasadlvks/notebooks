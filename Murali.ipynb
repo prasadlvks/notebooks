{
  "cells": [
    {
      "metadata": {
        "trusted": true
      },
      "cell_type": "code",
      "source": "import pandas as pd\nfrom statsmodels.tsa.arima_model import ARIMA\nfrom matplotlib  import pyplot\nfrom matplotlib.pyplot import figure",
      "execution_count": 1,
      "outputs": []
    },
    {
      "metadata": {
        "trusted": true
      },
      "cell_type": "code",
      "source": "index = pd.date_range('11/07/2019', periods=35, freq='D')\ndf = pd.read_csv('Murali.csv',parse_dates=True)",
      "execution_count": 2,
      "outputs": []
    },
    {
      "metadata": {
        "trusted": true
      },
      "cell_type": "code",
      "source": "df.set_index(index, inplace=True)\ndf.head()",
      "execution_count": 3,
      "outputs": [
        {
          "output_type": "execute_result",
          "execution_count": 3,
          "data": {
            "text/html": "<div>\n<style scoped>\n    .dataframe tbody tr th:only-of-type {\n        vertical-align: middle;\n    }\n\n    .dataframe tbody tr th {\n        vertical-align: top;\n    }\n\n    .dataframe thead th {\n        text-align: right;\n    }\n</style>\n<table border=\"1\" class=\"dataframe\">\n  <thead>\n    <tr style=\"text-align: right;\">\n      <th></th>\n      <th>Date</th>\n      <th>DBSize</th>\n    </tr>\n  </thead>\n  <tbody>\n    <tr>\n      <th>2019-12-07</th>\n      <td>12/7/2019 6:59</td>\n      <td>5.42</td>\n    </tr>\n    <tr>\n      <th>2019-12-08</th>\n      <td>12/8/2019 6:15</td>\n      <td>5.48</td>\n    </tr>\n    <tr>\n      <th>2019-12-09</th>\n      <td>12/9/2019 6:58</td>\n      <td>5.53</td>\n    </tr>\n    <tr>\n      <th>2019-12-10</th>\n      <td>12/10/2019 6:57</td>\n      <td>5.58</td>\n    </tr>\n    <tr>\n      <th>2019-12-11</th>\n      <td>12/11/2019 6:58</td>\n      <td>5.64</td>\n    </tr>\n  </tbody>\n</table>\n</div>",
            "text/plain": "                       Date  DBSize\n2019-12-07   12/7/2019 6:59    5.42\n2019-12-08   12/8/2019 6:15    5.48\n2019-12-09   12/9/2019 6:58    5.53\n2019-12-10  12/10/2019 6:57    5.58\n2019-12-11  12/11/2019 6:58    5.64"
          },
          "metadata": {}
        }
      ]
    },
    {
      "metadata": {
        "trusted": true
      },
      "cell_type": "code",
      "source": "df.drop('Date', axis=1, inplace=True)",
      "execution_count": 4,
      "outputs": []
    },
    {
      "metadata": {
        "trusted": true
      },
      "cell_type": "code",
      "source": "model = ARIMA([x for x in df.values], order=(5,1,0))\nmodel_fit = model.fit(disp=0)",
      "execution_count": 9,
      "outputs": []
    },
    {
      "metadata": {
        "trusted": true
      },
      "cell_type": "code",
      "source": "output = model_fit.forecast(steps=200)[0]\ndfo=pd.DataFrame(output,columns=['DBSize'])\ndfoindex = pd.date_range('12/12/2019', periods=200, freq='D')\ndfo.set_index(dfoindex, inplace=True)",
      "execution_count": 6,
      "outputs": []
    },
    {
      "metadata": {
        "trusted": true
      },
      "cell_type": "code",
      "source": "dfoutput = pd.concat([df, dfo], axis=0)",
      "execution_count": 7,
      "outputs": []
    },
    {
      "metadata": {
        "trusted": true
      },
      "cell_type": "code",
      "source": "pyplot.figure(figsize=(12,6))\npyplot.plot(dfoutput,linewidth=4,color='green')\npyplot.plot(df,linewidth=4,color='red')",
      "execution_count": 14,
      "outputs": [
        {
          "output_type": "execute_result",
          "execution_count": 14,
          "data": {
            "text/plain": "[<matplotlib.lines.Line2D at 0x7fa10b84c5c0>]"
          },
          "metadata": {}
        },
        {
          "output_type": "display_data",
          "data": {
            "image/png": "[encoded data removed]",
            "text/plain": "<Figure size 864x432 with 1 Axes>"
          },
          "metadata": {
            "needs_background": "light"
          }
        }
      ]
    },
    {
      "metadata": {
        "trusted": true
      },
      "cell_type": "code",
      "source": "",
      "execution_count": null,
      "outputs": []
    }
  ],
  "metadata": {
    "kernelspec": {
      "name": "python36",
      "display_name": "Python 3.6",
      "language": "python"
    },
    "language_info": {
      "mimetype": "text/x-python",
      "nbconvert_exporter": "python",
      "name": "python",
      "pygments_lexer": "ipython3",
      "version": "3.6.6",
      "file_extension": ".py",
      "codemirror_mode": {
        "version": 3,
        "name": "ipython"
      }
    }
  },
  "nbformat": 4,
  "nbformat_minor": 2
}