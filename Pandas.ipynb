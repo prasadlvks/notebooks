{
  "cells": [
    {
      "metadata": {
        "trusted": true
      },
      "cell_type": "code",
      "source": "#pandas\n#Series - 1 dimension - array, sizeimmutable\n#Dataframe - 2 dimension - size-mutable tabular structure with potentially heterogeneously typed columns\n#Panel - 3 dimension - size-mutable array\nimport pandas\ns=pandas.Series()\nprint(s)",
      "execution_count": 2,
      "outputs": [
        {
          "output_type": "stream",
          "text": "Series([], dtype: float64)\n",
          "name": "stdout"
        }
      ]
    },
    {
      "metadata": {
        "trusted": true
      },
      "cell_type": "code",
      "source": "import pandas\nimport numpy\ndata = numpy.array(['a','b','c','d'])\ns=pandas.Series(data)\nprint(s)",
      "execution_count": 3,
      "outputs": [
        {
          "output_type": "stream",
          "text": "0    a\n1    b\n2    c\n3    d\ndtype: object\n",
          "name": "stdout"
        }
      ]
    },
    {
      "metadata": {
        "trusted": true
      },
      "cell_type": "code",
      "source": "import pandas\nimport numpy\ndata = numpy.array(['a','b','c','d'])\ns=pandas.Series(data,index=[100,101,102,103])\nprint(s)",
      "execution_count": 4,
      "outputs": [
        {
          "output_type": "stream",
          "text": "100    a\n101    b\n102    c\n103    d\ndtype: object\n",
          "name": "stdout"
        }
      ]
    },
    {
      "metadata": {
        "trusted": true
      },
      "cell_type": "code",
      "source": "import pandas\nimport numpy\ndata = {'a' : 0., 'b' : 1., 'c' : 2.}\nprint(data)\ns = pandas.Series(data)\nprint(s)",
      "execution_count": 5,
      "outputs": [
        {
          "output_type": "stream",
          "text": "{'a': 0.0, 'b': 1.0, 'c': 2.0}\na    0.0\nb    1.0\nc    2.0\ndtype: float64\n",
          "name": "stdout"
        }
      ]
    },
    {
      "metadata": {
        "trusted": true
      },
      "cell_type": "code",
      "source": "#A Data frame is a two-dimensional data structure, i.e., data is aligned in a tabular fashion in rows and columns.\n#A pandas DataFrame can be created using various inputs like −\n# Lists\n# dict\n# Series\n# Numpy ndarrays\n# Another DataFrame\nimport pandas as pd\ndf = pd.DataFrame()\nprint(df)",
      "execution_count": 6,
      "outputs": [
        {
          "output_type": "stream",
          "text": "Empty DataFrame\nColumns: []\nIndex: []\n",
          "name": "stdout"
        }
      ]
    },
    {
      "metadata": {
        "trusted": true
      },
      "cell_type": "code",
      "source": "import pandas\ndata= [['Alex',10],['Bob',12],['Clarke',13]]\ndf = pd.DataFrame(data)\nprint(df)",
      "execution_count": 8,
      "outputs": [
        {
          "output_type": "stream",
          "text": "        0   1\n0    Alex  10\n1     Bob  12\n2  Clarke  13\n",
          "name": "stdout"
        }
      ]
    },
    {
      "metadata": {
        "trusted": true
      },
      "cell_type": "code",
      "source": "import pandas\ndata= [['Alex',10],['Bob',12],['Clarke',13]]\ndf = pandas.DataFrame(data,columns=['Name','Age'])\ndf.head",
      "execution_count": 1,
      "outputs": [
        {
          "output_type": "execute_result",
          "execution_count": 1,
          "data": {
            "text/plain": "<bound method NDFrame.head of      Name  Age\n0    Alex   10\n1     Bob   12\n2  Clarke   13>"
          },
          "metadata": {}
        }
      ]
    },
    {
      "metadata": {
        "trusted": true
      },
      "cell_type": "code",
      "source": "import pandas\ndata = {'Name':['Tom', 'Jack', 'Steve', 'Ricky'],'Age':[28,34,29,42]}\ndf = pandas.DataFrame(data)\ndf.head",
      "execution_count": 2,
      "outputs": [
        {
          "output_type": "execute_result",
          "execution_count": 2,
          "data": {
            "text/plain": "<bound method NDFrame.head of    Age   Name\n0   28    Tom\n1   34   Jack\n2   29  Steve\n3   42  Ricky>"
          },
          "metadata": {}
        }
      ]
    },
    {
      "metadata": {
        "trusted": true
      },
      "cell_type": "code",
      "source": "import pandas\ndata = [{'a': 1, 'b': 2},{'a': 5, 'b': 10, 'c': 20}]\ndf = pandas.DataFrame(data)\nprint(df)",
      "execution_count": 16,
      "outputs": [
        {
          "output_type": "stream",
          "text": "   a   b     c\n0  1   2   NaN\n1  5  10  20.0\n",
          "name": "stdout"
        }
      ]
    },
    {
      "metadata": {
        "trusted": true
      },
      "cell_type": "code",
      "source": "import pandas\ndata = {'Name':['Tom', 'Jack', 'Steve', 'Ricky'],'Age':[28,34,29,42]}\ndf = pandas.DataFrame(data)\nprint(df)\nsorteddf=df.sort_index(ascending=False)\nprint(sorteddf)",
      "execution_count": 19,
      "outputs": [
        {
          "output_type": "stream",
          "text": "   Age   Name\n0   28    Tom\n1   34   Jack\n2   29  Steve\n3   42  Ricky\n   Age   Name\n3   42  Ricky\n2   29  Steve\n1   34   Jack\n0   28    Tom\n",
          "name": "stdout"
        }
      ]
    },
    {
      "metadata": {
        "trusted": true
      },
      "cell_type": "code",
      "source": "import pandas\ndata = {'Name':['Tom', 'Jack', 'Steve', 'Ricky'],'Age':[28,34,29,42]}\ndf = pandas.DataFrame(data)\nprint(df)\nsorteddf=df.sort_values(by='Age')\nprint(sorteddf)",
      "execution_count": 23,
      "outputs": [
        {
          "output_type": "stream",
          "text": "   Age   Name\n0   28    Tom\n1   34   Jack\n2   29  Steve\n3   42  Ricky\n   Age   Name\n0   28    Tom\n2   29  Steve\n1   34   Jack\n3   42  Ricky\n",
          "name": "stdout"
        }
      ]
    },
    {
      "metadata": {
        "trusted": true
      },
      "cell_type": "code",
      "source": "import pandas as pd\nipl_data = {'Team': ['Riders', 'Riders', 'Devils', 'Devils', 'Kings',\n         'kings', 'Kings', 'Kings', 'Riders', 'Royals', 'Royals', 'Riders'],\n         'Rank': [1, 2, 2, 3, 3,4 ,1 ,1,2 , 4,1,2],\n         'Year': [2014,2015,2014,2015,2014,2015,2016,2017,2016,2014,2015,2017],\n         'Points':[876,789,863,673,741,812,756,788,694,701,804,690]}\ndf = pd.DataFrame(ipl_data)\ndf.head",
      "execution_count": 3,
      "outputs": [
        {
          "output_type": "execute_result",
          "execution_count": 3,
          "data": {
            "text/plain": "<bound method NDFrame.head of     Points  Rank    Team  Year\n0      876     1  Riders  2014\n1      789     2  Riders  2015\n2      863     2  Devils  2014\n3      673     3  Devils  2015\n4      741     3   Kings  2014\n5      812     4   kings  2015\n6      756     1   Kings  2016\n7      788     1   Kings  2017\n8      694     2  Riders  2016\n9      701     4  Royals  2014\n10     804     1  Royals  2015\n11     690     2  Riders  2017>"
          },
          "metadata": {}
        }
      ]
    },
    {
      "metadata": {},
      "cell_type": "raw",
      "source": ""
    },
    {
      "metadata": {
        "trusted": true
      },
      "cell_type": "code",
      "source": "import pandas as pd\nipl_data = {'Team': ['Riders', 'Riders', 'Devils', 'Devils', 'Kings',\n         'kings', 'Kings', 'Kings', 'Riders', 'Royals', 'Royals', 'Riders'],\n         'Rank': [1, 2, 2, 3, 3,4 ,1 ,1,2 , 4,1,2],\n         'Year': [2014,2015,2014,2015,2014,2015,2016,2017,2016,2014,2015,2017],\n         'Points':[876,789,863,673,741,812,756,788,694,701,804,690]}\ndf = pd.DataFrame(ipl_data)\ngrouped=df.groupby('Year')\ngrouped2014=grouped.get_group(2014)\nprint(grouped2014)",
      "execution_count": 4,
      "outputs": [
        {
          "output_type": "stream",
          "text": "     Team  Rank  Year  Points\n0  Riders     1  2014     876\n2  Devils     2  2014     863\n4   Kings     3  2014     741\n9  Royals     4  2014     701\n",
          "name": "stdout"
        }
      ]
    },
    {
      "metadata": {
        "trusted": true
      },
      "cell_type": "code",
      "source": "import pandas as pd\nipl_data = {'Team': ['Riders', 'Riders', 'Devils', 'Devils', 'Kings',\n         'kings', 'Kings', 'Kings', 'Riders', 'Royals', 'Royals', 'Riders'],\n         'Rank': [1, 2, 2, 3, 3,4 ,1 ,1,2 , 4,1,2],\n         'Year': [2014,2015,2014,2015,2014,2015,2016,2017,2016,2014,2015,2017],\n         'Points':[876,789,863,673,741,812,756,788,694,701,804,690]}\ndf = pd.DataFrame(ipl_data)\ngrouped=df.groupby('Year')\nfor name,group in grouped:\n    print(name)\n    print(group)",
      "execution_count": 38,
      "outputs": [
        {
          "output_type": "stream",
          "text": "2014\n   Points  Rank    Team  Year\n0     876     1  Riders  2014\n2     863     2  Devils  2014\n4     741     3   Kings  2014\n9     701     4  Royals  2014\n2015\n    Points  Rank    Team  Year\n1      789     2  Riders  2015\n3      673     3  Devils  2015\n5      812     4   kings  2015\n10     804     1  Royals  2015\n2016\n   Points  Rank    Team  Year\n6     756     1   Kings  2016\n8     694     2  Riders  2016\n2017\n    Points  Rank    Team  Year\n7      788     1   Kings  2017\n11     690     2  Riders  2017\n",
          "name": "stdout"
        }
      ]
    },
    {
      "metadata": {
        "trusted": true
      },
      "cell_type": "code",
      "source": "import pandas as pd\nleft = pd.DataFrame({\n         'id':[1,2,3,4,5],\n         'Name': ['Alex', 'Amy', 'Allen', 'Alice', 'Ayoung'],\n         'subject_id':['sub1','sub2','sub4','sub6','sub5']})\nright = pd.DataFrame(\n         {'id':[1,2,3,4,5],\n         'Name': ['Billy', 'Brian', 'Bran', 'Bryce', 'Betty'],\n         'subject_id':['sub2','sub4','sub3','sub6','sub5']})\nprint(left)\nprint(right)",
      "execution_count": 42,
      "outputs": [
        {
          "output_type": "stream",
          "text": "     Name  id subject_id\n0    Alex   1       sub1\n1     Amy   2       sub2\n2   Allen   3       sub4\n3   Alice   4       sub6\n4  Ayoung   5       sub5\n    Name  id subject_id\n0  Billy   1       sub2\n1  Brian   2       sub4\n2   Bran   3       sub3\n3  Bryce   4       sub6\n4  Betty   5       sub5\n",
          "name": "stdout"
        }
      ]
    },
    {
      "metadata": {
        "trusted": true
      },
      "cell_type": "code",
      "source": "import pandas as pd\ndata={'day':['1/1/2018','1/3/2018','1/2/2018'],'teparature':[23,32,34]}\ndf=pd.DataFrame(data)\ndf",
      "execution_count": 5,
      "outputs": [
        {
          "output_type": "execute_result",
          "execution_count": 5,
          "data": {
            "text/html": "<div>\n<style scoped>\n    .dataframe tbody tr th:only-of-type {\n        vertical-align: middle;\n    }\n\n    .dataframe tbody tr th {\n        vertical-align: top;\n    }\n\n    .dataframe thead th {\n        text-align: right;\n    }\n</style>\n<table border=\"1\" class=\"dataframe\">\n  <thead>\n    <tr style=\"text-align: right;\">\n      <th></th>\n      <th>day</th>\n      <th>teparature</th>\n    </tr>\n  </thead>\n  <tbody>\n    <tr>\n      <th>0</th>\n      <td>1/1/2018</td>\n      <td>23</td>\n    </tr>\n    <tr>\n      <th>1</th>\n      <td>1/3/2018</td>\n      <td>32</td>\n    </tr>\n    <tr>\n      <th>2</th>\n      <td>1/2/2018</td>\n      <td>34</td>\n    </tr>\n  </tbody>\n</table>\n</div>",
            "text/plain": "        day  teparature\n0  1/1/2018          23\n1  1/3/2018          32\n2  1/2/2018          34"
          },
          "metadata": {}
        }
      ]
    },
    {
      "metadata": {
        "trusted": true
      },
      "cell_type": "code",
      "source": "import pandas as pd\ndata={'day':['1/1/2018','1/3/2018','1/2/2018'],'teparature':[23,32,34]}\ndf=pd.DataFrame(data)\ndf[0:1]",
      "execution_count": 6,
      "outputs": [
        {
          "output_type": "execute_result",
          "execution_count": 6,
          "data": {
            "text/html": "<div>\n<style scoped>\n    .dataframe tbody tr th:only-of-type {\n        vertical-align: middle;\n    }\n\n    .dataframe tbody tr th {\n        vertical-align: top;\n    }\n\n    .dataframe thead th {\n        text-align: right;\n    }\n</style>\n<table border=\"1\" class=\"dataframe\">\n  <thead>\n    <tr style=\"text-align: right;\">\n      <th></th>\n      <th>day</th>\n      <th>teparature</th>\n    </tr>\n  </thead>\n  <tbody>\n    <tr>\n      <th>0</th>\n      <td>1/1/2018</td>\n      <td>23</td>\n    </tr>\n  </tbody>\n</table>\n</div>",
            "text/plain": "        day  teparature\n0  1/1/2018          23"
          },
          "metadata": {}
        }
      ]
    },
    {
      "metadata": {
        "trusted": true
      },
      "cell_type": "code",
      "source": "import pandas as pd\ndata={'day':['1/1/2018','1/3/2018','1/2/2018'],'teparature':[23,32,34]}\ndf=pd.DataFrame(data)\ndf.teparature",
      "execution_count": 17,
      "outputs": [
        {
          "output_type": "execute_result",
          "execution_count": 17,
          "data": {
            "text/plain": "0    23\n1    32\n2    34\nName: teparature, dtype: int64"
          },
          "metadata": {}
        }
      ]
    },
    {
      "metadata": {
        "trusted": true
      },
      "cell_type": "code",
      "source": "import pandas as pd\ndata={'day':['1/1/2018','1/3/2018','1/2/2018'],'teparature':[23,32,34]}\ndf=pd.DataFrame(data)\ndf['teparature'].max()",
      "execution_count": 5,
      "outputs": [
        {
          "output_type": "execute_result",
          "execution_count": 5,
          "data": {
            "text/plain": "34"
          },
          "metadata": {}
        }
      ]
    },
    {
      "metadata": {
        "trusted": true
      },
      "cell_type": "code",
      "source": "# dict to dataframe\nimport pandas as pd\ndata={'day':['1/1/2018','1/3/2018','1/2/2018'],'teparature':[23,32,34]}\ndf=pd.DataFrame(data)\ndf[df.teparature>=32]\ndf",
      "execution_count": 3,
      "outputs": [
        {
          "output_type": "execute_result",
          "execution_count": 3,
          "data": {
            "text/plain": "pandas.core.frame.DataFrame"
          },
          "metadata": {}
        }
      ]
    },
    {
      "metadata": {
        "trusted": true
      },
      "cell_type": "code",
      "source": "import pandas as pd\ndata={'day':['1/1/2018','1/3/2018','1/2/2018'],'teparature':[23,32,34]}\ndf=pd.DataFrame(data)\ndf[df.teparature==df['teparature'].max()]",
      "execution_count": 14,
      "outputs": [
        {
          "output_type": "execute_result",
          "execution_count": 14,
          "data": {
            "text/html": "<div>\n<style scoped>\n    .dataframe tbody tr th:only-of-type {\n        vertical-align: middle;\n    }\n\n    .dataframe tbody tr th {\n        vertical-align: top;\n    }\n\n    .dataframe thead th {\n        text-align: right;\n    }\n</style>\n<table border=\"1\" class=\"dataframe\">\n  <thead>\n    <tr style=\"text-align: right;\">\n      <th></th>\n      <th>day</th>\n      <th>teparature</th>\n    </tr>\n  </thead>\n  <tbody>\n    <tr>\n      <th>2</th>\n      <td>1/2/2018</td>\n      <td>34</td>\n    </tr>\n  </tbody>\n</table>\n</div>",
            "text/plain": "        day  teparature\n2  1/2/2018          34"
          },
          "metadata": {}
        }
      ]
    },
    {
      "metadata": {
        "trusted": true
      },
      "cell_type": "code",
      "source": "import pandas as pd\ndrinks = pd.DataFrame({'country':['India','India','India','China','China','China'],'day':['1/1/2018','1/3/2018','1/2/2018','1/1/2018','1/3/2018','1/2/2018'],'temparature':[23,32,34,24,33,35]})\ndrinks.head()",
      "execution_count": 24,
      "outputs": [
        {
          "output_type": "execute_result",
          "execution_count": 24,
          "data": {
            "text/html": "<div>\n<style scoped>\n    .dataframe tbody tr th:only-of-type {\n        vertical-align: middle;\n    }\n\n    .dataframe tbody tr th {\n        vertical-align: top;\n    }\n\n    .dataframe thead th {\n        text-align: right;\n    }\n</style>\n<table border=\"1\" class=\"dataframe\">\n  <thead>\n    <tr style=\"text-align: right;\">\n      <th></th>\n      <th>country</th>\n      <th>day</th>\n      <th>temparature</th>\n    </tr>\n  </thead>\n  <tbody>\n    <tr>\n      <th>0</th>\n      <td>India</td>\n      <td>1/1/2018</td>\n      <td>23</td>\n    </tr>\n    <tr>\n      <th>1</th>\n      <td>India</td>\n      <td>1/3/2018</td>\n      <td>32</td>\n    </tr>\n    <tr>\n      <th>2</th>\n      <td>India</td>\n      <td>1/2/2018</td>\n      <td>34</td>\n    </tr>\n    <tr>\n      <th>3</th>\n      <td>China</td>\n      <td>1/1/2018</td>\n      <td>24</td>\n    </tr>\n    <tr>\n      <th>4</th>\n      <td>China</td>\n      <td>1/3/2018</td>\n      <td>33</td>\n    </tr>\n  </tbody>\n</table>\n</div>",
            "text/plain": "  country       day  temparature\n0   India  1/1/2018           23\n1   India  1/3/2018           32\n2   India  1/2/2018           34\n3   China  1/1/2018           24\n4   China  1/3/2018           33"
          },
          "metadata": {}
        }
      ]
    },
    {
      "metadata": {
        "trusted": true
      },
      "cell_type": "code",
      "source": "drinks.day",
      "execution_count": 25,
      "outputs": [
        {
          "output_type": "execute_result",
          "execution_count": 25,
          "data": {
            "text/plain": "0    1/1/2018\n1    1/3/2018\n2    1/2/2018\n3    1/1/2018\n4    1/3/2018\n5    1/2/2018\nName: day, dtype: object"
          },
          "metadata": {}
        }
      ]
    },
    {
      "metadata": {
        "trusted": true
      },
      "cell_type": "code",
      "source": "drinks.temparature",
      "execution_count": 27,
      "outputs": [
        {
          "output_type": "execute_result",
          "execution_count": 27,
          "data": {
            "text/plain": "0    23\n1    32\n2    34\n3    24\n4    33\n5    35\nName: temparature, dtype: int64"
          },
          "metadata": {}
        }
      ]
    },
    {
      "metadata": {
        "trusted": true
      },
      "cell_type": "code",
      "source": "drinks.country",
      "execution_count": 28,
      "outputs": [
        {
          "output_type": "execute_result",
          "execution_count": 28,
          "data": {
            "text/plain": "0    India\n1    India\n2    India\n3    China\n4    China\n5    China\nName: country, dtype: object"
          },
          "metadata": {}
        }
      ]
    },
    {
      "metadata": {
        "trusted": true
      },
      "cell_type": "code",
      "source": "drinks.groupby('country').max()",
      "execution_count": 29,
      "outputs": [
        {
          "output_type": "execute_result",
          "execution_count": 29,
          "data": {
            "text/html": "<div>\n<style scoped>\n    .dataframe tbody tr th:only-of-type {\n        vertical-align: middle;\n    }\n\n    .dataframe tbody tr th {\n        vertical-align: top;\n    }\n\n    .dataframe thead th {\n        text-align: right;\n    }\n</style>\n<table border=\"1\" class=\"dataframe\">\n  <thead>\n    <tr style=\"text-align: right;\">\n      <th></th>\n      <th>day</th>\n      <th>temparature</th>\n    </tr>\n    <tr>\n      <th>country</th>\n      <th></th>\n      <th></th>\n    </tr>\n  </thead>\n  <tbody>\n    <tr>\n      <th>China</th>\n      <td>1/3/2018</td>\n      <td>35</td>\n    </tr>\n    <tr>\n      <th>India</th>\n      <td>1/3/2018</td>\n      <td>34</td>\n    </tr>\n  </tbody>\n</table>\n</div>",
            "text/plain": "              day  temparature\ncountry                       \nChina    1/3/2018           35\nIndia    1/3/2018           34"
          },
          "metadata": {}
        }
      ]
    },
    {
      "metadata": {
        "trusted": true
      },
      "cell_type": "code",
      "source": "drinks.groupby('country').mean()",
      "execution_count": 30,
      "outputs": [
        {
          "output_type": "execute_result",
          "execution_count": 30,
          "data": {
            "text/html": "<div>\n<style scoped>\n    .dataframe tbody tr th:only-of-type {\n        vertical-align: middle;\n    }\n\n    .dataframe tbody tr th {\n        vertical-align: top;\n    }\n\n    .dataframe thead th {\n        text-align: right;\n    }\n</style>\n<table border=\"1\" class=\"dataframe\">\n  <thead>\n    <tr style=\"text-align: right;\">\n      <th></th>\n      <th>temparature</th>\n    </tr>\n    <tr>\n      <th>country</th>\n      <th></th>\n    </tr>\n  </thead>\n  <tbody>\n    <tr>\n      <th>China</th>\n      <td>30.666667</td>\n    </tr>\n    <tr>\n      <th>India</th>\n      <td>29.666667</td>\n    </tr>\n  </tbody>\n</table>\n</div>",
            "text/plain": "         temparature\ncountry             \nChina      30.666667\nIndia      29.666667"
          },
          "metadata": {}
        }
      ]
    },
    {
      "metadata": {
        "trusted": true
      },
      "cell_type": "code",
      "source": "drinks.groupby('country').temparature.mean()",
      "execution_count": 31,
      "outputs": [
        {
          "output_type": "execute_result",
          "execution_count": 31,
          "data": {
            "text/plain": "country\nChina    30.666667\nIndia    29.666667\nName: temparature, dtype: float64"
          },
          "metadata": {}
        }
      ]
    },
    {
      "metadata": {
        "trusted": true
      },
      "cell_type": "code",
      "source": "drinks[drinks.country=='India'].temparature.mean()",
      "execution_count": 32,
      "outputs": [
        {
          "output_type": "execute_result",
          "execution_count": 32,
          "data": {
            "text/plain": "29.666666666666668"
          },
          "metadata": {}
        }
      ]
    },
    {
      "metadata": {
        "trusted": true
      },
      "cell_type": "code",
      "source": "drinks.groupby('country').temparature.agg(['count','min','max','mean'])",
      "execution_count": 37,
      "outputs": [
        {
          "output_type": "execute_result",
          "execution_count": 37,
          "data": {
            "text/html": "<div>\n<style scoped>\n    .dataframe tbody tr th:only-of-type {\n        vertical-align: middle;\n    }\n\n    .dataframe tbody tr th {\n        vertical-align: top;\n    }\n\n    .dataframe thead th {\n        text-align: right;\n    }\n</style>\n<table border=\"1\" class=\"dataframe\">\n  <thead>\n    <tr style=\"text-align: right;\">\n      <th></th>\n      <th>count</th>\n      <th>min</th>\n      <th>max</th>\n      <th>mean</th>\n    </tr>\n    <tr>\n      <th>country</th>\n      <th></th>\n      <th></th>\n      <th></th>\n      <th></th>\n    </tr>\n  </thead>\n  <tbody>\n    <tr>\n      <th>China</th>\n      <td>3</td>\n      <td>24</td>\n      <td>35</td>\n      <td>30.666667</td>\n    </tr>\n    <tr>\n      <th>India</th>\n      <td>3</td>\n      <td>23</td>\n      <td>34</td>\n      <td>29.666667</td>\n    </tr>\n  </tbody>\n</table>\n</div>",
            "text/plain": "         count  min  max       mean\ncountry                            \nChina        3   24   35  30.666667\nIndia        3   23   34  29.666667"
          },
          "metadata": {}
        }
      ]
    },
    {
      "metadata": {
        "trusted": true
      },
      "cell_type": "code",
      "source": "import pandas as pd\nimport numpy as np",
      "execution_count": 2,
      "outputs": []
    },
    {
      "metadata": {
        "trusted": true
      },
      "cell_type": "code",
      "source": "series1 = pd.Series(data=['Venkat','Balaji','Vijay'], index=['dn','ds','rpa'])",
      "execution_count": 4,
      "outputs": []
    },
    {
      "metadata": {
        "trusted": true
      },
      "cell_type": "code",
      "source": "series1",
      "execution_count": 5,
      "outputs": [
        {
          "output_type": "execute_result",
          "execution_count": 5,
          "data": {
            "text/plain": "dn     Venkat\nds     Balaji\nrpa     Vijay\ndtype: object"
          },
          "metadata": {}
        }
      ]
    },
    {
      "metadata": {
        "trusted": true
      },
      "cell_type": "code",
      "source": "series2 = pd.Series(data=['Venkat','Balaji','Vijay'], index=['dn','ds','rpa'])",
      "execution_count": 6,
      "outputs": []
    },
    {
      "metadata": {
        "trusted": true
      },
      "cell_type": "code",
      "source": "series2",
      "execution_count": 7,
      "outputs": [
        {
          "output_type": "execute_result",
          "execution_count": 7,
          "data": {
            "text/plain": "dn     Venkat\nds     Balaji\nrpa     Vijay\ndtype: object"
          },
          "metadata": {}
        }
      ]
    },
    {
      "metadata": {
        "trusted": true
      },
      "cell_type": "code",
      "source": "series1+series2",
      "execution_count": 8,
      "outputs": [
        {
          "output_type": "execute_result",
          "execution_count": 8,
          "data": {
            "text/plain": "dn     VenkatVenkat\nds     BalajiBalaji\nrpa      VijayVijay\ndtype: object"
          },
          "metadata": {}
        }
      ]
    },
    {
      "metadata": {
        "trusted": true
      },
      "cell_type": "code",
      "source": "series3 = pd.Series(data=['a','e','i','o','u'])\nseries3",
      "execution_count": 9,
      "outputs": [
        {
          "output_type": "execute_result",
          "execution_count": 9,
          "data": {
            "text/plain": "0    a\n1    e\n2    i\n3    o\n4    u\ndtype: object"
          },
          "metadata": {}
        }
      ]
    },
    {
      "metadata": {
        "trusted": true
      },
      "cell_type": "code",
      "source": "series3[0]",
      "execution_count": 10,
      "outputs": [
        {
          "output_type": "execute_result",
          "execution_count": 10,
          "data": {
            "text/plain": "'a'"
          },
          "metadata": {}
        }
      ]
    },
    {
      "metadata": {
        "trusted": true
      },
      "cell_type": "code",
      "source": "series3 = pd.Series(3,index=['Venkat','Balaji','Vijay'])\nseries3",
      "execution_count": 4,
      "outputs": [
        {
          "output_type": "execute_result",
          "execution_count": 4,
          "data": {
            "text/plain": "Venkat    3\nBalaji    3\nVijay     3\ndtype: int64"
          },
          "metadata": {}
        }
      ]
    },
    {
      "metadata": {
        "trusted": true
      },
      "cell_type": "code",
      "source": "import pandas as pd",
      "execution_count": 1,
      "outputs": []
    },
    {
      "metadata": {
        "trusted": true
      },
      "cell_type": "code",
      "source": "sales=pd.DataFrame({'weekday':['sun','sun','mon','mon'],'city':['Austin','Dallas','Austin','Dallas'],'bread':[139,237,326,456],'butter':[20,45,70,98]})\nsales                 ",
      "execution_count": 4,
      "outputs": [
        {
          "output_type": "execute_result",
          "execution_count": 4,
          "data": {
            "text/html": "<div>\n<style scoped>\n    .dataframe tbody tr th:only-of-type {\n        vertical-align: middle;\n    }\n\n    .dataframe tbody tr th {\n        vertical-align: top;\n    }\n\n    .dataframe thead th {\n        text-align: right;\n    }\n</style>\n<table border=\"1\" class=\"dataframe\">\n  <thead>\n    <tr style=\"text-align: right;\">\n      <th></th>\n      <th>weekday</th>\n      <th>city</th>\n      <th>bread</th>\n      <th>butter</th>\n    </tr>\n  </thead>\n  <tbody>\n    <tr>\n      <th>0</th>\n      <td>sun</td>\n      <td>Austin</td>\n      <td>139</td>\n      <td>20</td>\n    </tr>\n    <tr>\n      <th>1</th>\n      <td>sun</td>\n      <td>Dallas</td>\n      <td>237</td>\n      <td>45</td>\n    </tr>\n    <tr>\n      <th>2</th>\n      <td>mon</td>\n      <td>Austin</td>\n      <td>326</td>\n      <td>70</td>\n    </tr>\n    <tr>\n      <th>3</th>\n      <td>mon</td>\n      <td>Dallas</td>\n      <td>456</td>\n      <td>98</td>\n    </tr>\n  </tbody>\n</table>\n</div>",
            "text/plain": "  weekday    city  bread  butter\n0     sun  Austin    139      20\n1     sun  Dallas    237      45\n2     mon  Austin    326      70\n3     mon  Dallas    456      98"
          },
          "metadata": {}
        }
      ]
    },
    {
      "metadata": {
        "trusted": true
      },
      "cell_type": "code",
      "source": "sales.groupby('weekday').count()",
      "execution_count": 6,
      "outputs": [
        {
          "output_type": "execute_result",
          "execution_count": 6,
          "data": {
            "text/html": "<div>\n<style scoped>\n    .dataframe tbody tr th:only-of-type {\n        vertical-align: middle;\n    }\n\n    .dataframe tbody tr th {\n        vertical-align: top;\n    }\n\n    .dataframe thead th {\n        text-align: right;\n    }\n</style>\n<table border=\"1\" class=\"dataframe\">\n  <thead>\n    <tr style=\"text-align: right;\">\n      <th></th>\n      <th>city</th>\n      <th>bread</th>\n      <th>butter</th>\n    </tr>\n    <tr>\n      <th>weekday</th>\n      <th></th>\n      <th></th>\n      <th></th>\n    </tr>\n  </thead>\n  <tbody>\n    <tr>\n      <th>mon</th>\n      <td>2</td>\n      <td>2</td>\n      <td>2</td>\n    </tr>\n    <tr>\n      <th>sun</th>\n      <td>2</td>\n      <td>2</td>\n      <td>2</td>\n    </tr>\n  </tbody>\n</table>\n</div>",
            "text/plain": "         city  bread  butter\nweekday                     \nmon         2      2       2\nsun         2      2       2"
          },
          "metadata": {}
        }
      ]
    },
    {
      "metadata": {
        "trusted": true
      },
      "cell_type": "code",
      "source": "sales.groupby('weekday')['bread'].sum()",
      "execution_count": 7,
      "outputs": [
        {
          "output_type": "execute_result",
          "execution_count": 7,
          "data": {
            "text/plain": "weekday\nmon    782\nsun    376\nName: bread, dtype: int64"
          },
          "metadata": {}
        }
      ]
    },
    {
      "metadata": {
        "trusted": true
      },
      "cell_type": "code",
      "source": "sales.groupby('weekday').sum()",
      "execution_count": 8,
      "outputs": [
        {
          "output_type": "execute_result",
          "execution_count": 8,
          "data": {
            "text/html": "<div>\n<style scoped>\n    .dataframe tbody tr th:only-of-type {\n        vertical-align: middle;\n    }\n\n    .dataframe tbody tr th {\n        vertical-align: top;\n    }\n\n    .dataframe thead th {\n        text-align: right;\n    }\n</style>\n<table border=\"1\" class=\"dataframe\">\n  <thead>\n    <tr style=\"text-align: right;\">\n      <th></th>\n      <th>bread</th>\n      <th>butter</th>\n    </tr>\n    <tr>\n      <th>weekday</th>\n      <th></th>\n      <th></th>\n    </tr>\n  </thead>\n  <tbody>\n    <tr>\n      <th>mon</th>\n      <td>782</td>\n      <td>168</td>\n    </tr>\n    <tr>\n      <th>sun</th>\n      <td>376</td>\n      <td>65</td>\n    </tr>\n  </tbody>\n</table>\n</div>",
            "text/plain": "         bread  butter\nweekday               \nmon        782     168\nsun        376      65"
          },
          "metadata": {}
        }
      ]
    },
    {
      "metadata": {
        "trusted": true
      },
      "cell_type": "code",
      "source": "sales.groupby('city')['bread'].max()",
      "execution_count": 9,
      "outputs": [
        {
          "output_type": "execute_result",
          "execution_count": 9,
          "data": {
            "text/plain": "city\nAustin    326\nDallas    456\nName: bread, dtype: int64"
          },
          "metadata": {}
        }
      ]
    },
    {
      "metadata": {
        "trusted": true
      },
      "cell_type": "code",
      "source": "sales.groupby('city')['bread','butter'].max()",
      "execution_count": 15,
      "outputs": [
        {
          "output_type": "execute_result",
          "execution_count": 15,
          "data": {
            "text/html": "<div>\n<style scoped>\n    .dataframe tbody tr th:only-of-type {\n        vertical-align: middle;\n    }\n\n    .dataframe tbody tr th {\n        vertical-align: top;\n    }\n\n    .dataframe thead th {\n        text-align: right;\n    }\n</style>\n<table border=\"1\" class=\"dataframe\">\n  <thead>\n    <tr style=\"text-align: right;\">\n      <th></th>\n      <th>bread</th>\n      <th>butter</th>\n    </tr>\n    <tr>\n      <th>city</th>\n      <th></th>\n      <th></th>\n    </tr>\n  </thead>\n  <tbody>\n    <tr>\n      <th>Austin</th>\n      <td>326</td>\n      <td>70</td>\n    </tr>\n    <tr>\n      <th>Dallas</th>\n      <td>456</td>\n      <td>98</td>\n    </tr>\n  </tbody>\n</table>\n</div>",
            "text/plain": "        bread  butter\ncity                 \nAustin    326      70\nDallas    456      98"
          },
          "metadata": {}
        }
      ]
    },
    {
      "metadata": {
        "trusted": true
      },
      "cell_type": "code",
      "source": "sales.groupby('city')['bread'].min()",
      "execution_count": 10,
      "outputs": [
        {
          "output_type": "execute_result",
          "execution_count": 10,
          "data": {
            "text/plain": "city\nAustin    139\nDallas    237\nName: bread, dtype: int64"
          },
          "metadata": {}
        }
      ]
    },
    {
      "metadata": {
        "trusted": true
      },
      "cell_type": "code",
      "source": "sales.groupby('city')['bread','butter'].agg(['max'])",
      "execution_count": 13,
      "outputs": [
        {
          "output_type": "execute_result",
          "execution_count": 13,
          "data": {
            "text/html": "<div>\n<style scoped>\n    .dataframe tbody tr th:only-of-type {\n        vertical-align: middle;\n    }\n\n    .dataframe tbody tr th {\n        vertical-align: top;\n    }\n\n    .dataframe thead tr th {\n        text-align: left;\n    }\n\n    .dataframe thead tr:last-of-type th {\n        text-align: right;\n    }\n</style>\n<table border=\"1\" class=\"dataframe\">\n  <thead>\n    <tr>\n      <th></th>\n      <th>bread</th>\n      <th>butter</th>\n    </tr>\n    <tr>\n      <th></th>\n      <th>max</th>\n      <th>max</th>\n    </tr>\n    <tr>\n      <th>city</th>\n      <th></th>\n      <th></th>\n    </tr>\n  </thead>\n  <tbody>\n    <tr>\n      <th>Austin</th>\n      <td>326</td>\n      <td>70</td>\n    </tr>\n    <tr>\n      <th>Dallas</th>\n      <td>456</td>\n      <td>98</td>\n    </tr>\n  </tbody>\n</table>\n</div>",
            "text/plain": "       bread butter\n         max    max\ncity               \nAustin   326     70\nDallas   456     98"
          },
          "metadata": {}
        }
      ]
    },
    {
      "metadata": {
        "trusted": true
      },
      "cell_type": "code",
      "source": "import pandas as pd\nimport numpy as np",
      "execution_count": 9,
      "outputs": []
    },
    {
      "metadata": {
        "trusted": true
      },
      "cell_type": "code",
      "source": "df=pd.DataFrame({'A':[1,2,3,4],\n              'B':pd.Timestamp('20200301'),\n               'C':pd.Series(1,index=list(range(4))),\n               'D':np.array([5]*4),\n                 'E':pd.Categorical(['true','false','true','false']),\n                 'F':'eduinsta',\n                 'G':[True,False,True,False],\n                })\ndf",
      "execution_count": 19,
      "outputs": [
        {
          "output_type": "execute_result",
          "execution_count": 19,
          "data": {
            "text/html": "<div>\n<style scoped>\n    .dataframe tbody tr th:only-of-type {\n        vertical-align: middle;\n    }\n\n    .dataframe tbody tr th {\n        vertical-align: top;\n    }\n\n    .dataframe thead th {\n        text-align: right;\n    }\n</style>\n<table border=\"1\" class=\"dataframe\">\n  <thead>\n    <tr style=\"text-align: right;\">\n      <th></th>\n      <th>A</th>\n      <th>B</th>\n      <th>C</th>\n      <th>D</th>\n      <th>E</th>\n      <th>F</th>\n      <th>G</th>\n    </tr>\n  </thead>\n  <tbody>\n    <tr>\n      <th>0</th>\n      <td>1</td>\n      <td>2020-03-01</td>\n      <td>1</td>\n      <td>5</td>\n      <td>true</td>\n      <td>eduinsta</td>\n      <td>True</td>\n    </tr>\n    <tr>\n      <th>1</th>\n      <td>2</td>\n      <td>2020-03-01</td>\n      <td>1</td>\n      <td>5</td>\n      <td>false</td>\n      <td>eduinsta</td>\n      <td>False</td>\n    </tr>\n    <tr>\n      <th>2</th>\n      <td>3</td>\n      <td>2020-03-01</td>\n      <td>1</td>\n      <td>5</td>\n      <td>true</td>\n      <td>eduinsta</td>\n      <td>True</td>\n    </tr>\n    <tr>\n      <th>3</th>\n      <td>4</td>\n      <td>2020-03-01</td>\n      <td>1</td>\n      <td>5</td>\n      <td>false</td>\n      <td>eduinsta</td>\n      <td>False</td>\n    </tr>\n  </tbody>\n</table>\n</div>",
            "text/plain": "   A          B  C  D      E         F      G\n0  1 2020-03-01  1  5   true  eduinsta   True\n1  2 2020-03-01  1  5  false  eduinsta  False\n2  3 2020-03-01  1  5   true  eduinsta   True\n3  4 2020-03-01  1  5  false  eduinsta  False"
          },
          "metadata": {}
        }
      ]
    },
    {
      "metadata": {
        "trusted": true
      },
      "cell_type": "code",
      "source": "df.size",
      "execution_count": 20,
      "outputs": [
        {
          "output_type": "execute_result",
          "execution_count": 20,
          "data": {
            "text/plain": "28"
          },
          "metadata": {}
        }
      ]
    },
    {
      "metadata": {
        "trusted": true
      },
      "cell_type": "code",
      "source": "df.shape",
      "execution_count": 21,
      "outputs": [
        {
          "output_type": "execute_result",
          "execution_count": 21,
          "data": {
            "text/plain": "(4, 7)"
          },
          "metadata": {}
        }
      ]
    },
    {
      "metadata": {
        "trusted": true
      },
      "cell_type": "code",
      "source": "",
      "execution_count": null,
      "outputs": []
    }
  ],
  "metadata": {
    "kernelspec": {
      "name": "python36",
      "display_name": "Python 3.6",
      "language": "python"
    },
    "language_info": {
      "mimetype": "text/x-python",
      "nbconvert_exporter": "python",
      "name": "python",
      "pygments_lexer": "ipython3",
      "version": "3.6.6",
      "file_extension": ".py",
      "codemirror_mode": {
        "version": 3,
        "name": "ipython"
      }
    }
  },
  "nbformat": 4,
  "nbformat_minor": 1
}