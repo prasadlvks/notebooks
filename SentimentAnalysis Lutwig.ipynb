{
  "cells": [
    {
      "metadata": {
        "trusted": true
      },
      "cell_type": "code",
      "source": "from ludwig import ludwig",
      "execution_count": 5,
      "outputs": [
        {
          "output_type": "error",
          "ename": "ImportError",
          "evalue": "cannot import name 'ludwig'",
          "traceback": [
            "\u001b[0;31m---------------------------------------------------------------------------\u001b[0m",
            "\u001b[0;31mImportError\u001b[0m                               Traceback (most recent call last)",
            "\u001b[0;32m<ipython-input-5-e025949a529a>\u001b[0m in \u001b[0;36m<module>\u001b[0;34m\u001b[0m\n\u001b[0;32m----> 1\u001b[0;31m \u001b[0;32mfrom\u001b[0m \u001b[0mludwig\u001b[0m \u001b[0;32mimport\u001b[0m \u001b[0mludwig\u001b[0m\u001b[0;34m\u001b[0m\u001b[0m\n\u001b[0m",
            "\u001b[0;31mImportError\u001b[0m: cannot import name 'ludwig'"
          ]
        }
      ]
    },
    {
      "metadata": {
        "trusted": true
      },
      "cell_type": "code",
      "source": "!pip install ludwig",
      "execution_count": 3,
      "outputs": [
        {
          "output_type": "stream",
          "text": "Collecting ludwig\n\u001b[?25l  Downloading https://files.pythonhosted.org/packages/9c/59/59a658a5846cda34fc3832992e28e65d727c54a576ff48bcb3c90c3072e8/ludwig-0.2.1.tar.gz (164kB)\n\u001b[K     |████████████████████████████████| 174kB 3.6MB/s eta 0:00:01\n\u001b[?25hRequirement already satisfied: Cython>=0.25 in /home/nbuser/anaconda3_501/lib/python3.6/site-packages (from ludwig) (0.29.14)\nRequirement already satisfied: h5py>=2.6 in /home/nbuser/anaconda3_501/lib/python3.6/site-packages (from ludwig) (2.8.0)\nRequirement already satisfied: numpy>=1.15 in /home/nbuser/anaconda3_501/lib/python3.6/site-packages (from ludwig) (1.16.2)\nRequirement already satisfied: pandas>=0.19 in /home/nbuser/anaconda3_501/lib/python3.6/site-packages (from ludwig) (0.23.4)\nRequirement already satisfied: scipy>=0.18 in /home/nbuser/anaconda3_501/lib/python3.6/site-packages (from ludwig) (1.1.0)\nRequirement already satisfied: tabulate>=0.7 in /home/nbuser/anaconda3_501/lib/python3.6/site-packages (from ludwig) (0.8.2)\nRequirement already satisfied: scikit-learn in /home/nbuser/anaconda3_501/lib/python3.6/site-packages (from ludwig) (0.20.3)\nRequirement already satisfied: tqdm in /home/nbuser/anaconda3_501/lib/python3.6/site-packages (from ludwig) (4.26.0)\nCollecting tensorflow==1.14.0\n\u001b[?25l  Downloading https://files.pythonhosted.org/packages/de/f0/96fb2e0412ae9692dbf400e5b04432885f677ad6241c088ccc5fe7724d69/tensorflow-1.14.0-cp36-cp36m-manylinux1_x86_64.whl (109.2MB)\n\u001b[K     |████████████████████████████████| 109.2MB 9.0kB/s  eta 0:00:01   |███████████▉                    | 40.3MB 14.6MB/s eta 0:00:05/s eta 0:00:54     |███████████████████████████▎    | 93.1MB 9.8MB/s eta 0:00:02MB/s eta 0:00:02��█████████▋   | 97.7MB 25.3MB/s eta 0:00:01��██████████   | 98.6MB 25.3MB/s eta 0:00:01     |█████████████████████████████▊  | 101.4MB 25.3MB/s eta 0:00:01�██▊| 108.1MB 10.7MB/s eta 0:00:01\n\u001b[?25hRequirement already satisfied: PyYAML>=3.12 in /home/nbuser/anaconda3_501/lib/python3.6/site-packages (from ludwig) (3.13)\nRequirement already satisfied: absl-py in /home/nbuser/anaconda3_501/lib/python3.6/site-packages (from ludwig) (0.8.1)\nRequirement already satisfied: six in /home/nbuser/anaconda3_501/lib/python3.6/site-packages (from h5py>=2.6->ludwig) (1.11.0)\nRequirement already satisfied: pytz>=2011k in /home/nbuser/anaconda3_501/lib/python3.6/site-packages (from pandas>=0.19->ludwig) (2019.3)\nRequirement already satisfied: python-dateutil>=2.5.0 in /home/nbuser/anaconda3_501/lib/python3.6/site-packages (from pandas>=0.19->ludwig) (2.8.1)\nRequirement already satisfied: keras-applications>=1.0.6 in /home/nbuser/anaconda3_501/lib/python3.6/site-packages (from tensorflow==1.14.0->ludwig) (1.0.8)\nRequirement already satisfied: keras-preprocessing>=1.0.5 in /home/nbuser/anaconda3_501/lib/python3.6/site-packages (from tensorflow==1.14.0->ludwig) (1.1.0)\nRequirement already satisfied: grpcio>=1.8.6 in /home/nbuser/anaconda3_501/lib/python3.6/site-packages (from tensorflow==1.14.0->ludwig) (1.25.0)\nRequirement already satisfied: protobuf>=3.6.1 in /home/nbuser/anaconda3_501/lib/python3.6/site-packages (from tensorflow==1.14.0->ludwig) (3.10.0)\nRequirement already satisfied: gast>=0.2.0 in /home/nbuser/anaconda3_501/lib/python3.6/site-packages (from tensorflow==1.14.0->ludwig) (0.3.2)\nRequirement already satisfied: wheel>=0.26 in /home/nbuser/anaconda3_501/lib/python3.6/site-packages (from tensorflow==1.14.0->ludwig) (0.30.0)\nRequirement already satisfied: termcolor>=1.1.0 in /home/nbuser/anaconda3_501/lib/python3.6/site-packages (from tensorflow==1.14.0->ludwig) (1.1.0)\nCollecting tensorflow-estimator<1.15.0rc0,>=1.14.0rc0\n\u001b[?25l  Downloading https://files.pythonhosted.org/packages/3c/d5/21860a5b11caf0678fbc8319341b0ae21a07156911132e0e71bffed0510d/tensorflow_estimator-1.14.0-py2.py3-none-any.whl (488kB)\n\u001b[K     |████████████████████████████████| 491kB 10.2MB/s eta 0:00:01\n\u001b[?25hRequirement already satisfied: astor>=0.6.0 in /home/nbuser/anaconda3_501/lib/python3.6/site-packages (from tensorflow==1.14.0->ludwig) (0.8.0)\nRequirement already satisfied: google-pasta>=0.1.6 in /home/nbuser/anaconda3_501/lib/python3.6/site-packages (from tensorflow==1.14.0->ludwig) (0.1.8)\nCollecting tensorboard<1.15.0,>=1.14.0\n\u001b[?25l  Downloading https://files.pythonhosted.org/packages/91/2d/2ed263449a078cd9c8a9ba50ebd50123adf1f8cfbea1492f9084169b89d9/tensorboard-1.14.0-py3-none-any.whl (3.1MB)\n\u001b[K     |████████████████████████████████| 3.2MB 21.3MB/s eta 0:00:01\n\u001b[?25hRequirement already satisfied: wrapt>=1.11.1 in /home/nbuser/anaconda3_501/lib/python3.6/site-packages (from tensorflow==1.14.0->ludwig) (1.11.2)\nRequirement already satisfied: setuptools in /home/nbuser/anaconda3_501/lib/python3.6/site-packages (from protobuf>=3.6.1->tensorflow==1.14.0->ludwig) (41.6.0)\nRequirement already satisfied: werkzeug>=0.11.15 in /home/nbuser/anaconda3_501/lib/python3.6/site-packages (from tensorboard<1.15.0,>=1.14.0->tensorflow==1.14.0->ludwig) (0.14.1)\nRequirement already satisfied: markdown>=2.6.8 in /home/nbuser/anaconda3_501/lib/python3.6/site-packages (from tensorboard<1.15.0,>=1.14.0->tensorflow==1.14.0->ludwig) (3.0.1)\nBuilding wheels for collected packages: ludwig\n  Building wheel for ludwig (setup.py) ... \u001b[?25ldone\n\u001b[?25h  Created wheel for ludwig: filename=ludwig-0.2.1-cp36-none-any.whl size=231949 sha256=aa3987b3d653c31f429e506190e62df5b88e0f412c60ea8b55c2dd4938380b3b\n  Stored in directory: /home/nbuser/.cache/pip/wheels/fc/5d/fd/3796fa772d73a3c0888e78346f28f54100e5d5ef5562890426\nSuccessfully built ludwig\nInstalling collected packages: tensorflow-estimator, tensorboard, tensorflow, ludwig\n  Found existing installation: tensorboard 2.0.1\n    Uninstalling tensorboard-2.0.1:\n      Successfully uninstalled tensorboard-2.0.1\n  Found existing installation: tensorflow 2.0.0b1\n    Uninstalling tensorflow-2.0.0b1:\n      Successfully uninstalled tensorflow-2.0.0b1\nSuccessfully installed ludwig-0.2.1 tensorboard-1.14.0 tensorflow-1.14.0 tensorflow-estimator-1.14.0\n",
          "name": "stdout"
        }
      ]
    },
    {
      "metadata": {
        "trusted": true
      },
      "cell_type": "code",
      "source": "",
      "execution_count": null,
      "outputs": []
    }
  ],
  "metadata": {
    "kernelspec": {
      "name": "python36",
      "display_name": "Python 3.6",
      "language": "python"
    },
    "language_info": {
      "mimetype": "text/x-python",
      "nbconvert_exporter": "python",
      "name": "python",
      "pygments_lexer": "ipython3",
      "version": "3.6.6",
      "file_extension": ".py",
      "codemirror_mode": {
        "version": 3,
        "name": "ipython"
      }
    }
  },
  "nbformat": 4,
  "nbformat_minor": 2
}