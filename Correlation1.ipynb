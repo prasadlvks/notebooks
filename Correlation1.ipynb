{
  "cells": [
    {
      "metadata": {
        "trusted": true
      },
      "cell_type": "code",
      "source": "import pandas as pd\ndf=pd.DataFrame({'Subject':['A','B','C','D','E','F'],'Age':[43,48,56,61,67,70],'Pressure':[128,120,135,143,141,152]})\ndf",
      "execution_count": 3,
      "outputs": [
        {
          "output_type": "execute_result",
          "execution_count": 3,
          "data": {
            "text/html": "<div>\n<style scoped>\n    .dataframe tbody tr th:only-of-type {\n        vertical-align: middle;\n    }\n\n    .dataframe tbody tr th {\n        vertical-align: top;\n    }\n\n    .dataframe thead th {\n        text-align: right;\n    }\n</style>\n<table border=\"1\" class=\"dataframe\">\n  <thead>\n    <tr style=\"text-align: right;\">\n      <th></th>\n      <th>Age</th>\n      <th>Pressure</th>\n      <th>Subject</th>\n    </tr>\n  </thead>\n  <tbody>\n    <tr>\n      <th>0</th>\n      <td>43</td>\n      <td>128</td>\n      <td>A</td>\n    </tr>\n    <tr>\n      <th>1</th>\n      <td>48</td>\n      <td>120</td>\n      <td>B</td>\n    </tr>\n    <tr>\n      <th>2</th>\n      <td>56</td>\n      <td>135</td>\n      <td>C</td>\n    </tr>\n    <tr>\n      <th>3</th>\n      <td>61</td>\n      <td>143</td>\n      <td>D</td>\n    </tr>\n    <tr>\n      <th>4</th>\n      <td>67</td>\n      <td>141</td>\n      <td>E</td>\n    </tr>\n    <tr>\n      <th>5</th>\n      <td>70</td>\n      <td>152</td>\n      <td>F</td>\n    </tr>\n  </tbody>\n</table>\n</div>",
            "text/plain": "   Age  Pressure Subject\n0   43       128       A\n1   48       120       B\n2   56       135       C\n3   61       143       D\n4   67       141       E\n5   70       152       F"
          },
          "metadata": {}
        }
      ]
    },
    {
      "metadata": {
        "trusted": true
      },
      "cell_type": "code",
      "source": "import matplotlib.pyplot as plt\nplt.scatter(df.Age,df.Pressure)\nplt.show()",
      "execution_count": 6,
      "outputs": [
        {
          "output_type": "display_data",
          "data": {
            "image/png": "[encoded data removed]",
            "text/plain": "<Figure size 432x288 with 1 Axes>"
          },
          "metadata": {
            "needs_background": "light"
          }
        }
      ]
    },
    {
      "metadata": {
        "trusted": true
      },
      "cell_type": "code",
      "source": "df.corr()",
      "execution_count": 5,
      "outputs": [
        {
          "output_type": "execute_result",
          "execution_count": 5,
          "data": {
            "text/html": "<div>\n<style scoped>\n    .dataframe tbody tr th:only-of-type {\n        vertical-align: middle;\n    }\n\n    .dataframe tbody tr th {\n        vertical-align: top;\n    }\n\n    .dataframe thead th {\n        text-align: right;\n    }\n</style>\n<table border=\"1\" class=\"dataframe\">\n  <thead>\n    <tr style=\"text-align: right;\">\n      <th></th>\n      <th>Age</th>\n      <th>Pressure</th>\n    </tr>\n  </thead>\n  <tbody>\n    <tr>\n      <th>Age</th>\n      <td>1.000000</td>\n      <td>0.896673</td>\n    </tr>\n    <tr>\n      <th>Pressure</th>\n      <td>0.896673</td>\n      <td>1.000000</td>\n    </tr>\n  </tbody>\n</table>\n</div>",
            "text/plain": "               Age  Pressure\nAge       1.000000  0.896673\nPressure  0.896673  1.000000"
          },
          "metadata": {}
        }
      ]
    },
    {
      "metadata": {
        "trusted": true
      },
      "cell_type": "code",
      "source": "#Result from table F\n#Critical values obtained from table F +2.776 and -2.776",
      "execution_count": null,
      "outputs": []
    },
    {
      "metadata": {
        "trusted": true
      },
      "cell_type": "code",
      "source": "import math\ntvalue=0.896673 * math.sqrt((6-2)/(1-0.896673 * 0.896673))\ntvalue",
      "execution_count": 8,
      "outputs": [
        {
          "output_type": "execute_result",
          "execution_count": 8,
          "data": {
            "text/plain": "4.050987913110236"
          },
          "metadata": {}
        }
      ]
    },
    {
      "metadata": {
        "trusted": true
      },
      "cell_type": "code",
      "source": "",
      "execution_count": null,
      "outputs": []
    }
  ],
  "metadata": {
    "kernelspec": {
      "name": "python36",
      "display_name": "Python 3.6",
      "language": "python"
    },
    "language_info": {
      "mimetype": "text/x-python",
      "nbconvert_exporter": "python",
      "name": "python",
      "pygments_lexer": "ipython3",
      "version": "3.6.6",
      "file_extension": ".py",
      "codemirror_mode": {
        "version": 3,
        "name": "ipython"
      }
    }
  },
  "nbformat": 4,
  "nbformat_minor": 2
}