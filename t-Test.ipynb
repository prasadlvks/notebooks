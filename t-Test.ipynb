{
  "cells": [
    {
      "metadata": {
        "collapsed": true
      },
      "cell_type": "markdown",
      "source": "Paired t-test is used for comparing two different interventions opplied on the same sample"
    },
    {
      "metadata": {
        "trusted": true
      },
      "cell_type": "code",
      "source": "import pandas as pd\nfrom scipy import stats",
      "execution_count": 3,
      "outputs": []
    },
    {
      "metadata": {
        "trusted": true
      },
      "cell_type": "code",
      "source": "#Alchohol cnsumption before and after breakup  \nbreakups_df = pd.read_csv('breakups.csv')\nbreakups_df[0:5]",
      "execution_count": 5,
      "outputs": [
        {
          "output_type": "execute_result",
          "execution_count": 5,
          "data": {
            "text/html": "<div>\n<style scoped>\n    .dataframe tbody tr th:only-of-type {\n        vertical-align: middle;\n    }\n\n    .dataframe tbody tr th {\n        vertical-align: top;\n    }\n\n    .dataframe thead th {\n        text-align: right;\n    }\n</style>\n<table border=\"1\" class=\"dataframe\">\n  <thead>\n    <tr style=\"text-align: right;\">\n      <th></th>\n      <th>Before_Breakup</th>\n      <th>After_Breakup</th>\n    </tr>\n  </thead>\n  <tbody>\n    <tr>\n      <th>0</th>\n      <td>470</td>\n      <td>408</td>\n    </tr>\n    <tr>\n      <th>1</th>\n      <td>354</td>\n      <td>439</td>\n    </tr>\n    <tr>\n      <th>2</th>\n      <td>496</td>\n      <td>321</td>\n    </tr>\n    <tr>\n      <th>3</th>\n      <td>351</td>\n      <td>437</td>\n    </tr>\n    <tr>\n      <th>4</th>\n      <td>349</td>\n      <td>335</td>\n    </tr>\n  </tbody>\n</table>\n</div>",
            "text/plain": "   Before_Breakup  After_Breakup\n0             470            408\n1             354            439\n2             496            321\n3             351            437\n4             349            335"
          },
          "metadata": {}
        }
      ]
    },
    {
      "metadata": {
        "trusted": true
      },
      "cell_type": "code",
      "source": "stats.ttest_rel(breakups_df['Before_Breakup'],breakups_df['After_Breakup'])",
      "execution_count": 4,
      "outputs": [
        {
          "output_type": "execute_result",
          "execution_count": 4,
          "data": {
            "text/plain": "Ttest_relResult(statistic=-0.5375404241815105, pvalue=0.5971346738292477)"
          },
          "metadata": {}
        }
      ]
    },
    {
      "metadata": {},
      "cell_type": "markdown",
      "source": "As the p-value is 0.597, which is more than 0.05, we can  conclude that they are part of same distribution."
    }
  ],
  "metadata": {
    "kernelspec": {
      "name": "python36",
      "display_name": "Python 3.6",
      "language": "python"
    },
    "language_info": {
      "mimetype": "text/x-python",
      "nbconvert_exporter": "python",
      "name": "python",
      "pygments_lexer": "ipython3",
      "version": "3.6.6",
      "file_extension": ".py",
      "codemirror_mode": {
        "version": 3,
        "name": "ipython"
      }
    }
  },
  "nbformat": 4,
  "nbformat_minor": 2
}