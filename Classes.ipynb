{
  "cells": [
    {
      "metadata": {
        "trusted": true
      },
      "cell_type": "code",
      "source": "#classes\nclass Student(object):\n    def __init__(self, name):\n        self.name = name\n        \n    def set_age(self, age):\n        self.age = age\n\n    def set_major(self, major):\n        self.major = major\n        \nanna = Student('anna')\nanna.set_age(20)\nanna.set_major('Physics')\nprint(anna.name)\nprint(anna.age)\nprint(anna.major)\n\nprasad = Student('Prasad')\nprint(prasad.name)",
      "execution_count": 3,
      "outputs": [
        {
          "output_type": "stream",
          "text": "anna\n20\nPhysics\nPrasad\n",
          "name": "stdout"
        }
      ]
    },
    {
      "metadata": {
        "trusted": true
      },
      "cell_type": "code",
      "source": "",
      "execution_count": null,
      "outputs": []
    }
  ],
  "metadata": {
    "kernelspec": {
      "name": "python36",
      "display_name": "Python 3.6",
      "language": "python"
    },
    "language_info": {
      "mimetype": "text/x-python",
      "nbconvert_exporter": "python",
      "name": "python",
      "pygments_lexer": "ipython3",
      "version": "3.6.6",
      "file_extension": ".py",
      "codemirror_mode": {
        "version": 3,
        "name": "ipython"
      }
    }
  },
  "nbformat": 4,
  "nbformat_minor": 1
}