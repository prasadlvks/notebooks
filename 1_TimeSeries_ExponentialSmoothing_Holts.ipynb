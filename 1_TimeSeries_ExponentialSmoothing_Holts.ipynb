{
  "cells": [
    {
      "metadata": {
        "collapsed": true,
        "trusted": false
      },
      "cell_type": "code",
      "source": "import os\nimport numpy as np\nimport pandas as pd\nimport matplotlib.pyplot as plt",
      "execution_count": null,
      "outputs": []
    },
    {
      "metadata": {
        "trusted": true
      },
      "cell_type": "code",
      "source": "data = [17.5534,  21.86  ,  23.8866,  26.9293,  26.8885,  28.8314, 30.0751,  30.9535,  30.1857,  31.5797,  32.5776,  33.4774, 39.0216,  41.3864,  41.5966]\nindex= pd.date_range(start='1990', end='2005', freq='A')\nair = pd.Series(data, index)",
      "execution_count": null,
      "outputs": []
    },
    {
      "metadata": {
        "trusted": true
      },
      "cell_type": "code",
      "source": "air",
      "execution_count": null,
      "outputs": []
    },
    {
      "metadata": {
        "trusted": true
      },
      "cell_type": "code",
      "source": "fit1 = Holt(air).fit(smoothing_level=0.8, smoothing_slope=0.2, optimized=False)\nfcast1 = fit1.forecast(5).rename(\"Holt's linear trend\")\nfit2 = Holt(air, exponential=True).fit(smoothing_level=0.8, smoothing_slope=0.2, optimized=False)\nfcast2 = fit2.forecast(5).rename(\"Exponential trend\")\nfit3 = Holt(air, damped=True).fit(smoothing_level=0.8, smoothing_slope=0.2)\nfcast3 = fit3.forecast(5).rename(\"Additive damped trend\")\n\nax = air.plot(color=\"black\", marker=\"o\", figsize=(12,8))\nfit1.fittedvalues.plot(ax=ax, color='blue')\nfcast1.plot(ax=ax, color='blue', marker=\"o\", legend=True)\nfit2.fittedvalues.plot(ax=ax, color='red')\nfcast2.plot(ax=ax, color='red', marker=\"o\", legend=True)\nfit3.fittedvalues.plot(ax=ax, color='green')\nfcast3.plot(ax=ax, color='green', marker=\"o\", legend=True)\n\nplt.show()",
      "execution_count": null,
      "outputs": []
    }
  ],
  "metadata": {
    "kernelspec": {
      "name": "python36",
      "display_name": "Python 3.6",
      "language": "python"
    },
    "language_info": {
      "mimetype": "text/ x - python",
      "nbconvert_exporter": "python",
      "version": "3.6.0",
      "name": "python",
      "file_extension": ".py",
      "pygments_lexer": "ipython2",
      "codemirror_mode": {
        "version": 2,
        "name": "ipython"
      }
    }
  },
  "nbformat": 4,
  "nbformat_minor": 2
}