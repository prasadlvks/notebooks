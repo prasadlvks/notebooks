{
  "cells": [
    {
      "metadata": {},
      "cell_type": "markdown",
      "source": "Test is used for cpmparing the observed dstribution and expected distribution"
    },
    {
      "metadata": {},
      "cell_type": "markdown",
      "source": "Goodness of fit test"
    },
    {
      "metadata": {
        "trusted": true
      },
      "cell_type": "code",
      "source": " from scipy import stats",
      "execution_count": 1,
      "outputs": []
    },
    {
      "metadata": {
        "trusted": true
      },
      "cell_type": "code",
      "source": "f_obs = [190, 185, 90, 35]\nf_obs",
      "execution_count": 4,
      "outputs": [
        {
          "output_type": "execute_result",
          "execution_count": 4,
          "data": {
            "text/plain": "[190, 185, 90, 35]"
          },
          "metadata": {}
        }
      ]
    },
    {
      "metadata": {
        "trusted": true
      },
      "cell_type": "code",
      "source": "f_exp = [500*.35, 500*.4, 500*.2, 500*.05]\nf_exp",
      "execution_count": 3,
      "outputs": [
        {
          "output_type": "execute_result",
          "execution_count": 3,
          "data": {
            "text/plain": "[175.0, 200.0, 100.0, 25.0]"
          },
          "metadata": {}
        }
      ]
    },
    {
      "metadata": {
        "trusted": true
      },
      "cell_type": "code",
      "source": "stats.chisquare(f_obs,f_exp)",
      "execution_count": 5,
      "outputs": [
        {
          "output_type": "execute_result",
          "execution_count": 5,
          "data": {
            "text/plain": "Power_divergenceResult(statistic=7.410714285714286, pvalue=0.05989751420084909)"
          },
          "metadata": {}
        }
      ]
    },
    {
      "metadata": {},
      "cell_type": "markdown",
      "source": "As the p value is more than 0.05, belief is true"
    },
    {
      "metadata": {
        "trusted": true
      },
      "cell_type": "code",
      "source": "",
      "execution_count": null,
      "outputs": []
    }
  ],
  "metadata": {
    "kernelspec": {
      "name": "python36",
      "display_name": "Python 3.6",
      "language": "python"
    },
    "language_info": {
      "mimetype": "text/x-python",
      "nbconvert_exporter": "python",
      "name": "python",
      "pygments_lexer": "ipython3",
      "version": "3.6.6",
      "file_extension": ".py",
      "codemirror_mode": {
        "version": 3,
        "name": "ipython"
      }
    }
  },
  "nbformat": 4,
  "nbformat_minor": 2
}