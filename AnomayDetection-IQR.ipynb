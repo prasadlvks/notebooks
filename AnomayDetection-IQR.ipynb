{
  "cells": [
    {
      "metadata": {
        "trusted": true
      },
      "cell_type": "code",
      "source": "import pandas as pd",
      "execution_count": 2,
      "outputs": []
    },
    {
      "metadata": {
        "trusted": true
      },
      "cell_type": "code",
      "source": "df=pd.DataFrame({'CreateDate':['2019-01-24','2019-02-03','2019-02-04','2019-02-05','2019-02-06','2019-02-07','2019-02-08','2018-12-03','2019-02-09','2019-01-09','2019-01-31','2019-02-01','2019-02-02'],'count_IncidentId':[1,80,117,29,61,77,56,4,36,1,298,428,1394]})\ndf",
      "execution_count": 3,
      "outputs": [
        {
          "output_type": "execute_result",
          "execution_count": 3,
          "data": {
            "text/html": "<div>\n<style scoped>\n    .dataframe tbody tr th:only-of-type {\n        vertical-align: middle;\n    }\n\n    .dataframe tbody tr th {\n        vertical-align: top;\n    }\n\n    .dataframe thead th {\n        text-align: right;\n    }\n</style>\n<table border=\"1\" class=\"dataframe\">\n  <thead>\n    <tr style=\"text-align: right;\">\n      <th></th>\n      <th>CreateDate</th>\n      <th>count_IncidentId</th>\n    </tr>\n  </thead>\n  <tbody>\n    <tr>\n      <th>0</th>\n      <td>2019-01-24</td>\n      <td>1</td>\n    </tr>\n    <tr>\n      <th>1</th>\n      <td>2019-02-03</td>\n      <td>80</td>\n    </tr>\n    <tr>\n      <th>2</th>\n      <td>2019-02-04</td>\n      <td>117</td>\n    </tr>\n    <tr>\n      <th>3</th>\n      <td>2019-02-05</td>\n      <td>29</td>\n    </tr>\n    <tr>\n      <th>4</th>\n      <td>2019-02-06</td>\n      <td>61</td>\n    </tr>\n    <tr>\n      <th>5</th>\n      <td>2019-02-07</td>\n      <td>77</td>\n    </tr>\n    <tr>\n      <th>6</th>\n      <td>2019-02-08</td>\n      <td>56</td>\n    </tr>\n    <tr>\n      <th>7</th>\n      <td>2018-12-03</td>\n      <td>4</td>\n    </tr>\n    <tr>\n      <th>8</th>\n      <td>2019-02-09</td>\n      <td>36</td>\n    </tr>\n    <tr>\n      <th>9</th>\n      <td>2019-01-09</td>\n      <td>1</td>\n    </tr>\n    <tr>\n      <th>10</th>\n      <td>2019-01-31</td>\n      <td>298</td>\n    </tr>\n    <tr>\n      <th>11</th>\n      <td>2019-02-01</td>\n      <td>428</td>\n    </tr>\n    <tr>\n      <th>12</th>\n      <td>2019-02-02</td>\n      <td>1394</td>\n    </tr>\n  </tbody>\n</table>\n</div>",
            "text/plain": "    CreateDate  count_IncidentId\n0   2019-01-24                 1\n1   2019-02-03                80\n2   2019-02-04               117\n3   2019-02-05                29\n4   2019-02-06                61\n5   2019-02-07                77\n6   2019-02-08                56\n7   2018-12-03                 4\n8   2019-02-09                36\n9   2019-01-09                 1\n10  2019-01-31               298\n11  2019-02-01               428\n12  2019-02-02              1394"
          },
          "metadata": {}
        }
      ]
    },
    {
      "metadata": {
        "trusted": true
      },
      "cell_type": "code",
      "source": "Q1=df.quantile(.25)\nQ1",
      "execution_count": 4,
      "outputs": [
        {
          "output_type": "execute_result",
          "execution_count": 4,
          "data": {
            "text/plain": "count_IncidentId    29.0\nName: 0.25, dtype: float64"
          },
          "metadata": {}
        }
      ]
    },
    {
      "metadata": {
        "trusted": true
      },
      "cell_type": "code",
      "source": "Q3=df.quantile(.75)\nQ3",
      "execution_count": 5,
      "outputs": [
        {
          "output_type": "execute_result",
          "execution_count": 5,
          "data": {
            "text/plain": "count_IncidentId    117.0\nName: 0.75, dtype: float64"
          },
          "metadata": {}
        }
      ]
    },
    {
      "metadata": {
        "trusted": true
      },
      "cell_type": "code",
      "source": "IQR=Q3-Q1\nIQR",
      "execution_count": 7,
      "outputs": [
        {
          "output_type": "execute_result",
          "execution_count": 7,
          "data": {
            "text/plain": "count_IncidentId    88.0\ndtype: float64"
          },
          "metadata": {}
        }
      ]
    },
    {
      "metadata": {
        "trusted": true
      },
      "cell_type": "code",
      "source": "val=Q3 + 1.5 * IQR\nval",
      "execution_count": 8,
      "outputs": [
        {
          "output_type": "execute_result",
          "execution_count": 8,
          "data": {
            "text/plain": "count_IncidentId    249.0\ndtype: float64"
          },
          "metadata": {}
        }
      ]
    },
    {
      "metadata": {
        "trusted": true
      },
      "cell_type": "code",
      "source": "df[df.count_IncidentId>249]",
      "execution_count": 11,
      "outputs": [
        {
          "output_type": "execute_result",
          "execution_count": 11,
          "data": {
            "text/html": "<div>\n<style scoped>\n    .dataframe tbody tr th:only-of-type {\n        vertical-align: middle;\n    }\n\n    .dataframe tbody tr th {\n        vertical-align: top;\n    }\n\n    .dataframe thead th {\n        text-align: right;\n    }\n</style>\n<table border=\"1\" class=\"dataframe\">\n  <thead>\n    <tr style=\"text-align: right;\">\n      <th></th>\n      <th>CreateDate</th>\n      <th>count_IncidentId</th>\n    </tr>\n  </thead>\n  <tbody>\n    <tr>\n      <th>10</th>\n      <td>2019-01-31</td>\n      <td>298</td>\n    </tr>\n    <tr>\n      <th>11</th>\n      <td>2019-02-01</td>\n      <td>428</td>\n    </tr>\n    <tr>\n      <th>12</th>\n      <td>2019-02-02</td>\n      <td>1394</td>\n    </tr>\n  </tbody>\n</table>\n</div>",
            "text/plain": "    CreateDate  count_IncidentId\n10  2019-01-31               298\n11  2019-02-01               428\n12  2019-02-02              1394"
          },
          "metadata": {}
        }
      ]
    },
    {
      "metadata": {
        "trusted": true
      },
      "cell_type": "code",
      "source": "",
      "execution_count": null,
      "outputs": []
    }
  ],
  "metadata": {
    "kernelspec": {
      "name": "python36",
      "display_name": "Python 3.6",
      "language": "python"
    },
    "language_info": {
      "mimetype": "text/x-python",
      "nbconvert_exporter": "python",
      "name": "python",
      "pygments_lexer": "ipython3",
      "version": "3.6.6",
      "file_extension": ".py",
      "codemirror_mode": {
        "version": 3,
        "name": "ipython"
      }
    }
  },
  "nbformat": 4,
  "nbformat_minor": 2
}