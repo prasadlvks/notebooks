{
  "cells": [
    {
      "metadata": {
        "trusted": true
      },
      "cell_type": "code",
      "source": "#univariate LinearRegression, SVM, \nimport pandas as pd\nimport numpy as np\nfrom sklearn.linear_model import LinearRegression\nimport seaborn as sns\nimport matplotlib.pyplot as plt\nfrom sklearn.metrics import mean_absolute_error\nfrom sklearn.metrics import r2_score\nfrom sklearn.metrics import mean_squared_error\n#from sklearn.metrics import confusion_matrix \n#from sklearn.metrics import accuracy_score ",
      "execution_count": 22,
      "outputs": []
    },
    {
      "metadata": {
        "trusted": true
      },
      "cell_type": "code",
      "source": "data = {'Year':[2015,2016,2017,2018,2019],'Size':[1,15,23,32,42]}\nds = pd.DataFrame(data)\n#pd.get_dummies(ds.Year)\nds",
      "execution_count": 2,
      "outputs": [
        {
          "output_type": "execute_result",
          "execution_count": 2,
          "data": {
            "text/html": "<div>\n<style scoped>\n    .dataframe tbody tr th:only-of-type {\n        vertical-align: middle;\n    }\n\n    .dataframe tbody tr th {\n        vertical-align: top;\n    }\n\n    .dataframe thead th {\n        text-align: right;\n    }\n</style>\n<table border=\"1\" class=\"dataframe\">\n  <thead>\n    <tr style=\"text-align: right;\">\n      <th></th>\n      <th>Year</th>\n      <th>Size</th>\n    </tr>\n  </thead>\n  <tbody>\n    <tr>\n      <th>0</th>\n      <td>2015</td>\n      <td>1</td>\n    </tr>\n    <tr>\n      <th>1</th>\n      <td>2016</td>\n      <td>15</td>\n    </tr>\n    <tr>\n      <th>2</th>\n      <td>2017</td>\n      <td>23</td>\n    </tr>\n    <tr>\n      <th>3</th>\n      <td>2018</td>\n      <td>32</td>\n    </tr>\n    <tr>\n      <th>4</th>\n      <td>2019</td>\n      <td>42</td>\n    </tr>\n  </tbody>\n</table>\n</div>",
            "text/plain": "   Year  Size\n0  2015     1\n1  2016    15\n2  2017    23\n3  2018    32\n4  2019    42"
          },
          "metadata": {}
        }
      ]
    },
    {
      "metadata": {
        "trusted": true
      },
      "cell_type": "code",
      "source": "plt.plot(ds.Year,ds.Size)",
      "execution_count": 3,
      "outputs": [
        {
          "output_type": "execute_result",
          "execution_count": 3,
          "data": {
            "text/plain": "[<matplotlib.lines.Line2D at 0x7fa427744c88>]"
          },
          "metadata": {}
        },
        {
          "output_type": "display_data",
          "data": {
            "image/png": "[encoded data removed]",
            "text/plain": "<Figure size 432x288 with 1 Axes>"
          },
          "metadata": {
            "needs_background": "light"
          }
        }
      ]
    },
    {
      "metadata": {
        "trusted": true
      },
      "cell_type": "code",
      "source": "ds.corr()",
      "execution_count": 4,
      "outputs": [
        {
          "output_type": "execute_result",
          "execution_count": 4,
          "data": {
            "text/html": "<div>\n<style scoped>\n    .dataframe tbody tr th:only-of-type {\n        vertical-align: middle;\n    }\n\n    .dataframe tbody tr th {\n        vertical-align: top;\n    }\n\n    .dataframe thead th {\n        text-align: right;\n    }\n</style>\n<table border=\"1\" class=\"dataframe\">\n  <thead>\n    <tr style=\"text-align: right;\">\n      <th></th>\n      <th>Year</th>\n      <th>Size</th>\n    </tr>\n  </thead>\n  <tbody>\n    <tr>\n      <th>Year</th>\n      <td>1.00000</td>\n      <td>0.99539</td>\n    </tr>\n    <tr>\n      <th>Size</th>\n      <td>0.99539</td>\n      <td>1.00000</td>\n    </tr>\n  </tbody>\n</table>\n</div>",
            "text/plain": "         Year     Size\nYear  1.00000  0.99539\nSize  0.99539  1.00000"
          },
          "metadata": {}
        }
      ]
    },
    {
      "metadata": {
        "trusted": true
      },
      "cell_type": "code",
      "source": "sns.heatmap(ds.corr(),cmap=sns.diverging_palette(20, 220, n=200))",
      "execution_count": 5,
      "outputs": [
        {
          "output_type": "execute_result",
          "execution_count": 5,
          "data": {
            "text/plain": "<matplotlib.axes._subplots.AxesSubplot at 0x7fa427283860>"
          },
          "metadata": {}
        },
        {
          "output_type": "display_data",
          "data": {
            "image/png": "[encoded data removed]",
            "text/plain": "<Figure size 432x288 with 2 Axes>"
          },
          "metadata": {
            "needs_background": "light"
          }
        }
      ]
    },
    {
      "metadata": {
        "trusted": true
      },
      "cell_type": "code",
      "source": "data1 = {'Year':[2019,2020,2021,2022,2023,2024,2025,2026],'Size':[40,50,60,70,80,90,100,110]}\nds1 = pd.DataFrame(data1)\nds1",
      "execution_count": 17,
      "outputs": [
        {
          "output_type": "execute_result",
          "execution_count": 17,
          "data": {
            "text/html": "<div>\n<style scoped>\n    .dataframe tbody tr th:only-of-type {\n        vertical-align: middle;\n    }\n\n    .dataframe tbody tr th {\n        vertical-align: top;\n    }\n\n    .dataframe thead th {\n        text-align: right;\n    }\n</style>\n<table border=\"1\" class=\"dataframe\">\n  <thead>\n    <tr style=\"text-align: right;\">\n      <th></th>\n      <th>Year</th>\n      <th>Size</th>\n    </tr>\n  </thead>\n  <tbody>\n    <tr>\n      <th>0</th>\n      <td>2019</td>\n      <td>40</td>\n    </tr>\n    <tr>\n      <th>1</th>\n      <td>2020</td>\n      <td>50</td>\n    </tr>\n    <tr>\n      <th>2</th>\n      <td>2021</td>\n      <td>60</td>\n    </tr>\n    <tr>\n      <th>3</th>\n      <td>2022</td>\n      <td>70</td>\n    </tr>\n    <tr>\n      <th>4</th>\n      <td>2023</td>\n      <td>80</td>\n    </tr>\n    <tr>\n      <th>5</th>\n      <td>2024</td>\n      <td>90</td>\n    </tr>\n    <tr>\n      <th>6</th>\n      <td>2025</td>\n      <td>100</td>\n    </tr>\n    <tr>\n      <th>7</th>\n      <td>2026</td>\n      <td>110</td>\n    </tr>\n  </tbody>\n</table>\n</div>",
            "text/plain": "   Year  Size\n0  2019    40\n1  2020    50\n2  2021    60\n3  2022    70\n4  2023    80\n5  2024    90\n6  2025   100\n7  2026   110"
          },
          "metadata": {}
        }
      ]
    },
    {
      "metadata": {
        "trusted": true
      },
      "cell_type": "code",
      "source": "ds.iloc[:,1].values",
      "execution_count": 7,
      "outputs": [
        {
          "output_type": "execute_result",
          "execution_count": 7,
          "data": {
            "text/plain": "array([ 1, 15, 23, 32, 42])"
          },
          "metadata": {}
        }
      ]
    },
    {
      "metadata": {
        "trusted": true
      },
      "cell_type": "code",
      "source": "model=LinearRegression()\nmodel.fit(ds.iloc[:,0:1].values,ds.iloc[:,1].values)",
      "execution_count": 8,
      "outputs": [
        {
          "output_type": "execute_result",
          "execution_count": 8,
          "data": {
            "text/plain": "LinearRegression(copy_X=True, fit_intercept=True, n_jobs=None,\n         normalize=False)"
          },
          "metadata": {}
        }
      ]
    },
    {
      "metadata": {
        "trusted": true
      },
      "cell_type": "code",
      "source": "model.score",
      "execution_count": 9,
      "outputs": [
        {
          "output_type": "execute_result",
          "execution_count": 9,
          "data": {
            "text/plain": "<bound method RegressorMixin.score of LinearRegression(copy_X=True, fit_intercept=True, n_jobs=None,\n         normalize=False)>"
          },
          "metadata": {}
        }
      ]
    },
    {
      "metadata": {
        "trusted": true
      },
      "cell_type": "code",
      "source": "#prediction = model.predict([ds1.Year.values])\nprediction = model.predict(ds1.iloc[:,0:1].values)\nprediction",
      "execution_count": 29,
      "outputs": [
        {
          "output_type": "execute_result",
          "execution_count": 29,
          "data": {
            "text/plain": "array([ 42.4,  52.3,  62.2,  72.1,  82. ,  91.9, 101.8, 111.7])"
          },
          "metadata": {}
        }
      ]
    },
    {
      "metadata": {
        "trusted": true
      },
      "cell_type": "code",
      "source": "plt.plot(ds.Year,ds.Size)\nplt.plot(ds1.Year,prediction)",
      "execution_count": 11,
      "outputs": [
        {
          "output_type": "execute_result",
          "execution_count": 11,
          "data": {
            "text/plain": "[<matplotlib.lines.Line2D at 0x7fa426fd8860>]"
          },
          "metadata": {}
        },
        {
          "output_type": "display_data",
          "data": {
            "image/png": "[encoded data removed]",
            "text/plain": "<Figure size 432x288 with 1 Axes>"
          },
          "metadata": {
            "needs_background": "light"
          }
        }
      ]
    },
    {
      "metadata": {
        "trusted": true
      },
      "cell_type": "code",
      "source": "ds1.iloc[:,1].values",
      "execution_count": 18,
      "outputs": [
        {
          "output_type": "execute_result",
          "execution_count": 18,
          "data": {
            "text/plain": "array([ 40,  50,  60,  70,  80,  90, 100, 110])"
          },
          "metadata": {}
        }
      ]
    },
    {
      "metadata": {
        "trusted": true
      },
      "cell_type": "code",
      "source": "#classification confusion_matrix(ds1.iloc[:,1].values, prediction) \nmean_absolute_error(ds1.iloc[:,1].values,prediction)",
      "execution_count": 20,
      "outputs": [
        {
          "output_type": "execute_result",
          "execution_count": 20,
          "data": {
            "text/plain": "2.050000000000182"
          },
          "metadata": {}
        }
      ]
    },
    {
      "metadata": {
        "trusted": true
      },
      "cell_type": "code",
      "source": "#classification accuracy_score(ds1.iloc[:,1].values, prediction)\n#R2 Score, MSE (Mean Squared Error), RMSE (Root Mean Squared Error)\n",
      "execution_count": 14,
      "outputs": []
    },
    {
      "metadata": {
        "trusted": true
      },
      "cell_type": "code",
      "source": "r2_score(ds1.iloc[:,1].values,prediction)",
      "execution_count": 25,
      "outputs": [
        {
          "output_type": "execute_result",
          "execution_count": 25,
          "data": {
            "text/plain": "0.9918952380952366"
          },
          "metadata": {}
        }
      ]
    },
    {
      "metadata": {
        "trusted": true
      },
      "cell_type": "code",
      "source": "#\nmean_squared_error(ds1.iloc[:,1].values,prediction)",
      "execution_count": 26,
      "outputs": [
        {
          "output_type": "execute_result",
          "execution_count": 26,
          "data": {
            "text/plain": "4.255000000000765"
          },
          "metadata": {}
        }
      ]
    },
    {
      "metadata": {
        "trusted": true
      },
      "cell_type": "code",
      "source": "np.sqrt(4.255)",
      "execution_count": 28,
      "outputs": [
        {
          "output_type": "execute_result",
          "execution_count": 28,
          "data": {
            "text/plain": "2.0627651344736266"
          },
          "metadata": {}
        }
      ]
    },
    {
      "metadata": {
        "trusted": true
      },
      "cell_type": "code",
      "source": "[2.4,2.3,2.2,2.1, 2,1.9,1.8,1.7]",
      "execution_count": 30,
      "outputs": [
        {
          "output_type": "execute_result",
          "execution_count": 30,
          "data": {
            "text/plain": "[2.4, 2.3, 2.2, 2.1, 2, 1.9, 1.8, 1.7]"
          },
          "metadata": {}
        }
      ]
    },
    {
      "metadata": {
        "trusted": true
      },
      "cell_type": "code",
      "source": "[np.square(2.4),np.square(2.3),np.square(2.2),np.square(2.1), np.square(2),np.square(1.9),np.square(1.8),np.square(1.7)]",
      "execution_count": 37,
      "outputs": [
        {
          "output_type": "execute_result",
          "execution_count": 37,
          "data": {
            "text/plain": "[5.76,\n 5.289999999999999,\n 4.840000000000001,\n 4.41,\n 4,\n 3.61,\n 3.24,\n 2.8899999999999997]"
          },
          "metadata": {}
        }
      ]
    },
    {
      "metadata": {
        "trusted": true
      },
      "cell_type": "code",
      "source": "#mean_absolute_error\nsum([2.4,2.3,2.2,2.1, 2,1.9,1.8,1.7])/len([2.4,2.3,2.2,2.1, 2,1.9,1.8,1.7])",
      "execution_count": 36,
      "outputs": [
        {
          "output_type": "execute_result",
          "execution_count": 36,
          "data": {
            "text/plain": "2.0500000000000003"
          },
          "metadata": {}
        }
      ]
    },
    {
      "metadata": {
        "trusted": true
      },
      "cell_type": "code",
      "source": "#mean_squared_error\nsum([5.76, 5.289, 4.84, 4.41, 4, 3.61, 3.24, 2.889])/len([5.76, 5.289, 4.84, 4.41, 4, 3.61, 3.24, 2.889])",
      "execution_count": 38,
      "outputs": [
        {
          "output_type": "execute_result",
          "execution_count": 38,
          "data": {
            "text/plain": "4.2547500000000005"
          },
          "metadata": {}
        }
      ]
    },
    {
      "metadata": {
        "trusted": true
      },
      "cell_type": "code",
      "source": "",
      "execution_count": null,
      "outputs": []
    }
  ],
  "metadata": {
    "kernelspec": {
      "name": "python36",
      "display_name": "Python 3.6",
      "language": "python"
    },
    "language_info": {
      "mimetype": "text/x-python",
      "nbconvert_exporter": "python",
      "name": "python",
      "pygments_lexer": "ipython3",
      "version": "3.6.6",
      "file_extension": ".py",
      "codemirror_mode": {
        "version": 3,
        "name": "ipython"
      }
    }
  },
  "nbformat": 4,
  "nbformat_minor": 2
}