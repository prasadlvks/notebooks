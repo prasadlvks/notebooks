{
  "cells": [
    {
      "metadata": {
        "trusted": true
      },
      "cell_type": "code",
      "source": "x=lambda a:a+10\nprint(x(5))",
      "execution_count": 2,
      "outputs": [
        {
          "output_type": "stream",
          "text": "15\n",
          "name": "stdout"
        }
      ]
    },
    {
      "metadata": {
        "trusted": true
      },
      "cell_type": "code",
      "source": "from functools import reduce\nreduce(x,[1,2])\n",
      "execution_count": 5,
      "outputs": [
        {
          "output_type": "error",
          "ename": "TypeError",
          "evalue": "<lambda>() takes 1 positional argument but 2 were given",
          "traceback": [
            "\u001b[0;31m---------------------------------------------------------------------------\u001b[0m",
            "\u001b[0;31mTypeError\u001b[0m                                 Traceback (most recent call last)",
            "\u001b[0;32m<ipython-input-5-9451d9c903e1>\u001b[0m in \u001b[0;36m<module>\u001b[0;34m\u001b[0m\n\u001b[1;32m      1\u001b[0m \u001b[0;32mfrom\u001b[0m \u001b[0mfunctools\u001b[0m \u001b[0;32mimport\u001b[0m \u001b[0mreduce\u001b[0m\u001b[0;34m\u001b[0m\u001b[0m\n\u001b[0;32m----> 2\u001b[0;31m \u001b[0mreduce\u001b[0m\u001b[0;34m(\u001b[0m\u001b[0mx\u001b[0m\u001b[0;34m,\u001b[0m\u001b[0;34m[\u001b[0m\u001b[0;36m1\u001b[0m\u001b[0;34m,\u001b[0m\u001b[0;36m2\u001b[0m\u001b[0;34m]\u001b[0m\u001b[0;34m)\u001b[0m\u001b[0;34m\u001b[0m\u001b[0m\n\u001b[0m",
            "\u001b[0;31mTypeError\u001b[0m: <lambda>() takes 1 positional argument but 2 were given"
          ]
        }
      ]
    },
    {
      "metadata": {
        "trusted": true
      },
      "cell_type": "code",
      "source": "lis = [ 1 , 3, 5, 6, 2, ] \nprint (reduce(lambda a,b : a+b,lis)) ",
      "execution_count": 7,
      "outputs": [
        {
          "output_type": "stream",
          "text": "17\n",
          "name": "stdout"
        }
      ]
    },
    {
      "metadata": {
        "trusted": true
      },
      "cell_type": "code",
      "source": "lis = [\"Hello\",\"Bye\"]\nprint (reduce(lambda a,b : a[1]+b[1],lis)) ",
      "execution_count": 10,
      "outputs": [
        {
          "output_type": "stream",
          "text": "ey\n",
          "name": "stdout"
        }
      ]
    },
    {
      "metadata": {
        "trusted": true
      },
      "cell_type": "code",
      "source": "x = {1: 2, 3: 4, 4: 3, 2: 1, 0: 0}\nx",
      "execution_count": 11,
      "outputs": [
        {
          "output_type": "execute_result",
          "execution_count": 11,
          "data": {
            "text/plain": "{1: 2, 3: 4, 4: 3, 2: 1, 0: 0}"
          },
          "metadata": {}
        }
      ]
    },
    {
      "metadata": {
        "trusted": true
      },
      "cell_type": "code",
      "source": "import operator\nsorted_x = sorted(x.items(), key=operator.itemgetter(1))\nsorted_x",
      "execution_count": 13,
      "outputs": [
        {
          "output_type": "execute_result",
          "execution_count": 13,
          "data": {
            "text/plain": "[(0, 0), (2, 1), (1, 2), (4, 3), (3, 4)]"
          },
          "metadata": {}
        }
      ]
    },
    {
      "metadata": {
        "trusted": true
      },
      "cell_type": "code",
      "source": "lis = [ 1 , 3, 5, 6, 2, ] \nfor num in lis:\n    if (num % 2) == 1:\n        print(num)",
      "execution_count": 21,
      "outputs": [
        {
          "output_type": "stream",
          "text": "1\n3\n5\n",
          "name": "stdout"
        }
      ]
    },
    {
      "metadata": {
        "trusted": true
      },
      "cell_type": "code",
      "source": "a=[1,2,3,4,5,6,7,8,9,10] \nodd_nos = list(filter(lambda x: (x % 2 != 0), a))\npow = lambda i: i**2\nSq_num = pow,odd_nos\nprint(\"Odd numbers in the list: \", Sq_num)",
      "execution_count": 44,
      "outputs": [
        {
          "output_type": "stream",
          "text": "Odd numbers in the list:  (<function <lambda> at 0x7fbc7b261048>, [1, 3, 5, 7, 9])\n",
          "name": "stdout"
        }
      ]
    },
    {
      "metadata": {
        "trusted": true
      },
      "cell_type": "code",
      "source": "nums = [1, 2, 3, 4, 5, 6, 7, 8, 9, 10]\nodd_nums = list(map(lambda x: (x % 2 != 0), nums))\nsq_nums = list(map(lambda x: x ** 3, odd_nums))\nprint(odd_nums)",
      "execution_count": 45,
      "outputs": [
        {
          "output_type": "stream",
          "text": "[True, False, True, False, True, False, True, False, True, False]\n",
          "name": "stdout"
        }
      ]
    },
    {
      "metadata": {
        "trusted": true,
        "scrolled": true
      },
      "cell_type": "code",
      "source": "nums = [1, 2, 3, 4, 5, 6, 7, 8, 9, 10]\nprint(nums)",
      "execution_count": 33,
      "outputs": [
        {
          "output_type": "stream",
          "text": "[1, 2, 3, 4, 5, 6, 7, 8, 9, 10]\n",
          "name": "stdout"
        }
      ]
    },
    {
      "metadata": {
        "trusted": true
      },
      "cell_type": "code",
      "source": "nums = [1, 2, 3, 4, 5, 6, 7, 8, 9, 10]\nodd_nums = list(filter(lambda x: (x % 2 != 0), nums))\nsquare_nums = list(map(lambda x: x ** 2, odd_nums))\nsquare_nums",
      "execution_count": 46,
      "outputs": [
        {
          "output_type": "execute_result",
          "execution_count": 46,
          "data": {
            "text/plain": "[1, 9, 25, 49, 81]"
          },
          "metadata": {}
        }
      ]
    },
    {
      "metadata": {
        "trusted": true
      },
      "cell_type": "code",
      "source": "cube_nums = list(map(lambda x: x ** 3, nums))\ncube_nums",
      "execution_count": 35,
      "outputs": [
        {
          "output_type": "execute_result",
          "execution_count": 35,
          "data": {
            "text/plain": "[1, 8, 27, 64, 125, 216, 343, 512, 729, 1000]"
          },
          "metadata": {}
        }
      ]
    },
    {
      "metadata": {
        "trusted": true
      },
      "cell_type": "code",
      "source": "odd_nums = list(filter(lambda x: (x % 2 != 0), nums))\nodd_nums",
      "execution_count": 37,
      "outputs": [
        {
          "output_type": "execute_result",
          "execution_count": 37,
          "data": {
            "text/plain": "[1, 3, 5, 7, 9]"
          },
          "metadata": {}
        }
      ]
    },
    {
      "metadata": {
        "trusted": true
      },
      "cell_type": "code",
      "source": "list(odd_nums)",
      "execution_count": 38,
      "outputs": [
        {
          "output_type": "execute_result",
          "execution_count": 38,
          "data": {
            "text/plain": "[1, 3, 5, 7, 9]"
          },
          "metadata": {}
        }
      ]
    },
    {
      "metadata": {
        "trusted": true
      },
      "cell_type": "code",
      "source": "a=list(range(0,8,2))\na",
      "execution_count": 53,
      "outputs": [
        {
          "output_type": "execute_result",
          "execution_count": 53,
          "data": {
            "text/plain": "[0, 2, 4, 6]"
          },
          "metadata": {}
        }
      ]
    },
    {
      "metadata": {
        "trusted": true
      },
      "cell_type": "code",
      "source": "# Operating System List\nsystems = ['Windows', 'macOS', 'Linux']\nprint('Original List:', systems)\n\n# List Reverse\nsystems.reverse()\n\n# updated list\nprint('Updated List:', systems)",
      "execution_count": 54,
      "outputs": [
        {
          "output_type": "stream",
          "text": "Original List: ['Windows', 'macOS', 'Linux']\nUpdated List: ['Linux', 'macOS', 'Windows']\n",
          "name": "stdout"
        }
      ]
    },
    {
      "metadata": {
        "trusted": true
      },
      "cell_type": "code",
      "source": "",
      "execution_count": null,
      "outputs": []
    }
  ],
  "metadata": {
    "kernelspec": {
      "name": "python36",
      "display_name": "Python 3.6",
      "language": "python"
    },
    "language_info": {
      "mimetype": "text/x-python",
      "nbconvert_exporter": "python",
      "name": "python",
      "pygments_lexer": "ipython3",
      "version": "3.6.6",
      "file_extension": ".py",
      "codemirror_mode": {
        "version": 3,
        "name": "ipython"
      }
    }
  },
  "nbformat": 4,
  "nbformat_minor": 2
}