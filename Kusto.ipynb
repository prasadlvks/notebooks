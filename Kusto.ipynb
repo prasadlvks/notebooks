{
  "cells": [
    {
      "metadata": {
        "trusted": true
      },
      "cell_type": "code",
      "source": "!pip install azure-kusto-data[pandas]",
      "execution_count": 2,
      "outputs": [
        {
          "output_type": "stream",
          "text": "Requirement already satisfied: azure-kusto-data[pandas] in /home/nbuser/anaconda3_501/lib/python3.6/site-packages (0.0.11)\n\u001b[33m  azure-kusto-data 0.0.11 does not provide the extra 'pandas'\u001b[0m\nRequirement already satisfied: azure-nspkg>=2.0.0 in /home/nbuser/anaconda3_501/lib/python3.6/site-packages (from azure-kusto-data[pandas]) (3.0.2)\nRequirement already satisfied: requests>=2.13.0 in /home/nbuser/anaconda3_501/lib/python3.6/site-packages (from azure-kusto-data[pandas]) (2.19.1)\nRequirement already satisfied: pandas>=0.15.0 in /home/nbuser/anaconda3_501/lib/python3.6/site-packages (from azure-kusto-data[pandas]) (0.22.0)\nRequirement already satisfied: six>=1.10.0 in /home/nbuser/anaconda3_501/lib/python3.6/site-packages (from azure-kusto-data[pandas]) (1.11.0)\nRequirement already satisfied: python-dateutil>=2.6.0 in /home/nbuser/anaconda3_501/lib/python3.6/site-packages (from azure-kusto-data[pandas]) (2.7.3)\nRequirement already satisfied: adal>=1.0.0 in /home/nbuser/anaconda3_501/lib/python3.6/site-packages (from azure-kusto-data[pandas]) (1.2.0)\nRequirement already satisfied: idna<2.8,>=2.5 in /home/nbuser/anaconda3_501/lib/python3.6/site-packages (from requests>=2.13.0->azure-kusto-data[pandas]) (2.7)\nRequirement already satisfied: certifi>=2017.4.17 in /home/nbuser/anaconda3_501/lib/python3.6/site-packages (from requests>=2.13.0->azure-kusto-data[pandas]) (2018.8.24)\nRequirement already satisfied: urllib3<1.24,>=1.21.1 in /home/nbuser/anaconda3_501/lib/python3.6/site-packages (from requests>=2.13.0->azure-kusto-data[pandas]) (1.23)\nRequirement already satisfied: chardet<3.1.0,>=3.0.2 in /home/nbuser/anaconda3_501/lib/python3.6/site-packages (from requests>=2.13.0->azure-kusto-data[pandas]) (3.0.4)\nRequirement already satisfied: pytz>=2011k in /home/nbuser/anaconda3_501/lib/python3.6/site-packages (from pandas>=0.15.0->azure-kusto-data[pandas]) (2018.5)\nRequirement already satisfied: numpy>=1.9.0 in /home/nbuser/anaconda3_501/lib/python3.6/site-packages (from pandas>=0.15.0->azure-kusto-data[pandas]) (1.14.5)\nRequirement already satisfied: PyJWT>=1.0.0 in /home/nbuser/anaconda3_501/lib/python3.6/site-packages (from adal>=1.0.0->azure-kusto-data[pandas]) (1.6.4)\nRequirement already satisfied: cryptography>=1.1.0 in /home/nbuser/anaconda3_501/lib/python3.6/site-packages (from adal>=1.0.0->azure-kusto-data[pandas]) (2.3.1)\nRequirement already satisfied: asn1crypto>=0.21.0 in /home/nbuser/anaconda3_501/lib/python3.6/site-packages (from cryptography>=1.1.0->adal>=1.0.0->azure-kusto-data[pandas]) (0.24.0)\nRequirement already satisfied: cffi!=1.11.3,>=1.7 in /home/nbuser/anaconda3_501/lib/python3.6/site-packages (from cryptography>=1.1.0->adal>=1.0.0->azure-kusto-data[pandas]) (1.11.5)\nRequirement already satisfied: pycparser in /home/nbuser/anaconda3_501/lib/python3.6/site-packages (from cffi!=1.11.3,>=1.7->cryptography>=1.1.0->adal>=1.0.0->azure-kusto-data[pandas]) (2.19)\n",
          "name": "stdout"
        }
      ]
    },
    {
      "metadata": {
        "trusted": true
      },
      "cell_type": "code",
      "source": "from azure.kusto.data.request import KustoClient, KustoConnectionStringBuilder\nfrom azure.kusto.data.exceptions import KustoServiceError\nfrom azure.kusto.data.helpers import dataframe_from_result_table\ncluster = \"https://help.kusto.windows.net\"\nclient = KustoClient(cluster)\ndb = \"Samples\"\nquery = \"StormEvents | take 10\"\nresponse = client.execute(db, query)\nfor row in response.primary_results[0]:\n    print(\"value at 0 {}\".format(row[0]))",
      "execution_count": 3,
      "outputs": [
        {
          "output_type": "error",
          "ename": "ModuleNotFoundError",
          "evalue": "No module named 'azure.kusto.data.helpers'",
          "traceback": [
            "\u001b[0;31m---------------------------------------------------------------------------\u001b[0m",
            "\u001b[0;31mModuleNotFoundError\u001b[0m                       Traceback (most recent call last)",
            "\u001b[0;32m<ipython-input-3-d2963b717f28>\u001b[0m in \u001b[0;36m<module>\u001b[0;34m\u001b[0m\n\u001b[1;32m      1\u001b[0m \u001b[0;32mfrom\u001b[0m \u001b[0mazure\u001b[0m\u001b[0;34m.\u001b[0m\u001b[0mkusto\u001b[0m\u001b[0;34m.\u001b[0m\u001b[0mdata\u001b[0m\u001b[0;34m.\u001b[0m\u001b[0mrequest\u001b[0m \u001b[0;32mimport\u001b[0m \u001b[0mKustoClient\u001b[0m\u001b[0;34m,\u001b[0m \u001b[0mKustoConnectionStringBuilder\u001b[0m\u001b[0;34m\u001b[0m\u001b[0m\n\u001b[1;32m      2\u001b[0m \u001b[0;32mfrom\u001b[0m \u001b[0mazure\u001b[0m\u001b[0;34m.\u001b[0m\u001b[0mkusto\u001b[0m\u001b[0;34m.\u001b[0m\u001b[0mdata\u001b[0m\u001b[0;34m.\u001b[0m\u001b[0mexceptions\u001b[0m \u001b[0;32mimport\u001b[0m \u001b[0mKustoServiceError\u001b[0m\u001b[0;34m\u001b[0m\u001b[0m\n\u001b[0;32m----> 3\u001b[0;31m \u001b[0;32mfrom\u001b[0m \u001b[0mazure\u001b[0m\u001b[0;34m.\u001b[0m\u001b[0mkusto\u001b[0m\u001b[0;34m.\u001b[0m\u001b[0mdata\u001b[0m\u001b[0;34m.\u001b[0m\u001b[0mhelpers\u001b[0m \u001b[0;32mimport\u001b[0m \u001b[0mdataframe_from_result_table\u001b[0m\u001b[0;34m\u001b[0m\u001b[0m\n\u001b[0m\u001b[1;32m      4\u001b[0m \u001b[0mcluster\u001b[0m \u001b[0;34m=\u001b[0m \u001b[0;34m\"https://help.kusto.windows.net\"\u001b[0m\u001b[0;34m\u001b[0m\u001b[0m\n\u001b[1;32m      5\u001b[0m \u001b[0mclient\u001b[0m \u001b[0;34m=\u001b[0m \u001b[0mKustoClient\u001b[0m\u001b[0;34m(\u001b[0m\u001b[0mcluster\u001b[0m\u001b[0;34m)\u001b[0m\u001b[0;34m\u001b[0m\u001b[0m\n",
            "\u001b[0;31mModuleNotFoundError\u001b[0m: No module named 'azure.kusto.data.helpers'"
          ]
        }
      ]
    },
    {
      "metadata": {
        "trusted": true
      },
      "cell_type": "code",
      "source": "",
      "execution_count": 3,
      "outputs": []
    },
    {
      "metadata": {
        "trusted": true
      },
      "cell_type": "code",
      "source": "",
      "execution_count": 2,
      "outputs": [
        {
          "output_type": "error",
          "ename": "ModuleNotFoundError",
          "evalue": "No module named 'azure.kusto.data.helpers'",
          "traceback": [
            "\u001b[0;31m---------------------------------------------------------------------------\u001b[0m",
            "\u001b[0;31mModuleNotFoundError\u001b[0m                       Traceback (most recent call last)",
            "\u001b[0;32m<ipython-input-2-c8f2e7453636>\u001b[0m in \u001b[0;36m<module>\u001b[0;34m\u001b[0m\n\u001b[0;32m----> 1\u001b[0;31m \u001b[0;32mfrom\u001b[0m \u001b[0mazure\u001b[0m\u001b[0;34m.\u001b[0m\u001b[0mkusto\u001b[0m\u001b[0;34m.\u001b[0m\u001b[0mdata\u001b[0m\u001b[0;34m.\u001b[0m\u001b[0mhelpers\u001b[0m \u001b[0;32mimport\u001b[0m \u001b[0mdataframe_from_result_table\u001b[0m\u001b[0;34m\u001b[0m\u001b[0m\n\u001b[0m",
            "\u001b[0;31mModuleNotFoundError\u001b[0m: No module named 'azure.kusto.data.helpers'"
          ]
        }
      ]
    },
    {
      "metadata": {
        "trusted": true
      },
      "cell_type": "code",
      "source": "from azure.kusto.data.request import KustoClient, KustoConnectionStringBuilder\nfrom azure.kusto.data.exceptions import KustoServiceError\nfrom azure.kusto.data.helpers import dataframe_from_result_table\n\n\n######################################################\n##                        AUTH                      ##\n######################################################\ncluster = \"https://help.kusto.windows.net\"\n\n# In case you want to authenticate with AAD application.\nclient_id = \"<insert here your AAD application id>\"\nclient_secret = \"<insert here your AAD application key>\"\n\n# read more at https://docs.microsoft.com/en-us/onedrive/find-your-office-365-tenant-id\nauthority_id = \"<insert here your tenant id>\"\n\nkcsb = KustoConnectionStringBuilder.with_aad_application_key_authentication(\n    cluster, client_id, client_secret, authority_id\n)\n\n# In case you want to authenticate with AAD application certificate.\nfilename = \"path to a PEM certificate\"\nwith open(filename, \"r\") as pem_file:\n    PEM = pem_file.read()\n\nthumbprint = \"certificate's thumbprint\"\nkcsb = KustoConnectionStringBuilder.with_aad_application_certificate_authentication(\n    cluster, client_id, PEM, thumbprint, authority_id\n)\n\n# In case you want to authenticate with AAD device code.\n# Please note that if you choose this option, you'll need to autenticate for every new instance that is initialized.\n# It is highly recommended to create one instance and use it for all of your queries.\nkcsb = KustoConnectionStringBuilder.with_aad_device_authentication(cluster)\n\n\n# The authentication method will be taken from the chosen KustoConnectionStringBuilder.\nclient = KustoClient(kcsb)\n\n# In case you want anonymous authentication. For instance if you run Kusto locally.\nclient = KustoClient(cluster)\n\n######################################################\n##                       QUERY                      ##\n######################################################\n\n# once authenticated, usage is as following\ndb = \"Samples\"\nquery = \"StormEvents | take 10\"\n\nresponse = client.execute(db, query)\n\n# iterating over rows is possible\nfor row in response.primary_results[0]:\n    # printing specific columns by index\n    print(\"value at 0 {}\".format(row[0]))\n    print(\"\\n\")\n    # printing specific columns by name\n    print(\"EventType:{}\".format(row[\"EventType\"]))\n\n# tables are serializeable, so:\nwith open(\"results.json\", \"w+\") as f:\n    f.write(str(response.primary_results[0]))\n\n# we also support dataframes:\ndataframe = dataframe_from_result_table(response.primary_results[0])\n\nprint(dataframe)\n\n##################\n### EXCEPTIONS ###\n##################\n\n\n# Query is too big to be executed\nquery = \"StormEvents\"\ntry:\n    response = client.execute(db, query)\nexcept KustoServiceError as error:\n    print(\"2. Error:\", error)\n    print(\"2. Is semantic error:\", error.is_semantic_error())\n    print(\"2. Has partial results:\", error.has_partial_results())\n    print(\"2. Result size:\", len(error.get_partial_results()))\n\nresponse = client.execute(db, query, accept_partial_results=True)\nprint(\"3. Response error count: \", response.errors_count)\nprint(\"3. Exceptions:\", response.get_exceptions())\nprint(\"3. Result size:\", len(response.primary_results))\n\n# Query has semantic error\nquery = \"StormEvents | where foo = bar\"\ntry:\n    response = client.execute(db, query)\nexcept KustoServiceError as error:\n    print(\"4. Error:\", error)\n    print(\"4. Is semantic error:\", error.is_semantic_error())\n    print(\"4. Has partial results:\", error.has_partial_results())\n\n\nclient = KustoClient(\"https://kustolab.kusto.windows.net\")\nresponse = client.execute(\"ML\", \".show version\")\n\nquery = \"\"\"\nlet max_t = datetime(2016-09-03);\nservice_traffic\n| make-series num=count() on TimeStamp in range(max_t-5d, max_t, 1h) by OsVer\n\"\"\"\nresponse = client.execute_query(\"ML\", query).primary_results[0]",
      "execution_count": 4,
      "outputs": [
        {
          "output_type": "error",
          "ename": "ModuleNotFoundError",
          "evalue": "No module named 'azure.kusto.data.helpers'",
          "traceback": [
            "\u001b[0;31m---------------------------------------------------------------------------\u001b[0m",
            "\u001b[0;31mModuleNotFoundError\u001b[0m                       Traceback (most recent call last)",
            "\u001b[0;32m<ipython-input-4-5b066ab9ff71>\u001b[0m in \u001b[0;36m<module>\u001b[0;34m\u001b[0m\n\u001b[1;32m      1\u001b[0m \u001b[0;32mfrom\u001b[0m \u001b[0mazure\u001b[0m\u001b[0;34m.\u001b[0m\u001b[0mkusto\u001b[0m\u001b[0;34m.\u001b[0m\u001b[0mdata\u001b[0m\u001b[0;34m.\u001b[0m\u001b[0mrequest\u001b[0m \u001b[0;32mimport\u001b[0m \u001b[0mKustoClient\u001b[0m\u001b[0;34m,\u001b[0m \u001b[0mKustoConnectionStringBuilder\u001b[0m\u001b[0;34m\u001b[0m\u001b[0m\n\u001b[1;32m      2\u001b[0m \u001b[0;32mfrom\u001b[0m \u001b[0mazure\u001b[0m\u001b[0;34m.\u001b[0m\u001b[0mkusto\u001b[0m\u001b[0;34m.\u001b[0m\u001b[0mdata\u001b[0m\u001b[0;34m.\u001b[0m\u001b[0mexceptions\u001b[0m \u001b[0;32mimport\u001b[0m \u001b[0mKustoServiceError\u001b[0m\u001b[0;34m\u001b[0m\u001b[0m\n\u001b[0;32m----> 3\u001b[0;31m \u001b[0;32mfrom\u001b[0m \u001b[0mazure\u001b[0m\u001b[0;34m.\u001b[0m\u001b[0mkusto\u001b[0m\u001b[0;34m.\u001b[0m\u001b[0mdata\u001b[0m\u001b[0;34m.\u001b[0m\u001b[0mhelpers\u001b[0m \u001b[0;32mimport\u001b[0m \u001b[0mdataframe_from_result_table\u001b[0m\u001b[0;34m\u001b[0m\u001b[0m\n\u001b[0m\u001b[1;32m      4\u001b[0m \u001b[0;34m\u001b[0m\u001b[0m\n\u001b[1;32m      5\u001b[0m \u001b[0;34m\u001b[0m\u001b[0m\n",
            "\u001b[0;31mModuleNotFoundError\u001b[0m: No module named 'azure.kusto.data.helpers'"
          ]
        }
      ]
    },
    {
      "metadata": {
        "trusted": true
      },
      "cell_type": "code",
      "source": "from azure.kusto.data.request import KustoClient, KustoConnectionStringBuilder\n\ncluster = \"https://help.kusto.windows.net\"\nclient_id = \"<insert here your AAD application id>\"\nclient_secret = \"<insert here your AAD application key>\"\nauthority_id = \"<insert here your AAD tenet id>\"\n\nkcsb = KustoConnectionStringBuilder.with_aad_application_key_authentication(cluster, client_id, client_secret, authority_id)\nclient = KustoClient(kcsb)\n\ndb = \"Samples\"\nquery = \"StormEvents | take 10\"\n\nresponse = client.execute(db, query)\nfor row in response.primary_results[0]:\n    print(row[0], \" \", row[\"EventType\"])",
      "execution_count": 7,
      "outputs": [
        {
          "output_type": "error",
          "ename": "TypeError",
          "evalue": "with_aad_application_key_authentication() takes 4 positional arguments but 5 were given",
          "traceback": [
            "\u001b[0;31m---------------------------------------------------------------------------\u001b[0m",
            "\u001b[0;31mTypeError\u001b[0m                                 Traceback (most recent call last)",
            "\u001b[0;32m<ipython-input-7-ebbc605d7133>\u001b[0m in \u001b[0;36m<module>\u001b[0;34m\u001b[0m\n\u001b[1;32m      6\u001b[0m \u001b[0mauthority_id\u001b[0m \u001b[0;34m=\u001b[0m \u001b[0;34m\"<insert here your AAD tenet id>\"\u001b[0m\u001b[0;34m\u001b[0m\u001b[0m\n\u001b[1;32m      7\u001b[0m \u001b[0;34m\u001b[0m\u001b[0m\n\u001b[0;32m----> 8\u001b[0;31m \u001b[0mkcsb\u001b[0m \u001b[0;34m=\u001b[0m \u001b[0mKustoConnectionStringBuilder\u001b[0m\u001b[0;34m.\u001b[0m\u001b[0mwith_aad_application_key_authentication\u001b[0m\u001b[0;34m(\u001b[0m\u001b[0mcluster\u001b[0m\u001b[0;34m,\u001b[0m \u001b[0mclient_id\u001b[0m\u001b[0;34m,\u001b[0m \u001b[0mclient_secret\u001b[0m\u001b[0;34m,\u001b[0m \u001b[0mauthority_id\u001b[0m\u001b[0;34m)\u001b[0m\u001b[0;34m\u001b[0m\u001b[0m\n\u001b[0m\u001b[1;32m      9\u001b[0m \u001b[0mclient\u001b[0m \u001b[0;34m=\u001b[0m \u001b[0mKustoClient\u001b[0m\u001b[0;34m(\u001b[0m\u001b[0mkcsb\u001b[0m\u001b[0;34m)\u001b[0m\u001b[0;34m\u001b[0m\u001b[0m\n\u001b[1;32m     10\u001b[0m \u001b[0;34m\u001b[0m\u001b[0m\n",
            "\u001b[0;31mTypeError\u001b[0m: with_aad_application_key_authentication() takes 4 positional arguments but 5 were given"
          ]
        }
      ]
    },
    {
      "metadata": {
        "trusted": true
      },
      "cell_type": "code",
      "source": "from azure.kusto.data.request import KustoConnectionStringBuilder\nfrom azure.kusto.ingest import KustoIngestClient, IngestionProperties, FileDescriptor, BlobDescriptor, DataFormat\n\ningestion_props = IngestionProperties(database=\"{database_name}\", table=\"{table_name}\", dataFormat=DataFormat.csv)\nclient = KustoIngestClient(\"https://ingest-{cluster_name}.kusto.windows.net\")\n\nfile_descriptor = FileDescriptor(\"{filename}.csv\", 3333)  # 3333 is the raw size of the data in bytes.\nclient.ingest_from_file(file_descriptor, ingestion_properties=ingestion_props)\nclient.ingest_from_file(\"{filename}.csv\", ingestion_properties=ingestion_props)\n\nblob_descriptor = BlobDescriptor(\"https://{path_to_blob}.csv.gz?sas\", 10)  # 10 is the raw size of the data in bytes.\nclient.ingest_from_blob(blob_descriptor, ingestion_properties=ingestion_props)",
      "execution_count": 6,
      "outputs": [
        {
          "output_type": "error",
          "ename": "FileNotFoundError",
          "evalue": "[Errno 2] No such file or directory: '{filename}.csv'",
          "traceback": [
            "\u001b[0;31m---------------------------------------------------------------------------\u001b[0m",
            "\u001b[0;31mFileNotFoundError\u001b[0m                         Traceback (most recent call last)",
            "\u001b[0;32m<ipython-input-6-ecc4abaf227d>\u001b[0m in \u001b[0;36m<module>\u001b[0;34m\u001b[0m\n\u001b[1;32m      5\u001b[0m \u001b[0mclient\u001b[0m \u001b[0;34m=\u001b[0m \u001b[0mKustoIngestClient\u001b[0m\u001b[0;34m(\u001b[0m\u001b[0;34m\"https://ingest-{cluster_name}.kusto.windows.net\"\u001b[0m\u001b[0;34m)\u001b[0m\u001b[0;34m\u001b[0m\u001b[0m\n\u001b[1;32m      6\u001b[0m \u001b[0;34m\u001b[0m\u001b[0m\n\u001b[0;32m----> 7\u001b[0;31m \u001b[0mfile_descriptor\u001b[0m \u001b[0;34m=\u001b[0m \u001b[0mFileDescriptor\u001b[0m\u001b[0;34m(\u001b[0m\u001b[0;34m\"{filename}.csv\"\u001b[0m\u001b[0;34m,\u001b[0m \u001b[0;36m3333\u001b[0m\u001b[0;34m)\u001b[0m  \u001b[0;31m# 3333 is the raw size of the data in bytes.\u001b[0m\u001b[0;34m\u001b[0m\u001b[0m\n\u001b[0m\u001b[1;32m      8\u001b[0m \u001b[0mclient\u001b[0m\u001b[0;34m.\u001b[0m\u001b[0mingest_from_file\u001b[0m\u001b[0;34m(\u001b[0m\u001b[0mfile_descriptor\u001b[0m\u001b[0;34m,\u001b[0m \u001b[0mingestion_properties\u001b[0m\u001b[0;34m=\u001b[0m\u001b[0mingestion_props\u001b[0m\u001b[0;34m)\u001b[0m\u001b[0;34m\u001b[0m\u001b[0m\n\u001b[1;32m      9\u001b[0m \u001b[0mclient\u001b[0m\u001b[0;34m.\u001b[0m\u001b[0mingest_from_file\u001b[0m\u001b[0;34m(\u001b[0m\u001b[0;34m\"{filename}.csv\"\u001b[0m\u001b[0;34m,\u001b[0m \u001b[0mingestion_properties\u001b[0m\u001b[0;34m=\u001b[0m\u001b[0mingestion_props\u001b[0m\u001b[0;34m)\u001b[0m\u001b[0;34m\u001b[0m\u001b[0m\n",
            "\u001b[0;32m~/anaconda3_501/lib/python3.6/site-packages/azure/kusto/ingest/_descriptors.py\u001b[0m in \u001b[0;36m__init__\u001b[0;34m(self, path, size)\u001b[0m\n\u001b[1;32m     23\u001b[0m                 \u001b[0mself\u001b[0m\u001b[0;34m.\u001b[0m\u001b[0msize\u001b[0m \u001b[0;34m=\u001b[0m \u001b[0mint\u001b[0m\u001b[0;34m(\u001b[0m\u001b[0mos\u001b[0m\u001b[0;34m.\u001b[0m\u001b[0mpath\u001b[0m\u001b[0;34m.\u001b[0m\u001b[0mgetsize\u001b[0m\u001b[0;34m(\u001b[0m\u001b[0mself\u001b[0m\u001b[0;34m.\u001b[0m\u001b[0mpath\u001b[0m\u001b[0;34m)\u001b[0m\u001b[0;34m)\u001b[0m \u001b[0;34m*\u001b[0m \u001b[0;36m5\u001b[0m\u001b[0;34m\u001b[0m\u001b[0m\n\u001b[1;32m     24\u001b[0m         \u001b[0;32melse\u001b[0m\u001b[0;34m:\u001b[0m\u001b[0;34m\u001b[0m\u001b[0m\n\u001b[0;32m---> 25\u001b[0;31m             \u001b[0mself\u001b[0m\u001b[0;34m.\u001b[0m\u001b[0msize\u001b[0m \u001b[0;34m=\u001b[0m \u001b[0mint\u001b[0m\u001b[0;34m(\u001b[0m\u001b[0mos\u001b[0m\u001b[0;34m.\u001b[0m\u001b[0mpath\u001b[0m\u001b[0;34m.\u001b[0m\u001b[0mgetsize\u001b[0m\u001b[0;34m(\u001b[0m\u001b[0mself\u001b[0m\u001b[0;34m.\u001b[0m\u001b[0mpath\u001b[0m\u001b[0;34m)\u001b[0m\u001b[0;34m)\u001b[0m\u001b[0;34m\u001b[0m\u001b[0m\n\u001b[0m\u001b[1;32m     26\u001b[0m             \u001b[0mself\u001b[0m\u001b[0;34m.\u001b[0m\u001b[0mstream_name\u001b[0m \u001b[0;34m+=\u001b[0m \u001b[0;34m\".gz\"\u001b[0m\u001b[0;34m\u001b[0m\u001b[0m\n\u001b[1;32m     27\u001b[0m             \u001b[0mself\u001b[0m\u001b[0;34m.\u001b[0m\u001b[0mzipped_stream\u001b[0m \u001b[0;34m=\u001b[0m \u001b[0mBytesIO\u001b[0m\u001b[0;34m(\u001b[0m\u001b[0;34m)\u001b[0m\u001b[0;34m\u001b[0m\u001b[0m\n",
            "\u001b[0;32m~/anaconda3_501/lib/python3.6/genericpath.py\u001b[0m in \u001b[0;36mgetsize\u001b[0;34m(filename)\u001b[0m\n\u001b[1;32m     48\u001b[0m \u001b[0;32mdef\u001b[0m \u001b[0mgetsize\u001b[0m\u001b[0;34m(\u001b[0m\u001b[0mfilename\u001b[0m\u001b[0;34m)\u001b[0m\u001b[0;34m:\u001b[0m\u001b[0;34m\u001b[0m\u001b[0m\n\u001b[1;32m     49\u001b[0m     \u001b[0;34m\"\"\"Return the size of a file, reported by os.stat().\"\"\"\u001b[0m\u001b[0;34m\u001b[0m\u001b[0m\n\u001b[0;32m---> 50\u001b[0;31m     \u001b[0;32mreturn\u001b[0m \u001b[0mos\u001b[0m\u001b[0;34m.\u001b[0m\u001b[0mstat\u001b[0m\u001b[0;34m(\u001b[0m\u001b[0mfilename\u001b[0m\u001b[0;34m)\u001b[0m\u001b[0;34m.\u001b[0m\u001b[0mst_size\u001b[0m\u001b[0;34m\u001b[0m\u001b[0m\n\u001b[0m\u001b[1;32m     51\u001b[0m \u001b[0;34m\u001b[0m\u001b[0m\n\u001b[1;32m     52\u001b[0m \u001b[0;34m\u001b[0m\u001b[0m\n",
            "\u001b[0;31mFileNotFoundError\u001b[0m: [Errno 2] No such file or directory: '{filename}.csv'"
          ]
        }
      ]
    },
    {
      "metadata": {
        "trusted": true
      },
      "cell_type": "code",
      "source": "",
      "execution_count": null,
      "outputs": []
    }
  ],
  "metadata": {
    "kernelspec": {
      "name": "python36",
      "display_name": "Python 3.6",
      "language": "python"
    },
    "language_info": {
      "mimetype": "text/x-python",
      "nbconvert_exporter": "python",
      "name": "python",
      "pygments_lexer": "ipython3",
      "version": "3.6.6",
      "file_extension": ".py",
      "codemirror_mode": {
        "version": 3,
        "name": "ipython"
      }
    }
  },
  "nbformat": 4,
  "nbformat_minor": 1
}