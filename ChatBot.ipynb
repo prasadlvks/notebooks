{
  "cells": [
    {
      "metadata": {
        "collapsed": true
      },
      "cell_type": "markdown",
      "source": "ChatBot"
    },
    {
      "metadata": {
        "trusted": true
      },
      "cell_type": "code",
      "source": "datasciense = \"Data Science is a blend of various tools, algorithms, and machine learning principles with the goal to discover hidden patterns from the raw data\"",
      "execution_count": 1,
      "outputs": []
    },
    {
      "metadata": {
        "trusted": true
      },
      "cell_type": "code",
      "source": "flag=True\nprint(\"DocBot: I am a doctor:\")\nwhile (flag == True):\n    user_response = input()\n    user_response = user_response.lower()\n    if (user_response.lower() != \"bye\"):\n        if(user_response.lower() == \"hi\" or user_response.lower() == \"hello\"):\n            print(\"DocBot: Hi\")\n        elif(user_response.lower() == \"thanks\" or user_response.lower() == \"thank you\"):\n            print(\"DocBot: You are welcome\")\n        elif(user_response.lower() == \"who are you\" or user_response.lower() == \"who r u\"):\n            print(\"DocBot: I am Doctor Bot, I can help you in analysing patients data.\")\n        elif(user_response.lower() == \"what is your name\" or user_response.lower() == \"your name\"):\n            print(\"DocBot: My Name is Doctor Bot\")\n        elif(user_response.lower() == \"what is datasciense\" or user_response.lower() == \"what is data sciense\"):\n            print(\"DocBot: \" + datascience)\n        else:\n            print(\"DocBot: I didnot get you\")\n    else:\n        flag = False\n        print(\"DocBot: Bye, See you later\")        ",
      "execution_count": 3,
      "outputs": [
        {
          "output_type": "stream",
          "text": "DocBot: I am a doctor:\nhi\nDocBot: Hi\nhello\nDocBot: Hi\nhow are you\nDocBot: I didnot get you\nthank you\nDocBot: You are welcome\nwho r u\nDocBot: I am Doctor Bot, I can help you in analysing patients data.\nwhat is patients data\nDocBot: I didnot get you\nwhat is data schinse\nDocBot: I didnot get you\nwhat is data sciense\n",
          "name": "stdout"
        },
        {
          "output_type": "error",
          "ename": "NameError",
          "evalue": "name 'datascience' is not defined",
          "traceback": [
            "\u001b[0;31m---------------------------------------------------------------------------\u001b[0m",
            "\u001b[0;31mNameError\u001b[0m                                 Traceback (most recent call last)",
            "\u001b[0;32m<ipython-input-3-3dad8ca904df>\u001b[0m in \u001b[0;36m<module>\u001b[0;34m\u001b[0m\n\u001b[1;32m     14\u001b[0m             \u001b[0mprint\u001b[0m\u001b[0;34m(\u001b[0m\u001b[0;34m\"DocBot: My Name is Doctor Bot\"\u001b[0m\u001b[0;34m)\u001b[0m\u001b[0;34m\u001b[0m\u001b[0m\n\u001b[1;32m     15\u001b[0m         \u001b[0;32melif\u001b[0m\u001b[0;34m(\u001b[0m\u001b[0muser_response\u001b[0m\u001b[0;34m.\u001b[0m\u001b[0mlower\u001b[0m\u001b[0;34m(\u001b[0m\u001b[0;34m)\u001b[0m \u001b[0;34m==\u001b[0m \u001b[0;34m\"what is datasciense\"\u001b[0m \u001b[0;32mor\u001b[0m \u001b[0muser_response\u001b[0m\u001b[0;34m.\u001b[0m\u001b[0mlower\u001b[0m\u001b[0;34m(\u001b[0m\u001b[0;34m)\u001b[0m \u001b[0;34m==\u001b[0m \u001b[0;34m\"what is data sciense\"\u001b[0m\u001b[0;34m)\u001b[0m\u001b[0;34m:\u001b[0m\u001b[0;34m\u001b[0m\u001b[0m\n\u001b[0;32m---> 16\u001b[0;31m             \u001b[0mprint\u001b[0m\u001b[0;34m(\u001b[0m\u001b[0;34m\"DocBot: \"\u001b[0m \u001b[0;34m+\u001b[0m \u001b[0mdatascience\u001b[0m\u001b[0;34m)\u001b[0m\u001b[0;34m\u001b[0m\u001b[0m\n\u001b[0m\u001b[1;32m     17\u001b[0m         \u001b[0;32melse\u001b[0m\u001b[0;34m:\u001b[0m\u001b[0;34m\u001b[0m\u001b[0m\n\u001b[1;32m     18\u001b[0m             \u001b[0mprint\u001b[0m\u001b[0;34m(\u001b[0m\u001b[0;34m\"DocBot: I didnot get you\"\u001b[0m\u001b[0;34m)\u001b[0m\u001b[0;34m\u001b[0m\u001b[0m\n",
            "\u001b[0;31mNameError\u001b[0m: name 'datascience' is not defined"
          ]
        }
      ]
    },
    {
      "metadata": {
        "trusted": true
      },
      "cell_type": "code",
      "source": "",
      "execution_count": null,
      "outputs": []
    },
    {
      "metadata": {
        "trusted": true
      },
      "cell_type": "code",
      "source": "",
      "execution_count": null,
      "outputs": []
    }
  ],
  "metadata": {
    "kernelspec": {
      "name": "python36",
      "display_name": "Python 3.6",
      "language": "python"
    },
    "language_info": {
      "mimetype": "text/x-python",
      "nbconvert_exporter": "python",
      "name": "python",
      "pygments_lexer": "ipython3",
      "version": "3.6.6",
      "file_extension": ".py",
      "codemirror_mode": {
        "version": 3,
        "name": "ipython"
      }
    }
  },
  "nbformat": 4,
  "nbformat_minor": 2
}