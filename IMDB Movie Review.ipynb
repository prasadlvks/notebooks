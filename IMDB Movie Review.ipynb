{
  "cells": [
    {
      "metadata": {
        "trusted": true
      },
      "cell_type": "code",
      "source": "import pandas as pd",
      "execution_count": 2,
      "outputs": []
    },
    {
      "metadata": {
        "trusted": true
      },
      "cell_type": "code",
      "source": "df = pd.read_csv('https://raw.githubusercontent.com/justmarkham/pandas-videos/master/data/imdb_1000.csv')\ndf.head()",
      "execution_count": 5,
      "outputs": [
        {
          "output_type": "execute_result",
          "execution_count": 5,
          "data": {
            "text/html": "<div>\n<style scoped>\n    .dataframe tbody tr th:only-of-type {\n        vertical-align: middle;\n    }\n\n    .dataframe tbody tr th {\n        vertical-align: top;\n    }\n\n    .dataframe thead th {\n        text-align: right;\n    }\n</style>\n<table border=\"1\" class=\"dataframe\">\n  <thead>\n    <tr style=\"text-align: right;\">\n      <th></th>\n      <th>star_rating</th>\n      <th>title</th>\n      <th>content_rating</th>\n      <th>genre</th>\n      <th>duration</th>\n      <th>actors_list</th>\n    </tr>\n  </thead>\n  <tbody>\n    <tr>\n      <th>0</th>\n      <td>9.3</td>\n      <td>The Shawshank Redemption</td>\n      <td>R</td>\n      <td>Crime</td>\n      <td>142</td>\n      <td>[u'Tim Robbins', u'Morgan Freeman', u'Bob Gunt...</td>\n    </tr>\n    <tr>\n      <th>1</th>\n      <td>9.2</td>\n      <td>The Godfather</td>\n      <td>R</td>\n      <td>Crime</td>\n      <td>175</td>\n      <td>[u'Marlon Brando', u'Al Pacino', u'James Caan']</td>\n    </tr>\n    <tr>\n      <th>2</th>\n      <td>9.1</td>\n      <td>The Godfather: Part II</td>\n      <td>R</td>\n      <td>Crime</td>\n      <td>200</td>\n      <td>[u'Al Pacino', u'Robert De Niro', u'Robert Duv...</td>\n    </tr>\n    <tr>\n      <th>3</th>\n      <td>9.0</td>\n      <td>The Dark Knight</td>\n      <td>PG-13</td>\n      <td>Action</td>\n      <td>152</td>\n      <td>[u'Christian Bale', u'Heath Ledger', u'Aaron E...</td>\n    </tr>\n    <tr>\n      <th>4</th>\n      <td>8.9</td>\n      <td>Pulp Fiction</td>\n      <td>R</td>\n      <td>Crime</td>\n      <td>154</td>\n      <td>[u'John Travolta', u'Uma Thurman', u'Samuel L....</td>\n    </tr>\n  </tbody>\n</table>\n</div>",
            "text/plain": "   star_rating                     title content_rating   genre  duration  \\\n0          9.3  The Shawshank Redemption              R   Crime       142   \n1          9.2             The Godfather              R   Crime       175   \n2          9.1    The Godfather: Part II              R   Crime       200   \n3          9.0           The Dark Knight          PG-13  Action       152   \n4          8.9              Pulp Fiction              R   Crime       154   \n\n                                         actors_list  \n0  [u'Tim Robbins', u'Morgan Freeman', u'Bob Gunt...  \n1    [u'Marlon Brando', u'Al Pacino', u'James Caan']  \n2  [u'Al Pacino', u'Robert De Niro', u'Robert Duv...  \n3  [u'Christian Bale', u'Heath Ledger', u'Aaron E...  \n4  [u'John Travolta', u'Uma Thurman', u'Samuel L....  "
          },
          "metadata": {}
        }
      ]
    },
    {
      "metadata": {
        "trusted": true
      },
      "cell_type": "code",
      "source": "df['genre'].value_counts()",
      "execution_count": 10,
      "outputs": [
        {
          "output_type": "execute_result",
          "execution_count": 10,
          "data": {
            "text/plain": "Drama        278\nComedy       156\nAction       136\nCrime        124\nBiography     77\nAdventure     75\nAnimation     62\nHorror        29\nMystery       16\nWestern        9\nSci-Fi         5\nThriller       5\nFilm-Noir      3\nFamily         2\nFantasy        1\nHistory        1\nName: genre, dtype: int64"
          },
          "metadata": {}
        }
      ]
    },
    {
      "metadata": {
        "trusted": true
      },
      "cell_type": "code",
      "source": "df.groupby('genre')['title'].count().sort_values(ascending = False)",
      "execution_count": 16,
      "outputs": [
        {
          "output_type": "execute_result",
          "execution_count": 16,
          "data": {
            "text/plain": "genre\nDrama        278\nComedy       156\nAction       136\nCrime        124\nBiography     77\nAdventure     75\nAnimation     62\nHorror        29\nMystery       16\nWestern        9\nThriller       5\nSci-Fi         5\nFilm-Noir      3\nFamily         2\nHistory        1\nFantasy        1\nName: title, dtype: int64"
          },
          "metadata": {}
        }
      ]
    },
    {
      "metadata": {
        "trusted": true
      },
      "cell_type": "code",
      "source": "df['star_rating'].agg(min)",
      "execution_count": 27,
      "outputs": [
        {
          "output_type": "execute_result",
          "execution_count": 27,
          "data": {
            "text/plain": "7.4"
          },
          "metadata": {}
        }
      ]
    },
    {
      "metadata": {
        "trusted": true
      },
      "cell_type": "code",
      "source": "df['star_rating'].agg([min,max])",
      "execution_count": 28,
      "outputs": [
        {
          "output_type": "execute_result",
          "execution_count": 28,
          "data": {
            "text/plain": "min    7.4\nmax    9.3\nName: star_rating, dtype: float64"
          },
          "metadata": {}
        }
      ]
    },
    {
      "metadata": {
        "trusted": true
      },
      "cell_type": "code",
      "source": "df.groupby('genre')['star_rating'].agg([min,max])",
      "execution_count": 29,
      "outputs": [
        {
          "output_type": "execute_result",
          "execution_count": 29,
          "data": {
            "text/html": "<div>\n<style scoped>\n    .dataframe tbody tr th:only-of-type {\n        vertical-align: middle;\n    }\n\n    .dataframe tbody tr th {\n        vertical-align: top;\n    }\n\n    .dataframe thead th {\n        text-align: right;\n    }\n</style>\n<table border=\"1\" class=\"dataframe\">\n  <thead>\n    <tr style=\"text-align: right;\">\n      <th></th>\n      <th>min</th>\n      <th>max</th>\n    </tr>\n    <tr>\n      <th>genre</th>\n      <th></th>\n      <th></th>\n    </tr>\n  </thead>\n  <tbody>\n    <tr>\n      <th>Action</th>\n      <td>7.4</td>\n      <td>9.0</td>\n    </tr>\n    <tr>\n      <th>Adventure</th>\n      <td>7.4</td>\n      <td>8.9</td>\n    </tr>\n    <tr>\n      <th>Animation</th>\n      <td>7.4</td>\n      <td>8.6</td>\n    </tr>\n    <tr>\n      <th>Biography</th>\n      <td>7.4</td>\n      <td>8.9</td>\n    </tr>\n    <tr>\n      <th>Comedy</th>\n      <td>7.4</td>\n      <td>8.6</td>\n    </tr>\n    <tr>\n      <th>Crime</th>\n      <td>7.4</td>\n      <td>9.3</td>\n    </tr>\n    <tr>\n      <th>Drama</th>\n      <td>7.4</td>\n      <td>8.9</td>\n    </tr>\n    <tr>\n      <th>Family</th>\n      <td>7.8</td>\n      <td>7.9</td>\n    </tr>\n    <tr>\n      <th>Fantasy</th>\n      <td>7.7</td>\n      <td>7.7</td>\n    </tr>\n    <tr>\n      <th>Film-Noir</th>\n      <td>7.7</td>\n      <td>8.3</td>\n    </tr>\n    <tr>\n      <th>History</th>\n      <td>8.0</td>\n      <td>8.0</td>\n    </tr>\n    <tr>\n      <th>Horror</th>\n      <td>7.4</td>\n      <td>8.6</td>\n    </tr>\n    <tr>\n      <th>Mystery</th>\n      <td>7.4</td>\n      <td>8.6</td>\n    </tr>\n    <tr>\n      <th>Sci-Fi</th>\n      <td>7.7</td>\n      <td>8.2</td>\n    </tr>\n    <tr>\n      <th>Thriller</th>\n      <td>7.5</td>\n      <td>8.0</td>\n    </tr>\n    <tr>\n      <th>Western</th>\n      <td>7.6</td>\n      <td>8.9</td>\n    </tr>\n  </tbody>\n</table>\n</div>",
            "text/plain": "           min  max\ngenre              \nAction     7.4  9.0\nAdventure  7.4  8.9\nAnimation  7.4  8.6\nBiography  7.4  8.9\nComedy     7.4  8.6\nCrime      7.4  9.3\nDrama      7.4  8.9\nFamily     7.8  7.9\nFantasy    7.7  7.7\nFilm-Noir  7.7  8.3\nHistory    8.0  8.0\nHorror     7.4  8.6\nMystery    7.4  8.6\nSci-Fi     7.7  8.2\nThriller   7.5  8.0\nWestern    7.6  8.9"
          },
          "metadata": {}
        }
      ]
    },
    {
      "metadata": {
        "trusted": true
      },
      "cell_type": "code",
      "source": "",
      "execution_count": null,
      "outputs": []
    }
  ],
  "metadata": {
    "kernelspec": {
      "name": "python36",
      "display_name": "Python 3.6",
      "language": "python"
    },
    "language_info": {
      "mimetype": "text/x-python",
      "nbconvert_exporter": "python",
      "name": "python",
      "pygments_lexer": "ipython3",
      "version": "3.6.6",
      "file_extension": ".py",
      "codemirror_mode": {
        "version": 3,
        "name": "ipython"
      }
    }
  },
  "nbformat": 4,
  "nbformat_minor": 2
}