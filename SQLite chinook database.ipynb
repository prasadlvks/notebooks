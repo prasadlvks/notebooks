{
  "cells": [
    {
      "metadata": {
        "trusted": true
      },
      "cell_type": "code",
      "source": "import pandas as pd\nfrom sqlalchemy import create_engine",
      "execution_count": 1,
      "outputs": []
    },
    {
      "metadata": {
        "trusted": true
      },
      "cell_type": "code",
      "source": "engine = create_engine('sqlite:///chinook.db')",
      "execution_count": 2,
      "outputs": []
    },
    {
      "metadata": {
        "trusted": true
      },
      "cell_type": "code",
      "source": "tables = engine.table_names()\ntables",
      "execution_count": 3,
      "outputs": [
        {
          "output_type": "execute_result",
          "execution_count": 3,
          "data": {
            "text/plain": "['albums',\n 'artists',\n 'customers',\n 'employees',\n 'genres',\n 'invoice_items',\n 'invoices',\n 'media_types',\n 'playlist_track',\n 'playlists',\n 'sqlite_sequence',\n 'sqlite_stat1',\n 'tracks']"
          },
          "metadata": {}
        }
      ]
    },
    {
      "metadata": {
        "trusted": true
      },
      "cell_type": "code",
      "source": "con = engine.connect()\ncon",
      "execution_count": 12,
      "outputs": [
        {
          "output_type": "execute_result",
          "execution_count": 12,
          "data": {
            "text/plain": "<sqlalchemy.engine.base.Connection at 0x7fad2ca96cf8>"
          },
          "metadata": {}
        }
      ]
    },
    {
      "metadata": {
        "trusted": true
      },
      "cell_type": "code",
      "source": "result = con.execute('select * from albums')\nresult",
      "execution_count": 13,
      "outputs": [
        {
          "output_type": "execute_result",
          "execution_count": 13,
          "data": {
            "text/plain": "<sqlalchemy.engine.result.ResultProxy at 0x7fad2ca96d68>"
          },
          "metadata": {}
        }
      ]
    },
    {
      "metadata": {
        "trusted": true
      },
      "cell_type": "code",
      "source": "df = pd.DataFrame(result.fetchall(),columns=result.keys())",
      "execution_count": 14,
      "outputs": []
    },
    {
      "metadata": {
        "trusted": true
      },
      "cell_type": "code",
      "source": "#con.close()",
      "execution_count": 9,
      "outputs": []
    },
    {
      "metadata": {
        "trusted": true
      },
      "cell_type": "code",
      "source": "df.head()",
      "execution_count": 15,
      "outputs": [
        {
          "output_type": "execute_result",
          "execution_count": 15,
          "data": {
            "text/html": "<div>\n<style scoped>\n    .dataframe tbody tr th:only-of-type {\n        vertical-align: middle;\n    }\n\n    .dataframe tbody tr th {\n        vertical-align: top;\n    }\n\n    .dataframe thead th {\n        text-align: right;\n    }\n</style>\n<table border=\"1\" class=\"dataframe\">\n  <thead>\n    <tr style=\"text-align: right;\">\n      <th></th>\n      <th>AlbumId</th>\n      <th>Title</th>\n      <th>ArtistId</th>\n    </tr>\n  </thead>\n  <tbody>\n    <tr>\n      <th>0</th>\n      <td>1</td>\n      <td>For Those About To Rock We Salute You</td>\n      <td>1</td>\n    </tr>\n    <tr>\n      <th>1</th>\n      <td>2</td>\n      <td>Balls to the Wall</td>\n      <td>2</td>\n    </tr>\n    <tr>\n      <th>2</th>\n      <td>3</td>\n      <td>Restless and Wild</td>\n      <td>2</td>\n    </tr>\n    <tr>\n      <th>3</th>\n      <td>4</td>\n      <td>Let There Be Rock</td>\n      <td>1</td>\n    </tr>\n    <tr>\n      <th>4</th>\n      <td>5</td>\n      <td>Big Ones</td>\n      <td>3</td>\n    </tr>\n    <tr>\n      <th>5</th>\n      <td>6</td>\n      <td>Jagged Little Pill</td>\n      <td>4</td>\n    </tr>\n    <tr>\n      <th>6</th>\n      <td>7</td>\n      <td>Facelift</td>\n      <td>5</td>\n    </tr>\n    <tr>\n      <th>7</th>\n      <td>8</td>\n      <td>Warner 25 Anos</td>\n      <td>6</td>\n    </tr>\n    <tr>\n      <th>8</th>\n      <td>9</td>\n      <td>Plays Metallica By Four Cellos</td>\n      <td>7</td>\n    </tr>\n    <tr>\n      <th>9</th>\n      <td>10</td>\n      <td>Audioslave</td>\n      <td>8</td>\n    </tr>\n    <tr>\n      <th>10</th>\n      <td>11</td>\n      <td>Out Of Exile</td>\n      <td>8</td>\n    </tr>\n    <tr>\n      <th>11</th>\n      <td>12</td>\n      <td>BackBeat Soundtrack</td>\n      <td>9</td>\n    </tr>\n    <tr>\n      <th>12</th>\n      <td>13</td>\n      <td>The Best Of Billy Cobham</td>\n      <td>10</td>\n    </tr>\n    <tr>\n      <th>13</th>\n      <td>14</td>\n      <td>Alcohol Fueled Brewtality Live! [Disc 1]</td>\n      <td>11</td>\n    </tr>\n    <tr>\n      <th>14</th>\n      <td>15</td>\n      <td>Alcohol Fueled Brewtality Live! [Disc 2]</td>\n      <td>11</td>\n    </tr>\n    <tr>\n      <th>15</th>\n      <td>16</td>\n      <td>Black Sabbath</td>\n      <td>12</td>\n    </tr>\n    <tr>\n      <th>16</th>\n      <td>17</td>\n      <td>Black Sabbath Vol. 4 (Remaster)</td>\n      <td>12</td>\n    </tr>\n    <tr>\n      <th>17</th>\n      <td>18</td>\n      <td>Body Count</td>\n      <td>13</td>\n    </tr>\n    <tr>\n      <th>18</th>\n      <td>19</td>\n      <td>Chemical Wedding</td>\n      <td>14</td>\n    </tr>\n    <tr>\n      <th>19</th>\n      <td>20</td>\n      <td>The Best Of Buddy Guy - The Millenium Collection</td>\n      <td>15</td>\n    </tr>\n    <tr>\n      <th>20</th>\n      <td>21</td>\n      <td>Prenda Minha</td>\n      <td>16</td>\n    </tr>\n    <tr>\n      <th>21</th>\n      <td>22</td>\n      <td>Sozinho Remix Ao Vivo</td>\n      <td>16</td>\n    </tr>\n    <tr>\n      <th>22</th>\n      <td>23</td>\n      <td>Minha Historia</td>\n      <td>17</td>\n    </tr>\n    <tr>\n      <th>23</th>\n      <td>24</td>\n      <td>Afrociberdelia</td>\n      <td>18</td>\n    </tr>\n    <tr>\n      <th>24</th>\n      <td>25</td>\n      <td>Da Lama Ao Caos</td>\n      <td>18</td>\n    </tr>\n    <tr>\n      <th>25</th>\n      <td>26</td>\n      <td>Acústico MTV [Live]</td>\n      <td>19</td>\n    </tr>\n    <tr>\n      <th>26</th>\n      <td>27</td>\n      <td>Cidade Negra - Hits</td>\n      <td>19</td>\n    </tr>\n    <tr>\n      <th>27</th>\n      <td>28</td>\n      <td>Na Pista</td>\n      <td>20</td>\n    </tr>\n    <tr>\n      <th>28</th>\n      <td>29</td>\n      <td>Axé Bahia 2001</td>\n      <td>21</td>\n    </tr>\n    <tr>\n      <th>29</th>\n      <td>30</td>\n      <td>BBC Sessions [Disc 1] [Live]</td>\n      <td>22</td>\n    </tr>\n    <tr>\n      <th>...</th>\n      <td>...</td>\n      <td>...</td>\n      <td>...</td>\n    </tr>\n    <tr>\n      <th>317</th>\n      <td>318</td>\n      <td>SCRIABIN: Vers la flamme</td>\n      <td>250</td>\n    </tr>\n    <tr>\n      <th>318</th>\n      <td>319</td>\n      <td>Armada: Music from the Courts of England and S...</td>\n      <td>251</td>\n    </tr>\n    <tr>\n      <th>319</th>\n      <td>320</td>\n      <td>Mozart: Symphonies Nos. 40 &amp; 41</td>\n      <td>248</td>\n    </tr>\n    <tr>\n      <th>320</th>\n      <td>321</td>\n      <td>Back to Black</td>\n      <td>252</td>\n    </tr>\n    <tr>\n      <th>321</th>\n      <td>322</td>\n      <td>Frank</td>\n      <td>252</td>\n    </tr>\n    <tr>\n      <th>322</th>\n      <td>323</td>\n      <td>Carried to Dust (Bonus Track Version)</td>\n      <td>253</td>\n    </tr>\n    <tr>\n      <th>323</th>\n      <td>324</td>\n      <td>Beethoven: Symphony No. 6 'Pastoral' Etc.</td>\n      <td>254</td>\n    </tr>\n    <tr>\n      <th>324</th>\n      <td>325</td>\n      <td>Bartok: Violin &amp; Viola Concertos</td>\n      <td>255</td>\n    </tr>\n    <tr>\n      <th>325</th>\n      <td>326</td>\n      <td>Mendelssohn: A Midsummer Night's Dream</td>\n      <td>256</td>\n    </tr>\n    <tr>\n      <th>326</th>\n      <td>327</td>\n      <td>Bach: Orchestral Suites Nos. 1 - 4</td>\n      <td>257</td>\n    </tr>\n    <tr>\n      <th>327</th>\n      <td>328</td>\n      <td>Charpentier: Divertissements, Airs &amp; Concerts</td>\n      <td>258</td>\n    </tr>\n    <tr>\n      <th>328</th>\n      <td>329</td>\n      <td>South American Getaway</td>\n      <td>259</td>\n    </tr>\n    <tr>\n      <th>329</th>\n      <td>330</td>\n      <td>Górecki: Symphony No. 3</td>\n      <td>260</td>\n    </tr>\n    <tr>\n      <th>330</th>\n      <td>331</td>\n      <td>Purcell: The Fairy Queen</td>\n      <td>261</td>\n    </tr>\n    <tr>\n      <th>331</th>\n      <td>332</td>\n      <td>The Ultimate Relexation Album</td>\n      <td>262</td>\n    </tr>\n    <tr>\n      <th>332</th>\n      <td>333</td>\n      <td>Purcell: Music for the Queen Mary</td>\n      <td>263</td>\n    </tr>\n    <tr>\n      <th>333</th>\n      <td>334</td>\n      <td>Weill: The Seven Deadly Sins</td>\n      <td>264</td>\n    </tr>\n    <tr>\n      <th>334</th>\n      <td>335</td>\n      <td>J.S. Bach: Chaconne, Suite in E Minor, Partita...</td>\n      <td>265</td>\n    </tr>\n    <tr>\n      <th>335</th>\n      <td>336</td>\n      <td>Prokofiev: Symphony No.5 &amp; Stravinksy: Le Sacr...</td>\n      <td>248</td>\n    </tr>\n    <tr>\n      <th>336</th>\n      <td>337</td>\n      <td>Szymanowski: Piano Works, Vol. 1</td>\n      <td>266</td>\n    </tr>\n    <tr>\n      <th>337</th>\n      <td>338</td>\n      <td>Nielsen: The Six Symphonies</td>\n      <td>267</td>\n    </tr>\n    <tr>\n      <th>338</th>\n      <td>339</td>\n      <td>Great Recordings of the Century: Paganini's 24...</td>\n      <td>268</td>\n    </tr>\n    <tr>\n      <th>339</th>\n      <td>340</td>\n      <td>Liszt - 12 Études D'Execution Transcendante</td>\n      <td>269</td>\n    </tr>\n    <tr>\n      <th>340</th>\n      <td>341</td>\n      <td>Great Recordings of the Century - Shubert: Sch...</td>\n      <td>270</td>\n    </tr>\n    <tr>\n      <th>341</th>\n      <td>342</td>\n      <td>Locatelli: Concertos for Violin, Strings and C...</td>\n      <td>271</td>\n    </tr>\n    <tr>\n      <th>342</th>\n      <td>343</td>\n      <td>Respighi:Pines of Rome</td>\n      <td>226</td>\n    </tr>\n    <tr>\n      <th>343</th>\n      <td>344</td>\n      <td>Schubert: The Late String Quartets &amp; String Qu...</td>\n      <td>272</td>\n    </tr>\n    <tr>\n      <th>344</th>\n      <td>345</td>\n      <td>Monteverdi: L'Orfeo</td>\n      <td>273</td>\n    </tr>\n    <tr>\n      <th>345</th>\n      <td>346</td>\n      <td>Mozart: Chamber Music</td>\n      <td>274</td>\n    </tr>\n    <tr>\n      <th>346</th>\n      <td>347</td>\n      <td>Koyaanisqatsi (Soundtrack from the Motion Pict...</td>\n      <td>275</td>\n    </tr>\n  </tbody>\n</table>\n<p>347 rows × 3 columns</p>\n</div>",
            "text/plain": "     AlbumId                                              Title  ArtistId\n0          1              For Those About To Rock We Salute You         1\n1          2                                  Balls to the Wall         2\n2          3                                  Restless and Wild         2\n3          4                                  Let There Be Rock         1\n4          5                                           Big Ones         3\n5          6                                 Jagged Little Pill         4\n6          7                                           Facelift         5\n7          8                                     Warner 25 Anos         6\n8          9                     Plays Metallica By Four Cellos         7\n9         10                                         Audioslave         8\n10        11                                       Out Of Exile         8\n11        12                                BackBeat Soundtrack         9\n12        13                           The Best Of Billy Cobham        10\n13        14           Alcohol Fueled Brewtality Live! [Disc 1]        11\n14        15           Alcohol Fueled Brewtality Live! [Disc 2]        11\n15        16                                      Black Sabbath        12\n16        17                    Black Sabbath Vol. 4 (Remaster)        12\n17        18                                         Body Count        13\n18        19                                   Chemical Wedding        14\n19        20   The Best Of Buddy Guy - The Millenium Collection        15\n20        21                                       Prenda Minha        16\n21        22                              Sozinho Remix Ao Vivo        16\n22        23                                     Minha Historia        17\n23        24                                     Afrociberdelia        18\n24        25                                    Da Lama Ao Caos        18\n25        26                                Acústico MTV [Live]        19\n26        27                                Cidade Negra - Hits        19\n27        28                                           Na Pista        20\n28        29                                     Axé Bahia 2001        21\n29        30                       BBC Sessions [Disc 1] [Live]        22\n..       ...                                                ...       ...\n317      318                           SCRIABIN: Vers la flamme       250\n318      319  Armada: Music from the Courts of England and S...       251\n319      320                    Mozart: Symphonies Nos. 40 & 41       248\n320      321                                      Back to Black       252\n321      322                                              Frank       252\n322      323              Carried to Dust (Bonus Track Version)       253\n323      324          Beethoven: Symphony No. 6 'Pastoral' Etc.       254\n324      325                   Bartok: Violin & Viola Concertos       255\n325      326             Mendelssohn: A Midsummer Night's Dream       256\n326      327                 Bach: Orchestral Suites Nos. 1 - 4       257\n327      328      Charpentier: Divertissements, Airs & Concerts       258\n328      329                             South American Getaway       259\n329      330                            Górecki: Symphony No. 3       260\n330      331                           Purcell: The Fairy Queen       261\n331      332                      The Ultimate Relexation Album       262\n332      333                  Purcell: Music for the Queen Mary       263\n333      334                       Weill: The Seven Deadly Sins       264\n334      335  J.S. Bach: Chaconne, Suite in E Minor, Partita...       265\n335      336  Prokofiev: Symphony No.5 & Stravinksy: Le Sacr...       248\n336      337                   Szymanowski: Piano Works, Vol. 1       266\n337      338                        Nielsen: The Six Symphonies       267\n338      339  Great Recordings of the Century: Paganini's 24...       268\n339      340        Liszt - 12 Études D'Execution Transcendante       269\n340      341  Great Recordings of the Century - Shubert: Sch...       270\n341      342  Locatelli: Concertos for Violin, Strings and C...       271\n342      343                             Respighi:Pines of Rome       226\n343      344  Schubert: The Late String Quartets & String Qu...       272\n344      345                                Monteverdi: L'Orfeo       273\n345      346                              Mozart: Chamber Music       274\n346      347  Koyaanisqatsi (Soundtrack from the Motion Pict...       275\n\n[347 rows x 3 columns]"
          },
          "metadata": {}
        }
      ]
    },
    {
      "metadata": {
        "trusted": true
      },
      "cell_type": "code",
      "source": "",
      "execution_count": null,
      "outputs": []
    }
  ],
  "metadata": {
    "kernelspec": {
      "name": "python36",
      "display_name": "Python 3.6",
      "language": "python"
    },
    "language_info": {
      "mimetype": "text/x-python",
      "nbconvert_exporter": "python",
      "name": "python",
      "pygments_lexer": "ipython3",
      "version": "3.6.6",
      "file_extension": ".py",
      "codemirror_mode": {
        "version": 3,
        "name": "ipython"
      }
    }
  },
  "nbformat": 4,
  "nbformat_minor": 2
}