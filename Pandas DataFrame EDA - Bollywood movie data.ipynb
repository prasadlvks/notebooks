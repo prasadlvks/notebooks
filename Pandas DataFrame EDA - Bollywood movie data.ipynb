{
  "cells": [
    {
      "metadata": {
        "trusted": true
      },
      "cell_type": "code",
      "source": "import pandas as pd ",
      "execution_count": 1,
      "outputs": []
    },
    {
      "metadata": {
        "trusted": true
      },
      "cell_type": "code",
      "source": "bollywood_movie_df = pd.read_csv('bollywood.csv')\nbollywood_movie_df.head()",
      "execution_count": 2,
      "outputs": [
        {
          "output_type": "execute_result",
          "execution_count": 2,
          "data": {
            "text/html": "<div>\n<style scoped>\n    .dataframe tbody tr th:only-of-type {\n        vertical-align: middle;\n    }\n\n    .dataframe tbody tr th {\n        vertical-align: top;\n    }\n\n    .dataframe thead th {\n        text-align: right;\n    }\n</style>\n<table border=\"1\" class=\"dataframe\">\n  <thead>\n    <tr style=\"text-align: right;\">\n      <th></th>\n      <th>SlNo</th>\n      <th>Release Date</th>\n      <th>MovieName</th>\n      <th>ReleaseTime</th>\n      <th>Genre</th>\n      <th>Budget</th>\n      <th>BoxOfficeCollection</th>\n      <th>YoutubeViews</th>\n      <th>YoutubeLikes</th>\n      <th>YoutubeDislikes</th>\n    </tr>\n  </thead>\n  <tbody>\n    <tr>\n      <th>0</th>\n      <td>1</td>\n      <td>18-Apr-14</td>\n      <td>2 States</td>\n      <td>LW</td>\n      <td>Romance</td>\n      <td>36</td>\n      <td>104.00</td>\n      <td>8576361</td>\n      <td>26622</td>\n      <td>2527</td>\n    </tr>\n    <tr>\n      <th>1</th>\n      <td>2</td>\n      <td>4-Jan-13</td>\n      <td>Table No. 21</td>\n      <td>N</td>\n      <td>Thriller</td>\n      <td>10</td>\n      <td>12.00</td>\n      <td>1087320</td>\n      <td>1129</td>\n      <td>137</td>\n    </tr>\n    <tr>\n      <th>2</th>\n      <td>3</td>\n      <td>18-Jul-14</td>\n      <td>Amit Sahni Ki List</td>\n      <td>N</td>\n      <td>Comedy</td>\n      <td>10</td>\n      <td>4.00</td>\n      <td>572336</td>\n      <td>586</td>\n      <td>54</td>\n    </tr>\n    <tr>\n      <th>3</th>\n      <td>4</td>\n      <td>4-Jan-13</td>\n      <td>Rajdhani Express</td>\n      <td>N</td>\n      <td>Drama</td>\n      <td>7</td>\n      <td>0.35</td>\n      <td>42626</td>\n      <td>86</td>\n      <td>19</td>\n    </tr>\n    <tr>\n      <th>4</th>\n      <td>5</td>\n      <td>4-Jul-14</td>\n      <td>Bobby Jasoos</td>\n      <td>N</td>\n      <td>Comedy</td>\n      <td>18</td>\n      <td>10.80</td>\n      <td>3113427</td>\n      <td>4512</td>\n      <td>1224</td>\n    </tr>\n  </tbody>\n</table>\n</div>",
            "text/plain": "   SlNo Release Date           MovieName ReleaseTime      Genre  Budget  \\\n0     1    18-Apr-14            2 States          LW    Romance      36   \n1     2     4-Jan-13        Table No. 21           N  Thriller       10   \n2     3    18-Jul-14  Amit Sahni Ki List           N     Comedy      10   \n3     4     4-Jan-13    Rajdhani Express           N     Drama        7   \n4     5     4-Jul-14        Bobby Jasoos           N     Comedy      18   \n\n   BoxOfficeCollection  YoutubeViews  YoutubeLikes  YoutubeDislikes  \n0               104.00       8576361         26622             2527  \n1                12.00       1087320          1129              137  \n2                 4.00        572336           586               54  \n3                 0.35         42626            86               19  \n4                10.80       3113427          4512             1224  "
          },
          "metadata": {}
        }
      ]
    },
    {
      "metadata": {
        "trusted": true
      },
      "cell_type": "code",
      "source": "",
      "execution_count": null,
      "outputs": []
    }
  ],
  "metadata": {
    "kernelspec": {
      "name": "python36",
      "display_name": "Python 3.6",
      "language": "python"
    },
    "language_info": {
      "mimetype": "text/x-python",
      "nbconvert_exporter": "python",
      "name": "python",
      "pygments_lexer": "ipython3",
      "version": "3.6.6",
      "file_extension": ".py",
      "codemirror_mode": {
        "version": 3,
        "name": "ipython"
      }
    }
  },
  "nbformat": 4,
  "nbformat_minor": 2
}