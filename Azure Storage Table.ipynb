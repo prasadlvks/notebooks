{
  "cells": [
    {
      "metadata": {
        "trusted": true
      },
      "cell_type": "code",
      "source": "!pip install azure-storage",
      "execution_count": 1,
      "outputs": [
        {
          "output_type": "stream",
          "text": "Collecting azure-storage\n\u001b[?25l  Downloading https://files.pythonhosted.org/packages/76/26/482c033f8f3a48d16cf75aad91c3e1256856719f4117fabb4696d33aa5da/azure_storage-0.36.0-py2.py3-none-any.whl (190kB)\n\u001b[K    100% |████████████████████████████████| 194kB 1.8MB/s ta 0:00:01\n\u001b[?25hRequirement already satisfied: azure-nspkg>=2.0.0 in /home/nbuser/anaconda3_501/lib/python3.6/site-packages (from azure-storage) (3.0.2)\nRequirement already satisfied: cryptography in /home/nbuser/anaconda3_501/lib/python3.6/site-packages (from azure-storage) (2.3.1)\nRequirement already satisfied: requests in /home/nbuser/anaconda3_501/lib/python3.6/site-packages (from azure-storage) (2.19.1)\nRequirement already satisfied: azure-common>=1.1.5 in /home/nbuser/anaconda3_501/lib/python3.6/site-packages (from azure-storage) (1.1.16)\nRequirement already satisfied: python-dateutil in /home/nbuser/anaconda3_501/lib/python3.6/site-packages (from azure-storage) (2.7.3)\nRequirement already satisfied: idna>=2.1 in /home/nbuser/anaconda3_501/lib/python3.6/site-packages (from cryptography->azure-storage) (2.7)\nRequirement already satisfied: asn1crypto>=0.21.0 in /home/nbuser/anaconda3_501/lib/python3.6/site-packages (from cryptography->azure-storage) (0.24.0)\nRequirement already satisfied: six>=1.4.1 in /home/nbuser/anaconda3_501/lib/python3.6/site-packages (from cryptography->azure-storage) (1.11.0)\nRequirement already satisfied: cffi!=1.11.3,>=1.7 in /home/nbuser/anaconda3_501/lib/python3.6/site-packages (from cryptography->azure-storage) (1.11.5)\nRequirement already satisfied: urllib3<1.24,>=1.21.1 in /home/nbuser/anaconda3_501/lib/python3.6/site-packages (from requests->azure-storage) (1.23)\nRequirement already satisfied: certifi>=2017.4.17 in /home/nbuser/anaconda3_501/lib/python3.6/site-packages (from requests->azure-storage) (2018.8.24)\nRequirement already satisfied: chardet<3.1.0,>=3.0.2 in /home/nbuser/anaconda3_501/lib/python3.6/site-packages (from requests->azure-storage) (3.0.4)\nRequirement already satisfied: pycparser in /home/nbuser/anaconda3_501/lib/python3.6/site-packages (from cffi!=1.11.3,>=1.7->cryptography->azure-storage) (2.19)\nInstalling collected packages: azure-storage\nSuccessfully installed azure-storage-0.36.0\n",
          "name": "stdout"
        }
      ]
    },
    {
      "metadata": {
        "trusted": true
      },
      "cell_type": "code",
      "source": "from azure.storage.table import TableService\nimport IPython\nazure_storage_account_name = \"coestorageacc\"\nazure_storage_account_key = \"zW0RI6rxAKBqDzDys1H1tox1tlXNu8twTaUB8hUroPu3HRc0jquVO39tI5LMfYdkeZRkctxv2uugOFftXEPhRA==\"\ntable_service = TableService(azure_storage_account_name, azure_storage_account_key)\ntable_name = 'Users'\ntable_service.create_table(table_name)\nqueried_entities = table_service.query_entities(table_name, filter=\"PartitionKey eq 'COE'\")\nIPython.display.display_pretty([i for i in queried_entities])",
      "execution_count": 6,
      "outputs": [
        {
          "output_type": "display_data",
          "data": {
            "text/plain": "[{'PartitionKey': 'COE',\n  'RowKey': 'R',\n  'Timestamp': datetime.datetime(2017, 1, 20, 14, 15, 0, 283550, tzinfo=tzlocal()),\n  'MindTreeId': 'M1002227',\n  'Name': 'Prasad Lakkakula',\n  'Track': 'WAKPI',\n  'VendorId': 'v-prlakk',\n  'etag': 'W/\"datetime\\'2017-01-20T14%3A15%3A00.2835507Z\\'\"'},\n {'PartitionKey': 'COE',\n  'RowKey': 'R2',\n  'Timestamp': datetime.datetime(2017, 1, 20, 14, 14, 43, 736030, tzinfo=tzlocal()),\n  'MindTreeId': 'M1028164',\n  'VendorId': 'v-lobonu',\n  'Name': 'Lohit Bonu',\n  'Track': 'WAKPI',\n  'etag': 'W/\"datetime\\'2017-01-20T14%3A14%3A43.7360302Z\\'\"'},\n {'PartitionKey': 'COE',\n  'RowKey': 'R3',\n  'Timestamp': datetime.datetime(2017, 1, 27, 11, 25, 29, 508475, tzinfo=tzlocal()),\n  'MindTreeId': 'M1020261',\n  'Name': 'Venu Kommu',\n  'Track': 'XBOT2',\n  'VendorId': 'v-vekomm',\n  'etag': 'W/\"datetime\\'2017-01-27T11%3A25%3A29.5084757Z\\'\"'},\n {'PartitionKey': 'COE',\n  'RowKey': 'R4',\n  'Timestamp': datetime.datetime(2018, 11, 30, 12, 18, 42, 334941, tzinfo=tzlocal()),\n  'MindTreeId': 'M1002234',\n  'Name': 'Ragavendra',\n  'Track': 'XBOT',\n  'VendorId': 'v-raghuv',\n  'etag': 'W/\"datetime\\'2018-11-30T12%3A18%3A42.3349414Z\\'\"'}]"
          },
          "metadata": {}
        }
      ]
    },
    {
      "metadata": {
        "trusted": true
      },
      "cell_type": "code",
      "source": "from azure.storage.table import TableService\nimport IPython\nazure_storage_account_name = \"coestorageacc\"\nazure_storage_account_key = \"zW0RI6rxAKBqDzDys1H1tox1tlXNu8twTaUB8hUroPu3HRc0jquVO39tI5LMfYdkeZRkctxv2uugOFftXEPhRA==\"\ntable_service = TableService(azure_storage_account_name, azure_storag\ntable_service.list_tables()\n#tables = table_service.list_tables() \n#for table in tables: \n#    print('\\Table Name: ' + table.name)",
      "execution_count": 12,
      "outputs": [
        {
          "output_type": "error",
          "ename": "SyntaxError",
          "evalue": "invalid syntax (<ipython-input-12-fc5de94874b6>, line 6)",
          "traceback": [
            "\u001b[0;36m  File \u001b[0;32m\"<ipython-input-12-fc5de94874b6>\"\u001b[0;36m, line \u001b[0;32m6\u001b[0m\n\u001b[0;31m    table_service.list_tables()\u001b[0m\n\u001b[0m                ^\u001b[0m\n\u001b[0;31mSyntaxError\u001b[0m\u001b[0;31m:\u001b[0m invalid syntax\n"
          ]
        }
      ]
    },
    {
      "metadata": {
        "trusted": true
      },
      "cell_type": "code",
      "source": "help(table_service.list_tables())",
      "execution_count": 13,
      "outputs": [
        {
          "output_type": "stream",
          "text": "Help on ListGenerator in module azure.storage.models object:\n\nclass ListGenerator(collections.abc.Iterable)\n |  A generator object used to list storage resources. The generator will lazily \n |  follow the continuation tokens returned by the service and stop when all \n |  resources have been returned or max_results is reached.\n |  \n |  If max_results is specified and the account has more than that number of \n |  resources, the generator will have a populated next_marker field once it \n |  finishes. This marker can be used to create a new generator if more \n |  results are desired.\n |  \n |  Method resolution order:\n |      ListGenerator\n |      collections.abc.Iterable\n |      builtins.object\n |  \n |  Methods defined here:\n |  \n |  __init__(self, resources, list_method, list_args, list_kwargs)\n |      Initialize self.  See help(type(self)) for accurate signature.\n |  \n |  __iter__(self)\n |  \n |  ----------------------------------------------------------------------\n |  Data descriptors defined here:\n |  \n |  __dict__\n |      dictionary for instance variables (if defined)\n |  \n |  __weakref__\n |      list of weak references to the object (if defined)\n |  \n |  ----------------------------------------------------------------------\n |  Data and other attributes defined here:\n |  \n |  __abstractmethods__ = frozenset()\n |  \n |  ----------------------------------------------------------------------\n |  Class methods inherited from collections.abc.Iterable:\n |  \n |  __subclasshook__(C) from abc.ABCMeta\n |      Abstract classes can override this to customize issubclass().\n |      \n |      This is invoked early on by abc.ABCMeta.__subclasscheck__().\n |      It should return True, False or NotImplemented.  If it returns\n |      NotImplemented, the normal algorithm is used.  Otherwise, it\n |      overrides the normal algorithm (and the outcome is cached).\n\n",
          "name": "stdout"
        }
      ]
    },
    {
      "metadata": {
        "trusted": true
      },
      "cell_type": "code",
      "source": "",
      "execution_count": null,
      "outputs": []
    }
  ],
  "metadata": {
    "kernelspec": {
      "name": "python36",
      "display_name": "Python 3.6",
      "language": "python"
    },
    "language_info": {
      "mimetype": "text/x-python",
      "nbconvert_exporter": "python",
      "name": "python",
      "pygments_lexer": "ipython3",
      "version": "3.6.6",
      "file_extension": ".py",
      "codemirror_mode": {
        "version": 3,
        "name": "ipython"
      }
    }
  },
  "nbformat": 4,
  "nbformat_minor": 2
}