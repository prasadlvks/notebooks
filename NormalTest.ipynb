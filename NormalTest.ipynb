{
  "cells": [
    {
      "metadata": {
        "trusted": true
      },
      "cell_type": "code",
      "source": "from numpy.random import seed\nfrom numpy.random import randn\nfrom scipy.stats import normaltest\nimport matplotlib.pyplot",
      "execution_count": 9,
      "outputs": []
    },
    {
      "metadata": {
        "trusted": true
      },
      "cell_type": "code",
      "source": "data = 5 * randn(100) + 50\ndata",
      "execution_count": 2,
      "outputs": [
        {
          "output_type": "execute_result",
          "execution_count": 2,
          "data": {
            "text/plain": "array([46.91243633, 49.82322128, 50.01493114, 51.57245635, 39.79316361,\n       43.32138651, 43.76260275, 49.76939029, 50.44871883, 44.3740101 ,\n       51.90821635, 58.49483075, 55.58614877, 50.53585353, 42.56136748,\n       50.81372441, 61.93353181, 55.07576861, 47.47949933, 52.62992537,\n       43.145352  , 53.5402393 , 41.14048608, 51.43217289, 50.09085702,\n       41.51699113, 44.83690855, 48.66700778, 57.4437503 , 49.32510705,\n       55.96124847, 48.86563607, 49.25483059, 45.96170356, 55.47843933,\n       57.57743969, 54.54589497, 47.98693017, 46.24625217, 53.27352777,\n       55.50871087, 57.00330991, 46.97571634, 52.38167565, 43.56481865,\n       64.67308363, 51.10482417, 48.75058833, 54.68504052, 43.85225313,\n       54.01882589, 40.37885112, 44.11485379, 52.24613253, 54.95940303,\n       53.33210595, 54.21817974, 46.40033536, 56.92454482, 48.83899429,\n       51.4716772 , 54.69162741, 50.35762368, 46.19304376, 60.55165433,\n       47.96221399, 60.99211829, 48.23566544, 46.97802963, 52.80061672,\n       52.49328836, 53.94216428, 48.45001262, 52.81916952, 48.51073193,\n       51.10564903, 49.22803112, 53.88970554, 48.00713589, 53.82843883,\n       48.63203475, 50.35702882, 47.11099639, 52.32007633, 56.98252159,\n       50.00889585, 54.45234589, 46.42775717, 52.54755079, 41.32444567,\n       58.14438479, 56.39459266, 39.94078695, 49.37462049, 44.08375748,\n       47.8641742 , 51.09991442, 52.27914441, 54.07075597, 51.31420698])"
          },
          "metadata": {}
        }
      ]
    },
    {
      "metadata": {
        "trusted": true
      },
      "cell_type": "code",
      "source": "stat, p = normaltest(data)",
      "execution_count": 3,
      "outputs": []
    },
    {
      "metadata": {
        "trusted": true
      },
      "cell_type": "code",
      "source": "stat",
      "execution_count": 4,
      "outputs": [
        {
          "output_type": "execute_result",
          "execution_count": 4,
          "data": {
            "text/plain": "0.06369051608717233"
          },
          "metadata": {}
        }
      ]
    },
    {
      "metadata": {
        "trusted": true
      },
      "cell_type": "code",
      "source": "p",
      "execution_count": 5,
      "outputs": [
        {
          "output_type": "execute_result",
          "execution_count": 5,
          "data": {
            "text/plain": "0.9686564622785868"
          },
          "metadata": {}
        }
      ]
    },
    {
      "metadata": {
        "trusted": true
      },
      "cell_type": "code",
      "source": "alpha = 0.05\nif p > alpha:\n    print('Sample looks Gaussian (fail to reject H0)')\nelse:\n    print('Sample does not look Gaussian (reject H0)')",
      "execution_count": 6,
      "outputs": [
        {
          "output_type": "stream",
          "text": "Sample looks Gaussian (fail to reject H0)\n",
          "name": "stdout"
        }
      ]
    },
    {
      "metadata": {
        "trusted": true
      },
      "cell_type": "code",
      "source": "matplotlib.pyplot.hist(data)",
      "execution_count": 11,
      "outputs": [
        {
          "output_type": "execute_result",
          "execution_count": 11,
          "data": {
            "text/plain": "(array([ 6.,  9., 10., 17., 18., 22., 10.,  4.,  3.,  1.]),\n array([39.79316361, 42.28115561, 44.76914762, 47.25713962, 49.74513162,\n        52.23312362, 54.72111562, 57.20910762, 59.69709962, 62.18509162,\n        64.67308363]),\n <a list of 10 Patch objects>)"
          },
          "metadata": {}
        },
        {
          "output_type": "display_data",
          "data": {
            "image/png": "[encoded data removed]",
            "text/plain": "<Figure size 432x288 with 1 Axes>"
          },
          "metadata": {
            "needs_background": "light"
          }
        }
      ]
    },
    {
      "metadata": {
        "trusted": true
      },
      "cell_type": "code",
      "source": "",
      "execution_count": null,
      "outputs": []
    }
  ],
  "metadata": {
    "kernelspec": {
      "name": "python36",
      "display_name": "Python 3.6",
      "language": "python"
    },
    "language_info": {
      "mimetype": "text/x-python",
      "nbconvert_exporter": "python",
      "name": "python",
      "pygments_lexer": "ipython3",
      "version": "3.6.6",
      "file_extension": ".py",
      "codemirror_mode": {
        "version": 3,
        "name": "ipython"
      }
    }
  },
  "nbformat": 4,
  "nbformat_minor": 2
}