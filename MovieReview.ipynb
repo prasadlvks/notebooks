{
  "cells": [
    {
      "metadata": {
        "trusted": true
      },
      "cell_type": "code",
      "source": "import pandas as pd \ncolumn_names = ['user_id', 'item_id', 'rating', 'timestamp'] \npath = 'https://cdncontribute.geeksforgeeks.org/wp-content/uploads/file.tsv'\ndf = pd.read_csv(path, sep='\\t', names=column_names) \ndf.head() ",
      "execution_count": 1,
      "outputs": [
        {
          "output_type": "execute_result",
          "execution_count": 1,
          "data": {
            "text/html": "<div>\n<style scoped>\n    .dataframe tbody tr th:only-of-type {\n        vertical-align: middle;\n    }\n\n    .dataframe tbody tr th {\n        vertical-align: top;\n    }\n\n    .dataframe thead th {\n        text-align: right;\n    }\n</style>\n<table border=\"1\" class=\"dataframe\">\n  <thead>\n    <tr style=\"text-align: right;\">\n      <th></th>\n      <th>user_id</th>\n      <th>item_id</th>\n      <th>rating</th>\n      <th>timestamp</th>\n    </tr>\n  </thead>\n  <tbody>\n    <tr>\n      <th>0</th>\n      <td>0</td>\n      <td>50</td>\n      <td>5</td>\n      <td>881250949</td>\n    </tr>\n    <tr>\n      <th>1</th>\n      <td>0</td>\n      <td>172</td>\n      <td>5</td>\n      <td>881250949</td>\n    </tr>\n    <tr>\n      <th>2</th>\n      <td>0</td>\n      <td>133</td>\n      <td>1</td>\n      <td>881250949</td>\n    </tr>\n    <tr>\n      <th>3</th>\n      <td>196</td>\n      <td>242</td>\n      <td>3</td>\n      <td>881250949</td>\n    </tr>\n    <tr>\n      <th>4</th>\n      <td>186</td>\n      <td>302</td>\n      <td>3</td>\n      <td>891717742</td>\n    </tr>\n  </tbody>\n</table>\n</div>",
            "text/plain": "   user_id  item_id  rating  timestamp\n0        0       50       5  881250949\n1        0      172       5  881250949\n2        0      133       1  881250949\n3      196      242       3  881250949\n4      186      302       3  891717742"
          },
          "metadata": {}
        }
      ]
    },
    {
      "metadata": {
        "trusted": true
      },
      "cell_type": "code",
      "source": "movie_titles = pd.read_csv('https://cdncontribute.geeksforgeeks.org/wp-content/uploads/Movie_Id_Titles.csv') \nmovie_titles.describe()",
      "execution_count": 4,
      "outputs": [
        {
          "output_type": "execute_result",
          "execution_count": 4,
          "data": {
            "text/html": "<div>\n<style scoped>\n    .dataframe tbody tr th:only-of-type {\n        vertical-align: middle;\n    }\n\n    .dataframe tbody tr th {\n        vertical-align: top;\n    }\n\n    .dataframe thead th {\n        text-align: right;\n    }\n</style>\n<table border=\"1\" class=\"dataframe\">\n  <thead>\n    <tr style=\"text-align: right;\">\n      <th></th>\n      <th>item_id</th>\n    </tr>\n  </thead>\n  <tbody>\n    <tr>\n      <th>count</th>\n      <td>1682.000000</td>\n    </tr>\n    <tr>\n      <th>mean</th>\n      <td>841.500000</td>\n    </tr>\n    <tr>\n      <th>std</th>\n      <td>485.695893</td>\n    </tr>\n    <tr>\n      <th>min</th>\n      <td>1.000000</td>\n    </tr>\n    <tr>\n      <th>25%</th>\n      <td>421.250000</td>\n    </tr>\n    <tr>\n      <th>50%</th>\n      <td>841.500000</td>\n    </tr>\n    <tr>\n      <th>75%</th>\n      <td>1261.750000</td>\n    </tr>\n    <tr>\n      <th>max</th>\n      <td>1682.000000</td>\n    </tr>\n  </tbody>\n</table>\n</div>",
            "text/plain": "           item_id\ncount  1682.000000\nmean    841.500000\nstd     485.695893\nmin       1.000000\n25%     421.250000\n50%     841.500000\n75%    1261.750000\nmax    1682.000000"
          },
          "metadata": {}
        }
      ]
    },
    {
      "metadata": {
        "trusted": true
      },
      "cell_type": "code",
      "source": "data = pd.merge(df, movie_titles, on='item_id') \ndata.head()",
      "execution_count": 3,
      "outputs": [
        {
          "output_type": "execute_result",
          "execution_count": 3,
          "data": {
            "text/html": "<div>\n<style scoped>\n    .dataframe tbody tr th:only-of-type {\n        vertical-align: middle;\n    }\n\n    .dataframe tbody tr th {\n        vertical-align: top;\n    }\n\n    .dataframe thead th {\n        text-align: right;\n    }\n</style>\n<table border=\"1\" class=\"dataframe\">\n  <thead>\n    <tr style=\"text-align: right;\">\n      <th></th>\n      <th>user_id</th>\n      <th>item_id</th>\n      <th>rating</th>\n      <th>timestamp</th>\n      <th>title</th>\n    </tr>\n  </thead>\n  <tbody>\n    <tr>\n      <th>0</th>\n      <td>0</td>\n      <td>50</td>\n      <td>5</td>\n      <td>881250949</td>\n      <td>Star Wars (1977)</td>\n    </tr>\n    <tr>\n      <th>1</th>\n      <td>290</td>\n      <td>50</td>\n      <td>5</td>\n      <td>880473582</td>\n      <td>Star Wars (1977)</td>\n    </tr>\n    <tr>\n      <th>2</th>\n      <td>79</td>\n      <td>50</td>\n      <td>4</td>\n      <td>891271545</td>\n      <td>Star Wars (1977)</td>\n    </tr>\n    <tr>\n      <th>3</th>\n      <td>2</td>\n      <td>50</td>\n      <td>5</td>\n      <td>888552084</td>\n      <td>Star Wars (1977)</td>\n    </tr>\n    <tr>\n      <th>4</th>\n      <td>8</td>\n      <td>50</td>\n      <td>5</td>\n      <td>879362124</td>\n      <td>Star Wars (1977)</td>\n    </tr>\n  </tbody>\n</table>\n</div>",
            "text/plain": "   user_id  item_id  rating  timestamp             title\n0        0       50       5  881250949  Star Wars (1977)\n1      290       50       5  880473582  Star Wars (1977)\n2       79       50       4  891271545  Star Wars (1977)\n3        2       50       5  888552084  Star Wars (1977)\n4        8       50       5  879362124  Star Wars (1977)"
          },
          "metadata": {}
        }
      ]
    },
    {
      "metadata": {
        "trusted": true
      },
      "cell_type": "code",
      "source": "data.groupby('title')['rating'].count()",
      "execution_count": 20,
      "outputs": [
        {
          "output_type": "execute_result",
          "execution_count": 20,
          "data": {
            "text/plain": "title\n'Til There Was You (1997)                                     9\n1-900 (1994)                                                  5\n101 Dalmatians (1996)                                       109\n12 Angry Men (1957)                                         125\n187 (1997)                                                   41\n2 Days in the Valley (1996)                                  93\n20,000 Leagues Under the Sea (1954)                          72\n2001: A Space Odyssey (1968)                                259\n3 Ninjas: High Noon At Mega Mountain (1998)                   5\n39 Steps, The (1935)                                         59\n8 1/2 (1963)                                                 38\n8 Heads in a Duffel Bag (1997)                                4\n8 Seconds (1994)                                              4\nA Chef in Love (1996)                                         8\nAbove the Rim (1994)                                          5\nAbsolute Power (1997)                                       127\nAbyss, The (1989)                                           151\nAce Ventura: Pet Detective (1994)                           103\nAce Ventura: When Nature Calls (1995)                        37\nAcross the Sea of Time (1995)                                 4\nAddams Family Values (1993)                                  87\nAddicted to Love (1997)                                      54\nAddiction, The (1995)                                        11\nAdventures of Pinocchio, The (1996)                          39\nAdventures of Priscilla, Queen of the Desert, The (1994)    111\nAdventures of Robin Hood, The (1938)                         67\nAffair to Remember, An (1957)                                26\nAfrican Queen, The (1951)                                   152\nAfterglow (1997)                                             18\nAge of Innocence, The (1993)                                 65\n                                                           ... \nWindow to Paris (1994)                                        1\nWings of Courage (1995)                                       1\nWings of Desire (1987)                                       57\nWings of the Dove, The (1997)                                75\nWinnie the Pooh and the Blustery Day (1968)                  75\nWinter Guest, The (1997)                                      9\nWishmaster (1997)                                            27\nWith Honors (1994)                                           46\nWithnail and I (1987)                                        13\nWitness (1985)                                                1\nWizard of Oz, The (1939)                                    246\nWolf (1994)                                                  67\nWoman in Question, The (1950)                                 1\nWomen, The (1939)                                            15\nWonderful, Horrible Life of Leni Riefenstahl, The (1993)     10\nWonderland (1997)                                            10\nWooden Man's Bride, The (Wu Kui) (1994)                       3\nWorld of Apu, The (Apur Sansar) (1959)                        6\nWrong Trousers, The (1993)                                  118\nWyatt Earp (1994)                                            50\nYankee Zulu (1994)                                            1\nYear of the Horse (1997)                                      7\nYou So Crazy (1994)                                           1\nYoung Frankenstein (1974)                                   200\nYoung Guns (1988)                                           101\nYoung Guns II (1990)                                         44\nYoung Poisoner's Handbook, The (1995)                        41\nZeus and Roxanne (1997)                                       6\nunknown                                                       9\nÁ köldum klaka (Cold Fever) (1994)                            1\nName: rating, Length: 1664, dtype: int64"
          },
          "metadata": {}
        }
      ]
    },
    {
      "metadata": {
        "trusted": true
      },
      "cell_type": "code",
      "source": "data.groupby('title')['rating'].mean().sort_values(ascending=False).head()",
      "execution_count": 5,
      "outputs": [
        {
          "output_type": "execute_result",
          "execution_count": 5,
          "data": {
            "text/plain": "title\nMarlene Dietrich: Shadow and Light (1996)     5.0\nPrefontaine (1997)                            5.0\nSanta with Muscles (1996)                     5.0\nStar Kid (1997)                               5.0\nSomeone Else's America (1995)                 5.0\nName: rating, dtype: float64"
          },
          "metadata": {}
        }
      ]
    },
    {
      "metadata": {
        "trusted": true
      },
      "cell_type": "code",
      "source": "data.groupby('title')['rating'].count().sort_values(ascending=False).head()",
      "execution_count": 6,
      "outputs": [
        {
          "output_type": "execute_result",
          "execution_count": 6,
          "data": {
            "text/plain": "title\nStar Wars (1977)             584\nContact (1997)               509\nFargo (1996)                 508\nReturn of the Jedi (1983)    507\nLiar Liar (1997)             485\nName: rating, dtype: int64"
          },
          "metadata": {}
        }
      ]
    },
    {
      "metadata": {
        "trusted": true
      },
      "cell_type": "code",
      "source": "ratings = pd.DataFrame(data.groupby('title')['rating'].mean())  \nratings['num of ratings'] = pd.DataFrame(data.groupby('title')['rating'].count()) \nratings.head()",
      "execution_count": 7,
      "outputs": [
        {
          "output_type": "execute_result",
          "execution_count": 7,
          "data": {
            "text/html": "<div>\n<style scoped>\n    .dataframe tbody tr th:only-of-type {\n        vertical-align: middle;\n    }\n\n    .dataframe tbody tr th {\n        vertical-align: top;\n    }\n\n    .dataframe thead th {\n        text-align: right;\n    }\n</style>\n<table border=\"1\" class=\"dataframe\">\n  <thead>\n    <tr style=\"text-align: right;\">\n      <th></th>\n      <th>rating</th>\n      <th>num of ratings</th>\n    </tr>\n    <tr>\n      <th>title</th>\n      <th></th>\n      <th></th>\n    </tr>\n  </thead>\n  <tbody>\n    <tr>\n      <th>'Til There Was You (1997)</th>\n      <td>2.333333</td>\n      <td>9</td>\n    </tr>\n    <tr>\n      <th>1-900 (1994)</th>\n      <td>2.600000</td>\n      <td>5</td>\n    </tr>\n    <tr>\n      <th>101 Dalmatians (1996)</th>\n      <td>2.908257</td>\n      <td>109</td>\n    </tr>\n    <tr>\n      <th>12 Angry Men (1957)</th>\n      <td>4.344000</td>\n      <td>125</td>\n    </tr>\n    <tr>\n      <th>187 (1997)</th>\n      <td>3.024390</td>\n      <td>41</td>\n    </tr>\n  </tbody>\n</table>\n</div>",
            "text/plain": "                             rating  num of ratings\ntitle                                              \n'Til There Was You (1997)  2.333333               9\n1-900 (1994)               2.600000               5\n101 Dalmatians (1996)      2.908257             109\n12 Angry Men (1957)        4.344000             125\n187 (1997)                 3.024390              41"
          },
          "metadata": {}
        }
      ]
    },
    {
      "metadata": {
        "trusted": true
      },
      "cell_type": "code",
      "source": "import matplotlib.pyplot as plt \nimport seaborn as sns \n%matplotlib inline \nsns.set_style('white') \nplt.figure(figsize =(10, 4)) \nratings['num of ratings'].hist(bins = 70) \nplt.show()",
      "execution_count": 16,
      "outputs": [
        {
          "output_type": "display_data",
          "data": {
            "image/png": "[encoded data removed]",
            "text/plain": "<Figure size 720x288 with 1 Axes>"
          },
          "metadata": {}
        }
      ]
    },
    {
      "metadata": {
        "trusted": true
      },
      "cell_type": "code",
      "source": "plt.figure(figsize =(10, 4)) \nratings['rating'].hist(bins = 70) \nplt.show()",
      "execution_count": 10,
      "outputs": [
        {
          "output_type": "display_data",
          "data": {
            "image/png": "[encoded data removed]",
            "text/plain": "<Figure size 720x288 with 1 Axes>"
          },
          "metadata": {}
        }
      ]
    },
    {
      "metadata": {
        "trusted": true
      },
      "cell_type": "code",
      "source": "moviemat = data.pivot_table(index ='user_id', columns ='title', values ='rating') \nmoviemat.head() \nratings.sort_values('num of ratings', ascending = False).head(10)",
      "execution_count": 11,
      "outputs": [
        {
          "output_type": "execute_result",
          "execution_count": 11,
          "data": {
            "text/html": "<div>\n<style scoped>\n    .dataframe tbody tr th:only-of-type {\n        vertical-align: middle;\n    }\n\n    .dataframe tbody tr th {\n        vertical-align: top;\n    }\n\n    .dataframe thead th {\n        text-align: right;\n    }\n</style>\n<table border=\"1\" class=\"dataframe\">\n  <thead>\n    <tr style=\"text-align: right;\">\n      <th></th>\n      <th>rating</th>\n      <th>num of ratings</th>\n    </tr>\n    <tr>\n      <th>title</th>\n      <th></th>\n      <th></th>\n    </tr>\n  </thead>\n  <tbody>\n    <tr>\n      <th>Star Wars (1977)</th>\n      <td>4.359589</td>\n      <td>584</td>\n    </tr>\n    <tr>\n      <th>Contact (1997)</th>\n      <td>3.803536</td>\n      <td>509</td>\n    </tr>\n    <tr>\n      <th>Fargo (1996)</th>\n      <td>4.155512</td>\n      <td>508</td>\n    </tr>\n    <tr>\n      <th>Return of the Jedi (1983)</th>\n      <td>4.007890</td>\n      <td>507</td>\n    </tr>\n    <tr>\n      <th>Liar Liar (1997)</th>\n      <td>3.156701</td>\n      <td>485</td>\n    </tr>\n    <tr>\n      <th>English Patient, The (1996)</th>\n      <td>3.656965</td>\n      <td>481</td>\n    </tr>\n    <tr>\n      <th>Scream (1996)</th>\n      <td>3.441423</td>\n      <td>478</td>\n    </tr>\n    <tr>\n      <th>Toy Story (1995)</th>\n      <td>3.878319</td>\n      <td>452</td>\n    </tr>\n    <tr>\n      <th>Air Force One (1997)</th>\n      <td>3.631090</td>\n      <td>431</td>\n    </tr>\n    <tr>\n      <th>Independence Day (ID4) (1996)</th>\n      <td>3.438228</td>\n      <td>429</td>\n    </tr>\n  </tbody>\n</table>\n</div>",
            "text/plain": "                                 rating  num of ratings\ntitle                                                  \nStar Wars (1977)               4.359589             584\nContact (1997)                 3.803536             509\nFargo (1996)                   4.155512             508\nReturn of the Jedi (1983)      4.007890             507\nLiar Liar (1997)               3.156701             485\nEnglish Patient, The (1996)    3.656965             481\nScream (1996)                  3.441423             478\nToy Story (1995)               3.878319             452\nAir Force One (1997)           3.631090             431\nIndependence Day (ID4) (1996)  3.438228             429"
          },
          "metadata": {}
        }
      ]
    },
    {
      "metadata": {
        "trusted": true
      },
      "cell_type": "code",
      "source": "starwars_user_ratings = moviemat['Star Wars (1977)'] \nliarliar_user_ratings = moviemat['Liar Liar (1997)'] \nstarwars_user_ratings.head()",
      "execution_count": 12,
      "outputs": [
        {
          "output_type": "execute_result",
          "execution_count": 12,
          "data": {
            "text/plain": "user_id\n0    5.0\n1    5.0\n2    5.0\n3    NaN\n4    5.0\nName: Star Wars (1977), dtype: float64"
          },
          "metadata": {}
        }
      ]
    },
    {
      "metadata": {
        "trusted": true
      },
      "cell_type": "code",
      "source": "similar_to_starwars = moviemat.corrwith(starwars_user_ratings) \nsimilar_to_liarliar = moviemat.corrwith(liarliar_user_ratings) \ncorr_starwars = pd.DataFrame(similar_to_starwars, columns =['Correlation']) \ncorr_starwars.dropna(inplace = True) \ncorr_starwars.head() ",
      "execution_count": 13,
      "outputs": [
        {
          "output_type": "stream",
          "text": "/home/nbuser/anaconda3_501/lib/python3.6/site-packages/numpy/lib/function_base.py:3175: RuntimeWarning: Degrees of freedom <= 0 for slice\n  c = cov(x, y, rowvar)\n/home/nbuser/anaconda3_501/lib/python3.6/site-packages/numpy/lib/function_base.py:3109: RuntimeWarning: divide by zero encountered in double_scalars\n  c *= 1. / np.float64(fact)\n",
          "name": "stderr"
        },
        {
          "output_type": "execute_result",
          "execution_count": 13,
          "data": {
            "text/html": "<div>\n<style scoped>\n    .dataframe tbody tr th:only-of-type {\n        vertical-align: middle;\n    }\n\n    .dataframe tbody tr th {\n        vertical-align: top;\n    }\n\n    .dataframe thead th {\n        text-align: right;\n    }\n</style>\n<table border=\"1\" class=\"dataframe\">\n  <thead>\n    <tr style=\"text-align: right;\">\n      <th></th>\n      <th>Correlation</th>\n    </tr>\n    <tr>\n      <th>title</th>\n      <th></th>\n    </tr>\n  </thead>\n  <tbody>\n    <tr>\n      <th>'Til There Was You (1997)</th>\n      <td>0.872872</td>\n    </tr>\n    <tr>\n      <th>1-900 (1994)</th>\n      <td>-0.645497</td>\n    </tr>\n    <tr>\n      <th>101 Dalmatians (1996)</th>\n      <td>0.211132</td>\n    </tr>\n    <tr>\n      <th>12 Angry Men (1957)</th>\n      <td>0.184289</td>\n    </tr>\n    <tr>\n      <th>187 (1997)</th>\n      <td>0.027398</td>\n    </tr>\n  </tbody>\n</table>\n</div>",
            "text/plain": "                           Correlation\ntitle                                 \n'Til There Was You (1997)     0.872872\n1-900 (1994)                 -0.645497\n101 Dalmatians (1996)         0.211132\n12 Angry Men (1957)           0.184289\n187 (1997)                    0.027398"
          },
          "metadata": {}
        }
      ]
    },
    {
      "metadata": {
        "trusted": true
      },
      "cell_type": "code",
      "source": "corr_starwars.sort_values('Correlation', ascending = False).head(10) \ncorr_starwars = corr_starwars.join(ratings['num of ratings']) \ncorr_starwars.head()\ncorr_starwars[corr_starwars['num of ratings']>100].sort_values('Correlation', ascending = False).head() ",
      "execution_count": 14,
      "outputs": [
        {
          "output_type": "execute_result",
          "execution_count": 14,
          "data": {
            "text/html": "<div>\n<style scoped>\n    .dataframe tbody tr th:only-of-type {\n        vertical-align: middle;\n    }\n\n    .dataframe tbody tr th {\n        vertical-align: top;\n    }\n\n    .dataframe thead th {\n        text-align: right;\n    }\n</style>\n<table border=\"1\" class=\"dataframe\">\n  <thead>\n    <tr style=\"text-align: right;\">\n      <th></th>\n      <th>Correlation</th>\n      <th>num of ratings</th>\n    </tr>\n    <tr>\n      <th>title</th>\n      <th></th>\n      <th></th>\n    </tr>\n  </thead>\n  <tbody>\n    <tr>\n      <th>Star Wars (1977)</th>\n      <td>1.000000</td>\n      <td>584</td>\n    </tr>\n    <tr>\n      <th>Empire Strikes Back, The (1980)</th>\n      <td>0.748353</td>\n      <td>368</td>\n    </tr>\n    <tr>\n      <th>Return of the Jedi (1983)</th>\n      <td>0.672556</td>\n      <td>507</td>\n    </tr>\n    <tr>\n      <th>Raiders of the Lost Ark (1981)</th>\n      <td>0.536117</td>\n      <td>420</td>\n    </tr>\n    <tr>\n      <th>Austin Powers: International Man of Mystery (1997)</th>\n      <td>0.377433</td>\n      <td>130</td>\n    </tr>\n  </tbody>\n</table>\n</div>",
            "text/plain": "                                                    Correlation  \\\ntitle                                                             \nStar Wars (1977)                                       1.000000   \nEmpire Strikes Back, The (1980)                        0.748353   \nReturn of the Jedi (1983)                              0.672556   \nRaiders of the Lost Ark (1981)                         0.536117   \nAustin Powers: International Man of Mystery (1997)     0.377433   \n\n                                                    num of ratings  \ntitle                                                               \nStar Wars (1977)                                               584  \nEmpire Strikes Back, The (1980)                                368  \nReturn of the Jedi (1983)                                      507  \nRaiders of the Lost Ark (1981)                                 420  \nAustin Powers: International Man of Mystery (1997)             130  "
          },
          "metadata": {}
        }
      ]
    },
    {
      "metadata": {
        "trusted": true
      },
      "cell_type": "code",
      "source": "corr_liarliar = pd.DataFrame(similar_to_liarliar, columns =['Correlation']) \ncorr_liarliar.dropna(inplace = True) \ncorr_liarliar = corr_liarliar.join(ratings['num of ratings']) \ncorr_liarliar[corr_liarliar['num of ratings']>100].sort_values('Correlation', ascending = False).head() ",
      "execution_count": 15,
      "outputs": [
        {
          "output_type": "execute_result",
          "execution_count": 15,
          "data": {
            "text/html": "<div>\n<style scoped>\n    .dataframe tbody tr th:only-of-type {\n        vertical-align: middle;\n    }\n\n    .dataframe tbody tr th {\n        vertical-align: top;\n    }\n\n    .dataframe thead th {\n        text-align: right;\n    }\n</style>\n<table border=\"1\" class=\"dataframe\">\n  <thead>\n    <tr style=\"text-align: right;\">\n      <th></th>\n      <th>Correlation</th>\n      <th>num of ratings</th>\n    </tr>\n    <tr>\n      <th>title</th>\n      <th></th>\n      <th></th>\n    </tr>\n  </thead>\n  <tbody>\n    <tr>\n      <th>Liar Liar (1997)</th>\n      <td>1.000000</td>\n      <td>485</td>\n    </tr>\n    <tr>\n      <th>Batman Forever (1995)</th>\n      <td>0.516968</td>\n      <td>114</td>\n    </tr>\n    <tr>\n      <th>Mask, The (1994)</th>\n      <td>0.484650</td>\n      <td>129</td>\n    </tr>\n    <tr>\n      <th>Down Periscope (1996)</th>\n      <td>0.472681</td>\n      <td>101</td>\n    </tr>\n    <tr>\n      <th>Con Air (1997)</th>\n      <td>0.469828</td>\n      <td>137</td>\n    </tr>\n  </tbody>\n</table>\n</div>",
            "text/plain": "                       Correlation  num of ratings\ntitle                                             \nLiar Liar (1997)          1.000000             485\nBatman Forever (1995)     0.516968             114\nMask, The (1994)          0.484650             129\nDown Periscope (1996)     0.472681             101\nCon Air (1997)            0.469828             137"
          },
          "metadata": {}
        }
      ]
    },
    {
      "metadata": {
        "trusted": true
      },
      "cell_type": "code",
      "source": "",
      "execution_count": null,
      "outputs": []
    }
  ],
  "metadata": {
    "kernelspec": {
      "name": "python36",
      "display_name": "Python 3.6",
      "language": "python"
    },
    "language_info": {
      "mimetype": "text/x-python",
      "nbconvert_exporter": "python",
      "name": "python",
      "pygments_lexer": "ipython3",
      "version": "3.6.6",
      "file_extension": ".py",
      "codemirror_mode": {
        "version": 3,
        "name": "ipython"
      }
    }
  },
  "nbformat": 4,
  "nbformat_minor": 2
}