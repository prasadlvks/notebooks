{
  "cells": [
    {
      "metadata": {
        "trusted": true
      },
      "cell_type": "code",
      "source": "import numpy as np \nimport pandas as pd",
      "execution_count": 2,
      "outputs": []
    },
    {
      "metadata": {
        "trusted": true
      },
      "cell_type": "code",
      "source": "data= [['Female',10],['Female',12],['Female',13],['Female',10],['Female',12],['Male',13],['Male',10],['Female',12],['Male',13]]\ndf = pd.DataFrame(data)\ndf.columns=['Gender','Value']\ndf",
      "execution_count": 8,
      "outputs": [
        {
          "output_type": "execute_result",
          "execution_count": 8,
          "data": {
            "text/html": "<div>\n<style scoped>\n    .dataframe tbody tr th:only-of-type {\n        vertical-align: middle;\n    }\n\n    .dataframe tbody tr th {\n        vertical-align: top;\n    }\n\n    .dataframe thead th {\n        text-align: right;\n    }\n</style>\n<table border=\"1\" class=\"dataframe\">\n  <thead>\n    <tr style=\"text-align: right;\">\n      <th></th>\n      <th>Gender</th>\n      <th>Value</th>\n    </tr>\n  </thead>\n  <tbody>\n    <tr>\n      <th>0</th>\n      <td>Female</td>\n      <td>10</td>\n    </tr>\n    <tr>\n      <th>1</th>\n      <td>Female</td>\n      <td>12</td>\n    </tr>\n    <tr>\n      <th>2</th>\n      <td>Female</td>\n      <td>13</td>\n    </tr>\n    <tr>\n      <th>3</th>\n      <td>Female</td>\n      <td>10</td>\n    </tr>\n    <tr>\n      <th>4</th>\n      <td>Female</td>\n      <td>12</td>\n    </tr>\n    <tr>\n      <th>5</th>\n      <td>Male</td>\n      <td>13</td>\n    </tr>\n    <tr>\n      <th>6</th>\n      <td>Male</td>\n      <td>10</td>\n    </tr>\n    <tr>\n      <th>7</th>\n      <td>Female</td>\n      <td>12</td>\n    </tr>\n    <tr>\n      <th>8</th>\n      <td>Male</td>\n      <td>13</td>\n    </tr>\n  </tbody>\n</table>\n</div>",
            "text/plain": "   Gender  Value\n0  Female     10\n1  Female     12\n2  Female     13\n3  Female     10\n4  Female     12\n5    Male     13\n6    Male     10\n7  Female     12\n8    Male     13"
          },
          "metadata": {}
        }
      ]
    },
    {
      "metadata": {
        "trusted": true
      },
      "cell_type": "code",
      "source": "from sklearn.preprocessing import LabelEncoder \nle = LabelEncoder() ",
      "execution_count": 5,
      "outputs": []
    },
    {
      "metadata": {
        "trusted": true
      },
      "cell_type": "code",
      "source": "df['Gender']= le.fit_transform(df['Gender']) \ndf",
      "execution_count": 9,
      "outputs": [
        {
          "output_type": "execute_result",
          "execution_count": 9,
          "data": {
            "text/html": "<div>\n<style scoped>\n    .dataframe tbody tr th:only-of-type {\n        vertical-align: middle;\n    }\n\n    .dataframe tbody tr th {\n        vertical-align: top;\n    }\n\n    .dataframe thead th {\n        text-align: right;\n    }\n</style>\n<table border=\"1\" class=\"dataframe\">\n  <thead>\n    <tr style=\"text-align: right;\">\n      <th></th>\n      <th>Gender</th>\n      <th>Value</th>\n    </tr>\n  </thead>\n  <tbody>\n    <tr>\n      <th>0</th>\n      <td>0</td>\n      <td>10</td>\n    </tr>\n    <tr>\n      <th>1</th>\n      <td>0</td>\n      <td>12</td>\n    </tr>\n    <tr>\n      <th>2</th>\n      <td>0</td>\n      <td>13</td>\n    </tr>\n    <tr>\n      <th>3</th>\n      <td>0</td>\n      <td>10</td>\n    </tr>\n    <tr>\n      <th>4</th>\n      <td>0</td>\n      <td>12</td>\n    </tr>\n    <tr>\n      <th>5</th>\n      <td>1</td>\n      <td>13</td>\n    </tr>\n    <tr>\n      <th>6</th>\n      <td>1</td>\n      <td>10</td>\n    </tr>\n    <tr>\n      <th>7</th>\n      <td>0</td>\n      <td>12</td>\n    </tr>\n    <tr>\n      <th>8</th>\n      <td>1</td>\n      <td>13</td>\n    </tr>\n  </tbody>\n</table>\n</div>",
            "text/plain": "   Gender  Value\n0       0     10\n1       0     12\n2       0     13\n3       0     10\n4       0     12\n5       1     13\n6       1     10\n7       0     12\n8       1     13"
          },
          "metadata": {}
        }
      ]
    },
    {
      "metadata": {
        "trusted": true
      },
      "cell_type": "code",
      "source": "from sklearn.preprocessing import OneHotEncoder\nonehotencoder = OneHotEncoder() ",
      "execution_count": 12,
      "outputs": []
    },
    {
      "metadata": {
        "trusted": true
      },
      "cell_type": "code",
      "source": "df = onehotencoder.fit_transform(df).toarray() \ndf",
      "execution_count": 13,
      "outputs": [
        {
          "output_type": "stream",
          "text": "/home/nbuser/anaconda3_501/lib/python3.6/site-packages/sklearn/preprocessing/_encoders.py:371: FutureWarning: The handling of integer data will change in version 0.22. Currently, the categories are determined based on the range [0, max(values)], while in the future they will be determined based on the unique values.\nIf you want the future behaviour and silence this warning, you can specify \"categories='auto'\".\nIn case you used a LabelEncoder before this OneHotEncoder to convert the categories to integers, then you can now use the OneHotEncoder directly.\n  warnings.warn(msg, FutureWarning)\n",
          "name": "stderr"
        },
        {
          "output_type": "execute_result",
          "execution_count": 13,
          "data": {
            "text/plain": "array([[1., 0., 1., 0., 0.],\n       [1., 0., 0., 1., 0.],\n       [1., 0., 0., 0., 1.],\n       [1., 0., 1., 0., 0.],\n       [1., 0., 0., 1., 0.],\n       [0., 1., 0., 0., 1.],\n       [0., 1., 1., 0., 0.],\n       [1., 0., 0., 1., 0.],\n       [0., 1., 0., 0., 1.]])"
          },
          "metadata": {}
        }
      ]
    },
    {
      "metadata": {
        "trusted": true
      },
      "cell_type": "code",
      "source": "",
      "execution_count": null,
      "outputs": []
    }
  ],
  "metadata": {
    "kernelspec": {
      "name": "python36",
      "display_name": "Python 3.6",
      "language": "python"
    },
    "language_info": {
      "mimetype": "text/x-python",
      "nbconvert_exporter": "python",
      "name": "python",
      "pygments_lexer": "ipython3",
      "version": "3.6.6",
      "file_extension": ".py",
      "codemirror_mode": {
        "version": 3,
        "name": "ipython"
      }
    }
  },
  "nbformat": 4,
  "nbformat_minor": 2
}