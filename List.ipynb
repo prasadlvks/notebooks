{
  "cells": [
    {
      "metadata": {
        "trusted": true
      },
      "cell_type": "code",
      "source": "cities=['hyderabad','chennai','amatavati','mumbai']",
      "execution_count": 1,
      "outputs": []
    },
    {
      "metadata": {
        "trusted": true
      },
      "cell_type": "code",
      "source": "cities",
      "execution_count": 2,
      "outputs": [
        {
          "output_type": "execute_result",
          "execution_count": 2,
          "data": {
            "text/plain": "['hyderabad', 'chennai', 'amatavati', 'mumbai']"
          },
          "metadata": {}
        }
      ]
    },
    {
      "metadata": {
        "trusted": true
      },
      "cell_type": "code",
      "source": "cities.append('delhi')",
      "execution_count": 4,
      "outputs": []
    },
    {
      "metadata": {
        "trusted": true
      },
      "cell_type": "code",
      "source": "help(cities.sort)",
      "execution_count": 5,
      "outputs": [
        {
          "output_type": "stream",
          "text": "Help on built-in function sort:\n\nsort(...) method of builtins.list instance\n    L.sort(key=None, reverse=False) -> None -- stable sort *IN PLACE*\n\n",
          "name": "stdout"
        }
      ]
    },
    {
      "metadata": {
        "trusted": true
      },
      "cell_type": "code",
      "source": "cities.append('hyderabad')",
      "execution_count": 6,
      "outputs": []
    },
    {
      "metadata": {
        "trusted": true
      },
      "cell_type": "code",
      "source": "cities",
      "execution_count": 17,
      "outputs": [
        {
          "output_type": "execute_result",
          "execution_count": 17,
          "data": {
            "text/plain": "['hyderabad', 'chennai', 'amatavati', 'mumbai', 'delhi', 'hyderabad']"
          },
          "metadata": {}
        }
      ]
    },
    {
      "metadata": {
        "trusted": true
      },
      "cell_type": "code",
      "source": "len(cities)",
      "execution_count": 7,
      "outputs": [
        {
          "output_type": "execute_result",
          "execution_count": 7,
          "data": {
            "text/plain": "6"
          },
          "metadata": {}
        }
      ]
    },
    {
      "metadata": {
        "trusted": true
      },
      "cell_type": "code",
      "source": "#slicing\ncities[0:2]",
      "execution_count": 8,
      "outputs": [
        {
          "output_type": "execute_result",
          "execution_count": 8,
          "data": {
            "text/plain": "['hyderabad', 'chennai']"
          },
          "metadata": {}
        }
      ]
    },
    {
      "metadata": {
        "trusted": true
      },
      "cell_type": "code",
      "source": "cities[0:3]",
      "execution_count": 18,
      "outputs": [
        {
          "output_type": "execute_result",
          "execution_count": 18,
          "data": {
            "text/plain": "['hyderabad', 'chennai', 'amatavati']"
          },
          "metadata": {}
        }
      ]
    },
    {
      "metadata": {
        "trusted": true
      },
      "cell_type": "code",
      "source": "cities[1:2]",
      "execution_count": 19,
      "outputs": [
        {
          "output_type": "execute_result",
          "execution_count": 19,
          "data": {
            "text/plain": "['chennai']"
          },
          "metadata": {}
        }
      ]
    },
    {
      "metadata": {
        "trusted": true
      },
      "cell_type": "code",
      "source": "cities[5:6]",
      "execution_count": 16,
      "outputs": [
        {
          "output_type": "execute_result",
          "execution_count": 16,
          "data": {
            "text/plain": "['hyderabad']"
          },
          "metadata": {}
        }
      ]
    },
    {
      "metadata": {
        "trusted": true
      },
      "cell_type": "code",
      "source": "cities[1:len(cities)]",
      "execution_count": 21,
      "outputs": [
        {
          "output_type": "execute_result",
          "execution_count": 21,
          "data": {
            "text/plain": "['chennai', 'amatavati', 'mumbai', 'delhi', 'hyderabad']"
          },
          "metadata": {}
        }
      ]
    },
    {
      "metadata": {
        "trusted": true
      },
      "cell_type": "code",
      "source": "cities[len(cities)-1:len(cities)]",
      "execution_count": 20,
      "outputs": [
        {
          "output_type": "execute_result",
          "execution_count": 20,
          "data": {
            "text/plain": "['hyderabad']"
          },
          "metadata": {}
        }
      ]
    },
    {
      "metadata": {
        "trusted": true
      },
      "cell_type": "code",
      "source": "# alternate values\nlist1=['idli',10,'dosa',20]",
      "execution_count": 22,
      "outputs": []
    },
    {
      "metadata": {
        "trusted": true
      },
      "cell_type": "code",
      "source": "list1[::2]",
      "execution_count": 23,
      "outputs": [
        {
          "output_type": "execute_result",
          "execution_count": 23,
          "data": {
            "text/plain": "['idli', 'dosa']"
          },
          "metadata": {}
        }
      ]
    },
    {
      "metadata": {
        "trusted": true
      },
      "cell_type": "code",
      "source": "list1[1::2]",
      "execution_count": 29,
      "outputs": [
        {
          "output_type": "execute_result",
          "execution_count": 29,
          "data": {
            "text/plain": "[10, 20]"
          },
          "metadata": {}
        }
      ]
    },
    {
      "metadata": {
        "trusted": true
      },
      "cell_type": "code",
      "source": "L1 = [10, 5, 4, 7, 8]",
      "execution_count": 1,
      "outputs": []
    },
    {
      "metadata": {
        "trusted": true
      },
      "cell_type": "code",
      "source": "L2 = [1, 2, 3]",
      "execution_count": 2,
      "outputs": []
    },
    {
      "metadata": {
        "trusted": true
      },
      "cell_type": "code",
      "source": "L3=L1+L2",
      "execution_count": 3,
      "outputs": [
        {
          "output_type": "execute_result",
          "execution_count": 3,
          "data": {
            "text/plain": "[10, 5, 4, 7, 8, 1, 2, 3]"
          },
          "metadata": {}
        }
      ]
    },
    {
      "metadata": {
        "trusted": true
      },
      "cell_type": "code",
      "source": "L3",
      "execution_count": 8,
      "outputs": [
        {
          "output_type": "execute_result",
          "execution_count": 8,
          "data": {
            "text/plain": "array([2, 4, 6])"
          },
          "metadata": {}
        }
      ]
    },
    {
      "metadata": {
        "trusted": true
      },
      "cell_type": "code",
      "source": "sorted(L3)",
      "execution_count": 9,
      "outputs": [
        {
          "output_type": "execute_result",
          "execution_count": 9,
          "data": {
            "text/plain": "[2, 4, 6]"
          },
          "metadata": {}
        }
      ]
    },
    {
      "metadata": {
        "trusted": true
      },
      "cell_type": "code",
      "source": "L1=[1, 2, 3]\nL2=[1, 2, 3]\nimport numpy as np\nL3=np.add(L1,L2)\nL3",
      "execution_count": 5,
      "outputs": [
        {
          "output_type": "execute_result",
          "execution_count": 5,
          "data": {
            "text/plain": "array([2, 4, 6])"
          },
          "metadata": {}
        }
      ]
    },
    {
      "metadata": {
        "trusted": true
      },
      "cell_type": "code",
      "source": "help(np.add)",
      "execution_count": 7,
      "outputs": [
        {
          "output_type": "stream",
          "text": "Help on ufunc object:\n\nadd = class ufunc(builtins.object)\n |  Functions that operate element by element on whole arrays.\n |  \n |  To see the documentation for a specific ufunc, use `info`.  For\n |  example, ``np.info(np.sin)``.  Because ufuncs are written in C\n |  (for speed) and linked into Python with NumPy's ufunc facility,\n |  Python's help() function finds this page whenever help() is called\n |  on a ufunc.\n |  \n |  A detailed explanation of ufuncs can be found in the docs for :ref:`ufuncs`.\n |  \n |  Calling ufuncs:\n |  ===============\n |  \n |  op(*x[, out], where=True, **kwargs)\n |  Apply `op` to the arguments `*x` elementwise, broadcasting the arguments.\n |  \n |  The broadcasting rules are:\n |  \n |  * Dimensions of length 1 may be prepended to either array.\n |  * Arrays may be repeated along dimensions of length 1.\n |  \n |  Parameters\n |  ----------\n |  *x : array_like\n |      Input arrays.\n |  out : ndarray, None, or tuple of ndarray and None, optional\n |      Alternate array object(s) in which to put the result; if provided, it\n |      must have a shape that the inputs broadcast to. A tuple of arrays\n |      (possible only as a keyword argument) must have length equal to the\n |      number of outputs; use `None` for outputs to be allocated by the ufunc.\n |  where : array_like, optional\n |      Values of True indicate to calculate the ufunc at that position, values\n |      of False indicate to leave the value in the output alone.\n |  **kwargs\n |      For other keyword-only arguments, see the :ref:`ufunc docs <ufuncs.kwargs>`.\n |  \n |  Returns\n |  -------\n |  r : ndarray or tuple of ndarray\n |      `r` will have the shape that the arrays in `x` broadcast to; if `out` is\n |      provided, `r` will be equal to `out`. If the function has more than one\n |      output, then the result will be a tuple of arrays.\n |  \n |  Methods defined here:\n |  \n |  __call__(self, /, *args, **kwargs)\n |      Call self as a function.\n |  \n |  __repr__(self, /)\n |      Return repr(self).\n |  \n |  __str__(self, /)\n |      Return str(self).\n |  \n |  accumulate(...)\n |      accumulate(array, axis=0, dtype=None, out=None)\n |      \n |      Accumulate the result of applying the operator to all elements.\n |      \n |      For a one-dimensional array, accumulate produces results equivalent to::\n |      \n |        r = np.empty(len(A))\n |        t = op.identity        # op = the ufunc being applied to A's  elements\n |        for i in range(len(A)):\n |            t = op(t, A[i])\n |            r[i] = t\n |        return r\n |      \n |      For example, add.accumulate() is equivalent to np.cumsum().\n |      \n |      For a multi-dimensional array, accumulate is applied along only one\n |      axis (axis zero by default; see Examples below) so repeated use is\n |      necessary if one wants to accumulate over multiple axes.\n |      \n |      Parameters\n |      ----------\n |      array : array_like\n |          The array to act on.\n |      axis : int, optional\n |          The axis along which to apply the accumulation; default is zero.\n |      dtype : data-type code, optional\n |          The data-type used to represent the intermediate results. Defaults\n |          to the data-type of the output array if such is provided, or the\n |          the data-type of the input array if no output array is provided.\n |      out : ndarray, None, or tuple of ndarray and None, optional\n |          A location into which the result is stored. If not provided or `None`,\n |          a freshly-allocated array is returned. For consistency with\n |          :ref:`ufunc.__call__`, if given as a keyword, this may be wrapped in a\n |          1-element tuple.\n |      \n |          .. versionchanged:: 1.13.0\n |             Tuples are allowed for keyword argument.\n |      \n |      Returns\n |      -------\n |      r : ndarray\n |          The accumulated values. If `out` was supplied, `r` is a reference to\n |          `out`.\n |      \n |      Examples\n |      --------\n |      1-D array examples:\n |      \n |      >>> np.add.accumulate([2, 3, 5])\n |      array([ 2,  5, 10])\n |      >>> np.multiply.accumulate([2, 3, 5])\n |      array([ 2,  6, 30])\n |      \n |      2-D array examples:\n |      \n |      >>> I = np.eye(2)\n |      >>> I\n |      array([[ 1.,  0.],\n |             [ 0.,  1.]])\n |      \n |      Accumulate along axis 0 (rows), down columns:\n |      \n |      >>> np.add.accumulate(I, 0)\n |      array([[ 1.,  0.],\n |             [ 1.,  1.]])\n |      >>> np.add.accumulate(I) # no axis specified = axis zero\n |      array([[ 1.,  0.],\n |             [ 1.,  1.]])\n |      \n |      Accumulate along axis 1 (columns), through rows:\n |      \n |      >>> np.add.accumulate(I, 1)\n |      array([[ 1.,  1.],\n |             [ 0.,  1.]])\n |  \n |  at(...)\n |      at(a, indices, b=None)\n |      \n |      Performs unbuffered in place operation on operand 'a' for elements\n |      specified by 'indices'. For addition ufunc, this method is equivalent to\n |      `a[indices] += b`, except that results are accumulated for elements that\n |      are indexed more than once. For example, `a[[0,0]] += 1` will only\n |      increment the first element once because of buffering, whereas\n |      `add.at(a, [0,0], 1)` will increment the first element twice.\n |      \n |      .. versionadded:: 1.8.0\n |      \n |      Parameters\n |      ----------\n |      a : array_like\n |          The array to perform in place operation on.\n |      indices : array_like or tuple\n |          Array like index object or slice object for indexing into first\n |          operand. If first operand has multiple dimensions, indices can be a\n |          tuple of array like index objects or slice objects.\n |      b : array_like\n |          Second operand for ufuncs requiring two operands. Operand must be\n |          broadcastable over first operand after indexing or slicing.\n |      \n |      Examples\n |      --------\n |      Set items 0 and 1 to their negative values:\n |      \n |      >>> a = np.array([1, 2, 3, 4])\n |      >>> np.negative.at(a, [0, 1])\n |      >>> print(a)\n |      array([-1, -2, 3, 4])\n |      \n |      ::\n |      \n |      Increment items 0 and 1, and increment item 2 twice:\n |      \n |      >>> a = np.array([1, 2, 3, 4])\n |      >>> np.add.at(a, [0, 1, 2, 2], 1)\n |      >>> print(a)\n |      array([2, 3, 5, 4])\n |      \n |      ::\n |      \n |      Add items 0 and 1 in first array to second array,\n |      and store results in first array:\n |      \n |      >>> a = np.array([1, 2, 3, 4])\n |      >>> b = np.array([1, 2])\n |      >>> np.add.at(a, [0, 1], b)\n |      >>> print(a)\n |      array([2, 4, 3, 4])\n |  \n |  outer(...)\n |      outer(A, B, **kwargs)\n |      \n |      Apply the ufunc `op` to all pairs (a, b) with a in `A` and b in `B`.\n |      \n |      Let ``M = A.ndim``, ``N = B.ndim``. Then the result, `C`, of\n |      ``op.outer(A, B)`` is an array of dimension M + N such that:\n |      \n |      .. math:: C[i_0, ..., i_{M-1}, j_0, ..., j_{N-1}] =\n |         op(A[i_0, ..., i_{M-1}], B[j_0, ..., j_{N-1}])\n |      \n |      For `A` and `B` one-dimensional, this is equivalent to::\n |      \n |        r = empty(len(A),len(B))\n |        for i in range(len(A)):\n |            for j in range(len(B)):\n |                r[i,j] = op(A[i], B[j]) # op = ufunc in question\n |      \n |      Parameters\n |      ----------\n |      A : array_like\n |          First array\n |      B : array_like\n |          Second array\n |      kwargs : any\n |          Arguments to pass on to the ufunc. Typically `dtype` or `out`.\n |      \n |      Returns\n |      -------\n |      r : ndarray\n |          Output array\n |      \n |      See Also\n |      --------\n |      numpy.outer\n |      \n |      Examples\n |      --------\n |      >>> np.multiply.outer([1, 2, 3], [4, 5, 6])\n |      array([[ 4,  5,  6],\n |             [ 8, 10, 12],\n |             [12, 15, 18]])\n |      \n |      A multi-dimensional example:\n |      \n |      >>> A = np.array([[1, 2, 3], [4, 5, 6]])\n |      >>> A.shape\n |      (2, 3)\n |      >>> B = np.array([[1, 2, 3, 4]])\n |      >>> B.shape\n |      (1, 4)\n |      >>> C = np.multiply.outer(A, B)\n |      >>> C.shape; C\n |      (2, 3, 1, 4)\n |      array([[[[ 1,  2,  3,  4]],\n |              [[ 2,  4,  6,  8]],\n |              [[ 3,  6,  9, 12]]],\n |             [[[ 4,  8, 12, 16]],\n |              [[ 5, 10, 15, 20]],\n |              [[ 6, 12, 18, 24]]]])\n |  \n |  reduce(...)\n |      reduce(a, axis=0, dtype=None, out=None, keepdims=False)\n |      \n |      Reduces `a`'s dimension by one, by applying ufunc along one axis.\n |      \n |      Let :math:`a.shape = (N_0, ..., N_i, ..., N_{M-1})`.  Then\n |      :math:`ufunc.reduce(a, axis=i)[k_0, ..,k_{i-1}, k_{i+1}, .., k_{M-1}]` =\n |      the result of iterating `j` over :math:`range(N_i)`, cumulatively applying\n |      ufunc to each :math:`a[k_0, ..,k_{i-1}, j, k_{i+1}, .., k_{M-1}]`.\n |      For a one-dimensional array, reduce produces results equivalent to:\n |      ::\n |      \n |       r = op.identity # op = ufunc\n |       for i in range(len(A)):\n |         r = op(r, A[i])\n |       return r\n |      \n |      For example, add.reduce() is equivalent to sum().\n |      \n |      Parameters\n |      ----------\n |      a : array_like\n |          The array to act on.\n |      axis : None or int or tuple of ints, optional\n |          Axis or axes along which a reduction is performed.\n |          The default (`axis` = 0) is perform a reduction over the first\n |          dimension of the input array. `axis` may be negative, in\n |          which case it counts from the last to the first axis.\n |      \n |          .. versionadded:: 1.7.0\n |      \n |          If this is `None`, a reduction is performed over all the axes.\n |          If this is a tuple of ints, a reduction is performed on multiple\n |          axes, instead of a single axis or all the axes as before.\n |      \n |          For operations which are either not commutative or not associative,\n |          doing a reduction over multiple axes is not well-defined. The\n |          ufuncs do not currently raise an exception in this case, but will\n |          likely do so in the future.\n |      dtype : data-type code, optional\n |          The type used to represent the intermediate results. Defaults\n |          to the data-type of the output array if this is provided, or\n |          the data-type of the input array if no output array is provided.\n |      out : ndarray, None, or tuple of ndarray and None, optional\n |          A location into which the result is stored. If not provided or `None`,\n |          a freshly-allocated array is returned. For consistency with\n |          :ref:`ufunc.__call__`, if given as a keyword, this may be wrapped in a\n |          1-element tuple.\n |      \n |          .. versionchanged:: 1.13.0\n |             Tuples are allowed for keyword argument.\n |      keepdims : bool, optional\n |          If this is set to True, the axes which are reduced are left\n |          in the result as dimensions with size one. With this option,\n |          the result will broadcast correctly against the original `arr`.\n |      \n |          .. versionadded:: 1.7.0\n |      \n |      Returns\n |      -------\n |      r : ndarray\n |          The reduced array. If `out` was supplied, `r` is a reference to it.\n |      \n |      Examples\n |      --------\n |      >>> np.multiply.reduce([2,3,5])\n |      30\n |      \n |      A multi-dimensional array example:\n |      \n |      >>> X = np.arange(8).reshape((2,2,2))\n |      >>> X\n |      array([[[0, 1],\n |              [2, 3]],\n |             [[4, 5],\n |              [6, 7]]])\n |      >>> np.add.reduce(X, 0)\n |      array([[ 4,  6],\n |             [ 8, 10]])\n |      >>> np.add.reduce(X) # confirm: default axis value is 0\n |      array([[ 4,  6],\n |             [ 8, 10]])\n |      >>> np.add.reduce(X, 1)\n |      array([[ 2,  4],\n |             [10, 12]])\n |      >>> np.add.reduce(X, 2)\n |      array([[ 1,  5],\n |             [ 9, 13]])\n |  \n |  reduceat(...)\n |      reduceat(a, indices, axis=0, dtype=None, out=None)\n |      \n |      Performs a (local) reduce with specified slices over a single axis.\n |      \n |      For i in ``range(len(indices))``, `reduceat` computes\n |      ``ufunc.reduce(a[indices[i]:indices[i+1]])``, which becomes the i-th\n |      generalized \"row\" parallel to `axis` in the final result (i.e., in a\n |      2-D array, for example, if `axis = 0`, it becomes the i-th row, but if\n |      `axis = 1`, it becomes the i-th column).  There are three exceptions to this:\n |      \n |      * when ``i = len(indices) - 1`` (so for the last index),\n |        ``indices[i+1] = a.shape[axis]``.\n |      * if ``indices[i] >= indices[i + 1]``, the i-th generalized \"row\" is\n |        simply ``a[indices[i]]``.\n |      * if ``indices[i] >= len(a)`` or ``indices[i] < 0``, an error is raised.\n |      \n |      The shape of the output depends on the size of `indices`, and may be\n |      larger than `a` (this happens if ``len(indices) > a.shape[axis]``).\n |      \n |      Parameters\n |      ----------\n |      a : array_like\n |          The array to act on.\n |      indices : array_like\n |          Paired indices, comma separated (not colon), specifying slices to\n |          reduce.\n |      axis : int, optional\n |          The axis along which to apply the reduceat.\n |      dtype : data-type code, optional\n |          The type used to represent the intermediate results. Defaults\n |          to the data type of the output array if this is provided, or\n |          the data type of the input array if no output array is provided.\n |      out : ndarray, None, or tuple of ndarray and None, optional\n |          A location into which the result is stored. If not provided or `None`,\n |          a freshly-allocated array is returned. For consistency with\n |          :ref:`ufunc.__call__`, if given as a keyword, this may be wrapped in a\n |          1-element tuple.\n |      \n |          .. versionchanged:: 1.13.0\n |             Tuples are allowed for keyword argument.\n |      \n |      Returns\n |      -------\n |      r : ndarray\n |          The reduced values. If `out` was supplied, `r` is a reference to\n |          `out`.\n |      \n |      Notes\n |      -----\n |      A descriptive example:\n |      \n |      If `a` is 1-D, the function `ufunc.accumulate(a)` is the same as\n |      ``ufunc.reduceat(a, indices)[::2]`` where `indices` is\n |      ``range(len(array) - 1)`` with a zero placed\n |      in every other element:\n |      ``indices = zeros(2 * len(a) - 1)``, ``indices[1::2] = range(1, len(a))``.\n |      \n |      Don't be fooled by this attribute's name: `reduceat(a)` is not\n |      necessarily smaller than `a`.\n |      \n |      Examples\n |      --------\n |      To take the running sum of four successive values:\n |      \n |      >>> np.add.reduceat(np.arange(8),[0,4, 1,5, 2,6, 3,7])[::2]\n |      array([ 6, 10, 14, 18])\n |      \n |      A 2-D example:\n |      \n |      >>> x = np.linspace(0, 15, 16).reshape(4,4)\n |      >>> x\n |      array([[  0.,   1.,   2.,   3.],\n |             [  4.,   5.,   6.,   7.],\n |             [  8.,   9.,  10.,  11.],\n |             [ 12.,  13.,  14.,  15.]])\n |      \n |      ::\n |      \n |       # reduce such that the result has the following five rows:\n |       # [row1 + row2 + row3]\n |       # [row4]\n |       # [row2]\n |       # [row3]\n |       # [row1 + row2 + row3 + row4]\n |      \n |      >>> np.add.reduceat(x, [0, 3, 1, 2, 0])\n |      array([[ 12.,  15.,  18.,  21.],\n |             [ 12.,  13.,  14.,  15.],\n |             [  4.,   5.,   6.,   7.],\n |             [  8.,   9.,  10.,  11.],\n |             [ 24.,  28.,  32.,  36.]])\n |      \n |      ::\n |      \n |       # reduce such that result has the following two columns:\n |       # [col1 * col2 * col3, col4]\n |      \n |      >>> np.multiply.reduceat(x, [0, 3], 1)\n |      array([[    0.,     3.],\n |             [  120.,     7.],\n |             [  720.,    11.],\n |             [ 2184.,    15.]])\n |  \n |  ----------------------------------------------------------------------\n |  Data descriptors defined here:\n |  \n |  identity\n |      The identity value.\n |      \n |      Data attribute containing the identity element for the ufunc, if it has one.\n |      If it does not, the attribute value is None.\n |      \n |      Examples\n |      --------\n |      >>> np.add.identity\n |      0\n |      >>> np.multiply.identity\n |      1\n |      >>> np.power.identity\n |      1\n |      >>> print(np.exp.identity)\n |      None\n |  \n |  nargs\n |      The number of arguments.\n |      \n |      Data attribute containing the number of arguments the ufunc takes, including\n |      optional ones.\n |      \n |      Notes\n |      -----\n |      Typically this value will be one more than what you might expect because all\n |      ufuncs take  the optional \"out\" argument.\n |      \n |      Examples\n |      --------\n |      >>> np.add.nargs\n |      3\n |      >>> np.multiply.nargs\n |      3\n |      >>> np.power.nargs\n |      3\n |      >>> np.exp.nargs\n |      2\n |  \n |  nin\n |      The number of inputs.\n |      \n |      Data attribute containing the number of arguments the ufunc treats as input.\n |      \n |      Examples\n |      --------\n |      >>> np.add.nin\n |      2\n |      >>> np.multiply.nin\n |      2\n |      >>> np.power.nin\n |      2\n |      >>> np.exp.nin\n |      1\n |  \n |  nout\n |      The number of outputs.\n |      \n |      Data attribute containing the number of arguments the ufunc treats as output.\n |      \n |      Notes\n |      -----\n |      Since all ufuncs can take output arguments, this will always be (at least) 1.\n |      \n |      Examples\n |      --------\n |      >>> np.add.nout\n |      1\n |      >>> np.multiply.nout\n |      1\n |      >>> np.power.nout\n |      1\n |      >>> np.exp.nout\n |      1\n |  \n |  ntypes\n |      The number of types.\n |      \n |      The number of numerical NumPy types - of which there are 18 total - on which\n |      the ufunc can operate.\n |      \n |      See Also\n |      --------\n |      numpy.ufunc.types\n |      \n |      Examples\n |      --------\n |      >>> np.add.ntypes\n |      18\n |      >>> np.multiply.ntypes\n |      18\n |      >>> np.power.ntypes\n |      17\n |      >>> np.exp.ntypes\n |      7\n |      >>> np.remainder.ntypes\n |      14\n |  \n |  signature\n |      Definition of the core elements a generalized ufunc operates on.\n |      \n |      The signature determines how the dimensions of each input/output array\n |      are split into core and loop dimensions:\n |      \n |      1. Each dimension in the signature is matched to a dimension of the\n |         corresponding passed-in array, starting from the end of the shape tuple.\n |      2. Core dimensions assigned to the same label in the signature must have\n |         exactly matching sizes, no broadcasting is performed.\n |      3. The core dimensions are removed from all inputs and the remaining\n |         dimensions are broadcast together, defining the loop dimensions.\n |      \n |      Notes\n |      -----\n |      Generalized ufuncs are used internally in many linalg functions, and in\n |      the testing suite; the examples below are taken from these.\n |      For ufuncs that operate on scalars, the signature is `None`, which is\n |      equivalent to '()' for every argument.\n |      \n |      Examples\n |      --------\n |      >>> np.core.umath_tests.matrix_multiply.signature\n |      '(m,n),(n,p)->(m,p)'\n |      >>> np.linalg._umath_linalg.det.signature\n |      '(m,m)->()'\n |      >>> np.add.signature is None\n |      True  # equivalent to '(),()->()'\n |  \n |  types\n |      Returns a list with types grouped input->output.\n |      \n |      Data attribute listing the data-type \"Domain-Range\" groupings the ufunc can\n |      deliver. The data-types are given using the character codes.\n |      \n |      See Also\n |      --------\n |      numpy.ufunc.ntypes\n |      \n |      Examples\n |      --------\n |      >>> np.add.types\n |      ['??->?', 'bb->b', 'BB->B', 'hh->h', 'HH->H', 'ii->i', 'II->I', 'll->l',\n |      'LL->L', 'qq->q', 'QQ->Q', 'ff->f', 'dd->d', 'gg->g', 'FF->F', 'DD->D',\n |      'GG->G', 'OO->O']\n |      \n |      >>> np.multiply.types\n |      ['??->?', 'bb->b', 'BB->B', 'hh->h', 'HH->H', 'ii->i', 'II->I', 'll->l',\n |      'LL->L', 'qq->q', 'QQ->Q', 'ff->f', 'dd->d', 'gg->g', 'FF->F', 'DD->D',\n |      'GG->G', 'OO->O']\n |      \n |      >>> np.power.types\n |      ['bb->b', 'BB->B', 'hh->h', 'HH->H', 'ii->i', 'II->I', 'll->l', 'LL->L',\n |      'qq->q', 'QQ->Q', 'ff->f', 'dd->d', 'gg->g', 'FF->F', 'DD->D', 'GG->G',\n |      'OO->O']\n |      \n |      >>> np.exp.types\n |      ['f->f', 'd->d', 'g->g', 'F->F', 'D->D', 'G->G', 'O->O']\n |      \n |      >>> np.remainder.types\n |      ['bb->b', 'BB->B', 'hh->h', 'HH->H', 'ii->i', 'II->I', 'll->l', 'LL->L',\n |      'qq->q', 'QQ->Q', 'ff->f', 'dd->d', 'gg->g', 'OO->O']\n\n",
          "name": "stdout"
        }
      ]
    },
    {
      "metadata": {
        "trusted": true
      },
      "cell_type": "code",
      "source": "import time\nstart = time.time()\nstart",
      "execution_count": 2,
      "outputs": [
        {
          "output_type": "execute_result",
          "execution_count": 2,
          "data": {
            "text/plain": "1591151128.3985229"
          },
          "metadata": {}
        }
      ]
    },
    {
      "metadata": {
        "trusted": true
      },
      "cell_type": "code",
      "source": "L1 = range(1000)\nL2 = range(1000)\nresult = [(x+y) for x,y in zip(L1,L2)]\nresult",
      "execution_count": 7,
      "outputs": [
        {
          "output_type": "execute_result",
          "execution_count": 7,
          "data": {
            "text/plain": "[0,\n 2,\n 4,\n 6,\n 8,\n 10,\n 12,\n 14,\n 16,\n 18,\n 20,\n 22,\n 24,\n 26,\n 28,\n 30,\n 32,\n 34,\n 36,\n 38,\n 40,\n 42,\n 44,\n 46,\n 48,\n 50,\n 52,\n 54,\n 56,\n 58,\n 60,\n 62,\n 64,\n 66,\n 68,\n 70,\n 72,\n 74,\n 76,\n 78,\n 80,\n 82,\n 84,\n 86,\n 88,\n 90,\n 92,\n 94,\n 96,\n 98,\n 100,\n 102,\n 104,\n 106,\n 108,\n 110,\n 112,\n 114,\n 116,\n 118,\n 120,\n 122,\n 124,\n 126,\n 128,\n 130,\n 132,\n 134,\n 136,\n 138,\n 140,\n 142,\n 144,\n 146,\n 148,\n 150,\n 152,\n 154,\n 156,\n 158,\n 160,\n 162,\n 164,\n 166,\n 168,\n 170,\n 172,\n 174,\n 176,\n 178,\n 180,\n 182,\n 184,\n 186,\n 188,\n 190,\n 192,\n 194,\n 196,\n 198,\n 200,\n 202,\n 204,\n 206,\n 208,\n 210,\n 212,\n 214,\n 216,\n 218,\n 220,\n 222,\n 224,\n 226,\n 228,\n 230,\n 232,\n 234,\n 236,\n 238,\n 240,\n 242,\n 244,\n 246,\n 248,\n 250,\n 252,\n 254,\n 256,\n 258,\n 260,\n 262,\n 264,\n 266,\n 268,\n 270,\n 272,\n 274,\n 276,\n 278,\n 280,\n 282,\n 284,\n 286,\n 288,\n 290,\n 292,\n 294,\n 296,\n 298,\n 300,\n 302,\n 304,\n 306,\n 308,\n 310,\n 312,\n 314,\n 316,\n 318,\n 320,\n 322,\n 324,\n 326,\n 328,\n 330,\n 332,\n 334,\n 336,\n 338,\n 340,\n 342,\n 344,\n 346,\n 348,\n 350,\n 352,\n 354,\n 356,\n 358,\n 360,\n 362,\n 364,\n 366,\n 368,\n 370,\n 372,\n 374,\n 376,\n 378,\n 380,\n 382,\n 384,\n 386,\n 388,\n 390,\n 392,\n 394,\n 396,\n 398,\n 400,\n 402,\n 404,\n 406,\n 408,\n 410,\n 412,\n 414,\n 416,\n 418,\n 420,\n 422,\n 424,\n 426,\n 428,\n 430,\n 432,\n 434,\n 436,\n 438,\n 440,\n 442,\n 444,\n 446,\n 448,\n 450,\n 452,\n 454,\n 456,\n 458,\n 460,\n 462,\n 464,\n 466,\n 468,\n 470,\n 472,\n 474,\n 476,\n 478,\n 480,\n 482,\n 484,\n 486,\n 488,\n 490,\n 492,\n 494,\n 496,\n 498,\n 500,\n 502,\n 504,\n 506,\n 508,\n 510,\n 512,\n 514,\n 516,\n 518,\n 520,\n 522,\n 524,\n 526,\n 528,\n 530,\n 532,\n 534,\n 536,\n 538,\n 540,\n 542,\n 544,\n 546,\n 548,\n 550,\n 552,\n 554,\n 556,\n 558,\n 560,\n 562,\n 564,\n 566,\n 568,\n 570,\n 572,\n 574,\n 576,\n 578,\n 580,\n 582,\n 584,\n 586,\n 588,\n 590,\n 592,\n 594,\n 596,\n 598,\n 600,\n 602,\n 604,\n 606,\n 608,\n 610,\n 612,\n 614,\n 616,\n 618,\n 620,\n 622,\n 624,\n 626,\n 628,\n 630,\n 632,\n 634,\n 636,\n 638,\n 640,\n 642,\n 644,\n 646,\n 648,\n 650,\n 652,\n 654,\n 656,\n 658,\n 660,\n 662,\n 664,\n 666,\n 668,\n 670,\n 672,\n 674,\n 676,\n 678,\n 680,\n 682,\n 684,\n 686,\n 688,\n 690,\n 692,\n 694,\n 696,\n 698,\n 700,\n 702,\n 704,\n 706,\n 708,\n 710,\n 712,\n 714,\n 716,\n 718,\n 720,\n 722,\n 724,\n 726,\n 728,\n 730,\n 732,\n 734,\n 736,\n 738,\n 740,\n 742,\n 744,\n 746,\n 748,\n 750,\n 752,\n 754,\n 756,\n 758,\n 760,\n 762,\n 764,\n 766,\n 768,\n 770,\n 772,\n 774,\n 776,\n 778,\n 780,\n 782,\n 784,\n 786,\n 788,\n 790,\n 792,\n 794,\n 796,\n 798,\n 800,\n 802,\n 804,\n 806,\n 808,\n 810,\n 812,\n 814,\n 816,\n 818,\n 820,\n 822,\n 824,\n 826,\n 828,\n 830,\n 832,\n 834,\n 836,\n 838,\n 840,\n 842,\n 844,\n 846,\n 848,\n 850,\n 852,\n 854,\n 856,\n 858,\n 860,\n 862,\n 864,\n 866,\n 868,\n 870,\n 872,\n 874,\n 876,\n 878,\n 880,\n 882,\n 884,\n 886,\n 888,\n 890,\n 892,\n 894,\n 896,\n 898,\n 900,\n 902,\n 904,\n 906,\n 908,\n 910,\n 912,\n 914,\n 916,\n 918,\n 920,\n 922,\n 924,\n 926,\n 928,\n 930,\n 932,\n 934,\n 936,\n 938,\n 940,\n 942,\n 944,\n 946,\n 948,\n 950,\n 952,\n 954,\n 956,\n 958,\n 960,\n 962,\n 964,\n 966,\n 968,\n 970,\n 972,\n 974,\n 976,\n 978,\n 980,\n 982,\n 984,\n 986,\n 988,\n 990,\n 992,\n 994,\n 996,\n 998,\n 1000,\n 1002,\n 1004,\n 1006,\n 1008,\n 1010,\n 1012,\n 1014,\n 1016,\n 1018,\n 1020,\n 1022,\n 1024,\n 1026,\n 1028,\n 1030,\n 1032,\n 1034,\n 1036,\n 1038,\n 1040,\n 1042,\n 1044,\n 1046,\n 1048,\n 1050,\n 1052,\n 1054,\n 1056,\n 1058,\n 1060,\n 1062,\n 1064,\n 1066,\n 1068,\n 1070,\n 1072,\n 1074,\n 1076,\n 1078,\n 1080,\n 1082,\n 1084,\n 1086,\n 1088,\n 1090,\n 1092,\n 1094,\n 1096,\n 1098,\n 1100,\n 1102,\n 1104,\n 1106,\n 1108,\n 1110,\n 1112,\n 1114,\n 1116,\n 1118,\n 1120,\n 1122,\n 1124,\n 1126,\n 1128,\n 1130,\n 1132,\n 1134,\n 1136,\n 1138,\n 1140,\n 1142,\n 1144,\n 1146,\n 1148,\n 1150,\n 1152,\n 1154,\n 1156,\n 1158,\n 1160,\n 1162,\n 1164,\n 1166,\n 1168,\n 1170,\n 1172,\n 1174,\n 1176,\n 1178,\n 1180,\n 1182,\n 1184,\n 1186,\n 1188,\n 1190,\n 1192,\n 1194,\n 1196,\n 1198,\n 1200,\n 1202,\n 1204,\n 1206,\n 1208,\n 1210,\n 1212,\n 1214,\n 1216,\n 1218,\n 1220,\n 1222,\n 1224,\n 1226,\n 1228,\n 1230,\n 1232,\n 1234,\n 1236,\n 1238,\n 1240,\n 1242,\n 1244,\n 1246,\n 1248,\n 1250,\n 1252,\n 1254,\n 1256,\n 1258,\n 1260,\n 1262,\n 1264,\n 1266,\n 1268,\n 1270,\n 1272,\n 1274,\n 1276,\n 1278,\n 1280,\n 1282,\n 1284,\n 1286,\n 1288,\n 1290,\n 1292,\n 1294,\n 1296,\n 1298,\n 1300,\n 1302,\n 1304,\n 1306,\n 1308,\n 1310,\n 1312,\n 1314,\n 1316,\n 1318,\n 1320,\n 1322,\n 1324,\n 1326,\n 1328,\n 1330,\n 1332,\n 1334,\n 1336,\n 1338,\n 1340,\n 1342,\n 1344,\n 1346,\n 1348,\n 1350,\n 1352,\n 1354,\n 1356,\n 1358,\n 1360,\n 1362,\n 1364,\n 1366,\n 1368,\n 1370,\n 1372,\n 1374,\n 1376,\n 1378,\n 1380,\n 1382,\n 1384,\n 1386,\n 1388,\n 1390,\n 1392,\n 1394,\n 1396,\n 1398,\n 1400,\n 1402,\n 1404,\n 1406,\n 1408,\n 1410,\n 1412,\n 1414,\n 1416,\n 1418,\n 1420,\n 1422,\n 1424,\n 1426,\n 1428,\n 1430,\n 1432,\n 1434,\n 1436,\n 1438,\n 1440,\n 1442,\n 1444,\n 1446,\n 1448,\n 1450,\n 1452,\n 1454,\n 1456,\n 1458,\n 1460,\n 1462,\n 1464,\n 1466,\n 1468,\n 1470,\n 1472,\n 1474,\n 1476,\n 1478,\n 1480,\n 1482,\n 1484,\n 1486,\n 1488,\n 1490,\n 1492,\n 1494,\n 1496,\n 1498,\n 1500,\n 1502,\n 1504,\n 1506,\n 1508,\n 1510,\n 1512,\n 1514,\n 1516,\n 1518,\n 1520,\n 1522,\n 1524,\n 1526,\n 1528,\n 1530,\n 1532,\n 1534,\n 1536,\n 1538,\n 1540,\n 1542,\n 1544,\n 1546,\n 1548,\n 1550,\n 1552,\n 1554,\n 1556,\n 1558,\n 1560,\n 1562,\n 1564,\n 1566,\n 1568,\n 1570,\n 1572,\n 1574,\n 1576,\n 1578,\n 1580,\n 1582,\n 1584,\n 1586,\n 1588,\n 1590,\n 1592,\n 1594,\n 1596,\n 1598,\n 1600,\n 1602,\n 1604,\n 1606,\n 1608,\n 1610,\n 1612,\n 1614,\n 1616,\n 1618,\n 1620,\n 1622,\n 1624,\n 1626,\n 1628,\n 1630,\n 1632,\n 1634,\n 1636,\n 1638,\n 1640,\n 1642,\n 1644,\n 1646,\n 1648,\n 1650,\n 1652,\n 1654,\n 1656,\n 1658,\n 1660,\n 1662,\n 1664,\n 1666,\n 1668,\n 1670,\n 1672,\n 1674,\n 1676,\n 1678,\n 1680,\n 1682,\n 1684,\n 1686,\n 1688,\n 1690,\n 1692,\n 1694,\n 1696,\n 1698,\n 1700,\n 1702,\n 1704,\n 1706,\n 1708,\n 1710,\n 1712,\n 1714,\n 1716,\n 1718,\n 1720,\n 1722,\n 1724,\n 1726,\n 1728,\n 1730,\n 1732,\n 1734,\n 1736,\n 1738,\n 1740,\n 1742,\n 1744,\n 1746,\n 1748,\n 1750,\n 1752,\n 1754,\n 1756,\n 1758,\n 1760,\n 1762,\n 1764,\n 1766,\n 1768,\n 1770,\n 1772,\n 1774,\n 1776,\n 1778,\n 1780,\n 1782,\n 1784,\n 1786,\n 1788,\n 1790,\n 1792,\n 1794,\n 1796,\n 1798,\n 1800,\n 1802,\n 1804,\n 1806,\n 1808,\n 1810,\n 1812,\n 1814,\n 1816,\n 1818,\n 1820,\n 1822,\n 1824,\n 1826,\n 1828,\n 1830,\n 1832,\n 1834,\n 1836,\n 1838,\n 1840,\n 1842,\n 1844,\n 1846,\n 1848,\n 1850,\n 1852,\n 1854,\n 1856,\n 1858,\n 1860,\n 1862,\n 1864,\n 1866,\n 1868,\n 1870,\n 1872,\n 1874,\n 1876,\n 1878,\n 1880,\n 1882,\n 1884,\n 1886,\n 1888,\n 1890,\n 1892,\n 1894,\n 1896,\n 1898,\n 1900,\n 1902,\n 1904,\n 1906,\n 1908,\n 1910,\n 1912,\n 1914,\n 1916,\n 1918,\n 1920,\n 1922,\n 1924,\n 1926,\n 1928,\n 1930,\n 1932,\n 1934,\n 1936,\n 1938,\n 1940,\n 1942,\n 1944,\n 1946,\n 1948,\n 1950,\n 1952,\n 1954,\n 1956,\n 1958,\n 1960,\n 1962,\n 1964,\n 1966,\n 1968,\n 1970,\n 1972,\n 1974,\n 1976,\n 1978,\n 1980,\n 1982,\n 1984,\n 1986,\n 1988,\n 1990,\n 1992,\n 1994,\n 1996,\n 1998]"
          },
          "metadata": {}
        }
      ]
    },
    {
      "metadata": {
        "trusted": true
      },
      "cell_type": "code",
      "source": "l1=['prasad','gayatri','damodhar','siva']",
      "execution_count": 1,
      "outputs": []
    },
    {
      "metadata": {
        "trusted": true
      },
      "cell_type": "code",
      "source": "l1[-2:]",
      "execution_count": 2,
      "outputs": [
        {
          "output_type": "execute_result",
          "execution_count": 2,
          "data": {
            "text/plain": "['damodhar', 'siva']"
          },
          "metadata": {}
        }
      ]
    },
    {
      "metadata": {
        "trusted": true
      },
      "cell_type": "code",
      "source": "l1[-1:]",
      "execution_count": 3,
      "outputs": [
        {
          "output_type": "execute_result",
          "execution_count": 3,
          "data": {
            "text/plain": "['siva']"
          },
          "metadata": {}
        }
      ]
    },
    {
      "metadata": {
        "trusted": true
      },
      "cell_type": "code",
      "source": "l1[1:3]",
      "execution_count": 4,
      "outputs": [
        {
          "output_type": "execute_result",
          "execution_count": 4,
          "data": {
            "text/plain": "['gayatri', 'damodhar']"
          },
          "metadata": {}
        }
      ]
    },
    {
      "metadata": {
        "trusted": true
      },
      "cell_type": "code",
      "source": "l1.append('srideep')\nl1",
      "execution_count": 6,
      "outputs": [
        {
          "output_type": "execute_result",
          "execution_count": 6,
          "data": {
            "text/plain": "['prasad', 'gayatri', 'damodhar', 'siva', 'srideep']"
          },
          "metadata": {}
        }
      ]
    },
    {
      "metadata": {
        "trusted": true
      },
      "cell_type": "code",
      "source": "sorted",
      "execution_count": null,
      "outputs": []
    }
  ],
  "metadata": {
    "kernelspec": {
      "name": "python36",
      "display_name": "Python 3.6",
      "language": "python"
    },
    "language_info": {
      "mimetype": "text/x-python",
      "nbconvert_exporter": "python",
      "name": "python",
      "pygments_lexer": "ipython3",
      "version": "3.6.6",
      "file_extension": ".py",
      "codemirror_mode": {
        "version": 3,
        "name": "ipython"
      }
    }
  },
  "nbformat": 4,
  "nbformat_minor": 2
}