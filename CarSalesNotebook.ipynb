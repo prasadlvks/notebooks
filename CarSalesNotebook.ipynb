{
  "cells": [
    {
      "metadata": {
        "trusted": true
      },
      "cell_type": "code",
      "source": "import pandas as pd",
      "execution_count": 5,
      "outputs": []
    },
    {
      "metadata": {
        "trusted": true
      },
      "cell_type": "code",
      "source": "df=pd.read_csv(\"CarSales.csv\")",
      "execution_count": 7,
      "outputs": []
    },
    {
      "metadata": {
        "trusted": true
      },
      "cell_type": "code",
      "source": "df.head(3)",
      "execution_count": 8,
      "outputs": [
        {
          "output_type": "execute_result",
          "execution_count": 8,
          "data": {
            "text/html": "<div>\n<style scoped>\n    .dataframe tbody tr th:only-of-type {\n        vertical-align: middle;\n    }\n\n    .dataframe tbody tr th {\n        vertical-align: top;\n    }\n\n    .dataframe thead th {\n        text-align: right;\n    }\n</style>\n<table border=\"1\" class=\"dataframe\">\n  <thead>\n    <tr style=\"text-align: right;\">\n      <th></th>\n      <th>Make</th>\n      <th>Model</th>\n      <th>Type</th>\n      <th>Origin</th>\n      <th>DriveTrain</th>\n      <th>MSRP</th>\n      <th>Invoice</th>\n      <th>Engine Size</th>\n      <th>Cylinders</th>\n      <th>Horsepower</th>\n      <th>MPG</th>\n      <th>Wheelbase</th>\n      <th>Length</th>\n    </tr>\n  </thead>\n  <tbody>\n    <tr>\n      <th>0</th>\n      <td>Acura</td>\n      <td>MDX</td>\n      <td>SUV</td>\n      <td>Asia</td>\n      <td>All</td>\n      <td>36945</td>\n      <td>33337</td>\n      <td>3.5</td>\n      <td>6</td>\n      <td>4451</td>\n      <td>17</td>\n      <td>106</td>\n      <td>189</td>\n    </tr>\n    <tr>\n      <th>1</th>\n      <td>Acura</td>\n      <td>RSX</td>\n      <td>Sedan</td>\n      <td>Asia</td>\n      <td>Front</td>\n      <td>2380</td>\n      <td>21761</td>\n      <td>2.0</td>\n      <td>4</td>\n      <td>2778</td>\n      <td>24</td>\n      <td>101</td>\n      <td>172</td>\n    </tr>\n    <tr>\n      <th>2</th>\n      <td>Acura</td>\n      <td>TSX</td>\n      <td>Sedan</td>\n      <td>Asia</td>\n      <td>Front</td>\n      <td>26990</td>\n      <td>24647</td>\n      <td>2.4</td>\n      <td>4</td>\n      <td>3230</td>\n      <td>22</td>\n      <td>105</td>\n      <td>183</td>\n    </tr>\n  </tbody>\n</table>\n</div>",
            "text/plain": "    Make Model   Type Origin DriveTrain   MSRP  Invoice  Engine Size  \\\n0  Acura   MDX    SUV   Asia        All  36945    33337          3.5   \n1  Acura   RSX  Sedan   Asia      Front   2380    21761          2.0   \n2  Acura   TSX  Sedan   Asia      Front  26990    24647          2.4   \n\n   Cylinders  Horsepower  MPG  Wheelbase  Length  \n0          6        4451   17        106     189  \n1          4        2778   24        101     172  \n2          4        3230   22        105     183  "
          },
          "metadata": {}
        }
      ]
    },
    {
      "metadata": {
        "trusted": true
      },
      "cell_type": "code",
      "source": "",
      "execution_count": null,
      "outputs": []
    }
  ],
  "metadata": {
    "kernelspec": {
      "name": "python36",
      "display_name": "Python 3.6",
      "language": "python"
    },
    "language_info": {
      "mimetype": "text/x-python",
      "nbconvert_exporter": "python",
      "name": "python",
      "pygments_lexer": "ipython3",
      "version": "3.6.6",
      "file_extension": ".py",
      "codemirror_mode": {
        "version": 3,
        "name": "ipython"
      }
    }
  },
  "nbformat": 4,
  "nbformat_minor": 2
}