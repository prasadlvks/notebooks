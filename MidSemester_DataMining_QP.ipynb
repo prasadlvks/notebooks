{
  "cells": [
    {
      "metadata": {
        "trusted": true
      },
      "cell_type": "code",
      "source": "import numpy as np",
      "execution_count": 6,
      "outputs": []
    },
    {
      "metadata": {
        "trusted": true
      },
      "cell_type": "code",
      "source": "",
      "execution_count": null,
      "outputs": []
    },
    {
      "metadata": {
        "trusted": true
      },
      "cell_type": "code",
      "source": "",
      "execution_count": null,
      "outputs": []
    },
    {
      "metadata": {
        "trusted": true
      },
      "cell_type": "code",
      "source": "",
      "execution_count": null,
      "outputs": []
    },
    {
      "metadata": {
        "trusted": true
      },
      "cell_type": "code",
      "source": "from sklearn.linear_model import LinearRegression",
      "execution_count": 2,
      "outputs": []
    },
    {
      "metadata": {
        "trusted": true
      },
      "cell_type": "code",
      "source": "x=np.array([[2005,2006,2007,2008,2009]])\ny=np.array([[12,19,29,37,45]])\nx",
      "execution_count": 7,
      "outputs": [
        {
          "output_type": "execute_result",
          "execution_count": 7,
          "data": {
            "text/plain": "array([[2005, 2006, 2007, 2008, 2009]])"
          },
          "metadata": {}
        }
      ]
    },
    {
      "metadata": {
        "trusted": true
      },
      "cell_type": "code",
      "source": "linreg = LinearRegression()",
      "execution_count": 8,
      "outputs": []
    },
    {
      "metadata": {
        "trusted": true
      },
      "cell_type": "code",
      "source": "linreg.fit(x, y)",
      "execution_count": 9,
      "outputs": [
        {
          "output_type": "execute_result",
          "execution_count": 9,
          "data": {
            "text/plain": "LinearRegression(copy_X=True, fit_intercept=True, n_jobs=None,\n         normalize=False)"
          },
          "metadata": {}
        }
      ]
    },
    {
      "metadata": {
        "trusted": true
      },
      "cell_type": "code",
      "source": "linreg._int",
      "execution_count": null,
      "outputs": []
    },
    {
      "metadata": {
        "trusted": true
      },
      "cell_type": "code",
      "source": "y_pred=linreg.predict(np.array([[2012]])\ny_pred",
      "execution_count": 10,
      "outputs": [
        {
          "output_type": "error",
          "ename": "SyntaxError",
          "evalue": "invalid syntax (<ipython-input-10-ed433584a50d>, line 2)",
          "traceback": [
            "\u001b[0;36m  File \u001b[0;32m\"<ipython-input-10-ed433584a50d>\"\u001b[0;36m, line \u001b[0;32m2\u001b[0m\n\u001b[0;31m    y_pred\u001b[0m\n\u001b[0m         ^\u001b[0m\n\u001b[0;31mSyntaxError\u001b[0m\u001b[0;31m:\u001b[0m invalid syntax\n"
          ]
        }
      ]
    },
    {
      "metadata": {},
      "cell_type": "markdown",
      "source": "Question 4 \n\nBigBasket saw the following transactions from its customers and based on it they wish to identify possible cases of bundle pricing. \n\nTransaction1: Apple, Banana, Basil, Kiwi, Watermelon, Orange  \nTransaction2: Grapes, Bananas, Basil, Kiwi, Watermelon, Orange  \nTransaction3: Apple, Jackfruit, Orange, Kiwi  \nTransaction4: Apple, Tiramisu, Pears, Orange, Watermelon  \nTransaction5: Pears, Bananas, Orange, Kiwi  \n\n1) Explain, how apriori property helps in optimizing the computation efforts while mining for frequent itemsets? "
    },
    {
      "metadata": {},
      "cell_type": "markdown",
      "source": ""
    },
    {
      "metadata": {},
      "cell_type": "markdown",
      "source": "2) Given the minimum support of 3, apply Apriori algorithm for generating all the frequent itemsets.  "
    },
    {
      "metadata": {
        "trusted": true
      },
      "cell_type": "code",
      "source": "from apyori import apriori\nimport numpy as np\nimport pandas as pd",
      "execution_count": 5,
      "outputs": [
        {
          "output_type": "error",
          "ename": "ModuleNotFoundError",
          "evalue": "No module named 'apyori'",
          "traceback": [
            "\u001b[0;31m---------------------------------------------------------------------------\u001b[0m",
            "\u001b[0;31mModuleNotFoundError\u001b[0m                       Traceback (most recent call last)",
            "\u001b[0;32m<ipython-input-5-fefc0ba4aa03>\u001b[0m in \u001b[0;36m<module>\u001b[0;34m\u001b[0m\n\u001b[0;32m----> 1\u001b[0;31m \u001b[0;32mfrom\u001b[0m \u001b[0mapyori\u001b[0m \u001b[0;32mimport\u001b[0m \u001b[0mapriori\u001b[0m\u001b[0;34m\u001b[0m\u001b[0m\n\u001b[0m\u001b[1;32m      2\u001b[0m \u001b[0;32mimport\u001b[0m \u001b[0mnumpy\u001b[0m \u001b[0;32mas\u001b[0m \u001b[0mnp\u001b[0m\u001b[0;34m\u001b[0m\u001b[0m\n\u001b[1;32m      3\u001b[0m \u001b[0;32mimport\u001b[0m \u001b[0mpandas\u001b[0m \u001b[0;32mas\u001b[0m \u001b[0mpd\u001b[0m\u001b[0;34m\u001b[0m\u001b[0m\n",
            "\u001b[0;31mModuleNotFoundError\u001b[0m: No module named 'apyori'"
          ]
        }
      ]
    },
    {
      "metadata": {
        "trusted": true
      },
      "cell_type": "code",
      "source": "records = [['Apple', 'Banana', 'Basil', 'Kiwi', 'Watermelon', 'Orange'],\n           ['Grapes', 'Bananas', 'Basil', 'Kiwi', 'Watermelon','Orange'],\n           ['Apple', 'Jackfruit', 'Orange', 'Kiwi','NaN','NaN'],\n           ['Apple', 'Tiramisu', 'Pears', 'Orange', 'Watermelon','NaN'],\n           ['Apple', 'Tiramisu', 'Pears', 'Orange', 'Watermelon','NaN'],\n           ['Pears', 'Bananas', 'Orange','Kiwi','NaN','NaN']]\nrecords[0]",
      "execution_count": 52,
      "outputs": [
        {
          "output_type": "execute_result",
          "execution_count": 52,
          "data": {
            "text/plain": "['Apple', 'Banana', 'Basil', 'Kiwi', 'Watermelon', 'Orange']"
          },
          "metadata": {}
        }
      ]
    },
    {
      "metadata": {
        "trusted": true
      },
      "cell_type": "code",
      "source": "association_rules = apriori(records, min_support=0.5, min_confidence=0.7, min_lift=1.2, min_length=2)\nlist(association_rules)",
      "execution_count": 53,
      "outputs": [
        {
          "output_type": "execute_result",
          "execution_count": 53,
          "data": {
            "text/plain": "[RelationRecord(items=frozenset({'NaN', 'Pears'}), support=0.5, ordered_statistics=[OrderedStatistic(items_base=frozenset({'NaN'}), items_add=frozenset({'Pears'}), confidence=0.75, lift=1.5), OrderedStatistic(items_base=frozenset({'Pears'}), items_add=frozenset({'NaN'}), confidence=1.0, lift=1.5)]),\n RelationRecord(items=frozenset({'NaN', 'Pears', 'Orange'}), support=0.5, ordered_statistics=[OrderedStatistic(items_base=frozenset({'NaN'}), items_add=frozenset({'Pears', 'Orange'}), confidence=0.75, lift=1.5), OrderedStatistic(items_base=frozenset({'Pears'}), items_add=frozenset({'NaN', 'Orange'}), confidence=1.0, lift=1.5), OrderedStatistic(items_base=frozenset({'NaN', 'Orange'}), items_add=frozenset({'Pears'}), confidence=0.75, lift=1.5), OrderedStatistic(items_base=frozenset({'Pears', 'Orange'}), items_add=frozenset({'NaN'}), confidence=1.0, lift=1.5)])]"
          },
          "metadata": {}
        }
      ]
    },
    {
      "metadata": {},
      "cell_type": "markdown",
      "source": "3)  Considering the minimum confidence threshold as 80%, Identify the Association Rules from the frequent itemsets generated in 2) above. "
    },
    {
      "metadata": {
        "trusted": true
      },
      "cell_type": "code",
      "source": "association_rules = apriori(records, min_support=0.5, min_confidence=0.8, min_lift=1.2, min_length=2)\nlist(association_rules)",
      "execution_count": 42,
      "outputs": [
        {
          "output_type": "execute_result",
          "execution_count": 42,
          "data": {
            "text/plain": "[]"
          },
          "metadata": {}
        }
      ]
    },
    {
      "metadata": {},
      "cell_type": "markdown",
      "source": "Question 4A\n\nA shop on a railway platform captured the following five transactions. Answer the following questions, given that support threshold is 40% and confidence threshold is 80%:                          \n\nT1: Binoculars ,Umbrella, Juice   \nT2: Binoculars, Umbrella, Juice, Snacks \nT3: Umbrella, Juice    \nT4: Binoculars, Juice, Snacks  \nT5: Snacks              "
    },
    {
      "metadata": {},
      "cell_type": "markdown",
      "source": "1) Find all frequent itemsets using Apriori Algorithm. "
    },
    {
      "metadata": {
        "trusted": true
      },
      "cell_type": "code",
      "source": "records = [['Binoculars' ,'Umbrella', 'Juice','NaN'],\n           ['Binoculars', 'Umbrella', 'Juice', 'Snacks'],\n           ['Umbrella', 'Juice','NaN','NaN'],\n           ['Binoculars', 'Juice', 'Snacks','NaN'],\n           ['Snacks','NaN','NaN','NaN']]",
      "execution_count": 54,
      "outputs": []
    },
    {
      "metadata": {
        "trusted": true
      },
      "cell_type": "code",
      "source": "association_rules = apriori(records, min_support=0.4, min_confidence=0.8)\nlist(association_rules)",
      "execution_count": 55,
      "outputs": [
        {
          "output_type": "execute_result",
          "execution_count": 55,
          "data": {
            "text/plain": "[RelationRecord(items=frozenset({'Juice'}), support=0.8, ordered_statistics=[OrderedStatistic(items_base=frozenset(), items_add=frozenset({'Juice'}), confidence=0.8, lift=1.0)]),\n RelationRecord(items=frozenset({'NaN'}), support=0.8, ordered_statistics=[OrderedStatistic(items_base=frozenset(), items_add=frozenset({'NaN'}), confidence=0.8, lift=1.0)]),\n RelationRecord(items=frozenset({'Binoculars', 'Juice'}), support=0.6, ordered_statistics=[OrderedStatistic(items_base=frozenset({'Binoculars'}), items_add=frozenset({'Juice'}), confidence=1.0, lift=1.25)]),\n RelationRecord(items=frozenset({'Umbrella', 'Juice'}), support=0.6, ordered_statistics=[OrderedStatistic(items_base=frozenset({'Umbrella'}), items_add=frozenset({'Juice'}), confidence=1.0, lift=1.25)]),\n RelationRecord(items=frozenset({'NaN', 'Binoculars', 'Juice'}), support=0.4, ordered_statistics=[OrderedStatistic(items_base=frozenset({'NaN', 'Binoculars'}), items_add=frozenset({'Juice'}), confidence=1.0, lift=1.25)]),\n RelationRecord(items=frozenset({'Snacks', 'Binoculars', 'Juice'}), support=0.4, ordered_statistics=[OrderedStatistic(items_base=frozenset({'Snacks', 'Binoculars'}), items_add=frozenset({'Juice'}), confidence=1.0, lift=1.25), OrderedStatistic(items_base=frozenset({'Snacks', 'Juice'}), items_add=frozenset({'Binoculars'}), confidence=1.0, lift=1.6666666666666667)]),\n RelationRecord(items=frozenset({'Umbrella', 'Binoculars', 'Juice'}), support=0.4, ordered_statistics=[OrderedStatistic(items_base=frozenset({'Umbrella', 'Binoculars'}), items_add=frozenset({'Juice'}), confidence=1.0, lift=1.25)]),\n RelationRecord(items=frozenset({'NaN', 'Umbrella', 'Juice'}), support=0.4, ordered_statistics=[OrderedStatistic(items_base=frozenset({'NaN', 'Umbrella'}), items_add=frozenset({'Juice'}), confidence=1.0, lift=1.25)])]"
          },
          "metadata": {}
        }
      ]
    },
    {
      "metadata": {},
      "cell_type": "markdown",
      "source": "2) Find all Closed Frequent and Maximal Frequent itemsets. "
    },
    {
      "metadata": {
        "trusted": true
      },
      "cell_type": "code",
      "source": "{'Binoculars', 'Juice'}\n{'Snacks', 'Juice'}",
      "execution_count": null,
      "outputs": []
    },
    {
      "metadata": {},
      "cell_type": "markdown",
      "source": "3) If two association rules mined from the given dataset are (i) {Juice, Snacks} → {Binoculars} (ii) {Binoculars, Juice} → {Umbrella}. Which one will you select and why?"
    },
    {
      "metadata": {
        "trusted": true
      },
      "cell_type": "code",
      "source": "{Binoculars, Juice} combination has 60% of people.",
      "execution_count": null,
      "outputs": []
    },
    {
      "metadata": {
        "trusted": true
      },
      "cell_type": "code",
      "source": "",
      "execution_count": null,
      "outputs": []
    }
  ],
  "metadata": {
    "kernelspec": {
      "name": "python36",
      "display_name": "Python 3.6",
      "language": "python"
    },
    "language_info": {
      "mimetype": "text/x-python",
      "nbconvert_exporter": "python",
      "name": "python",
      "pygments_lexer": "ipython3",
      "version": "3.6.6",
      "file_extension": ".py",
      "codemirror_mode": {
        "version": 3,
        "name": "ipython"
      }
    }
  },
  "nbformat": 4,
  "nbformat_minor": 2
}