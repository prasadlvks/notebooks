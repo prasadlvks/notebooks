{
  "cells": [
    {
      "metadata": {
        "trusted": true
      },
      "cell_type": "code",
      "source": "import pandas as pd\nimport matplotlib.pyplot as plt\nimport seaborn as sn",
      "execution_count": 2,
      "outputs": []
    },
    {
      "metadata": {
        "trusted": true
      },
      "cell_type": "code",
      "source": "customers_df = pd.read_csv('Income Data.csv')\ncustomers_df[0:8]",
      "execution_count": 5,
      "outputs": [
        {
          "output_type": "execute_result",
          "execution_count": 5,
          "data": {
            "text/html": "<div>\n<style scoped>\n    .dataframe tbody tr th:only-of-type {\n        vertical-align: middle;\n    }\n\n    .dataframe tbody tr th {\n        vertical-align: top;\n    }\n\n    .dataframe thead th {\n        text-align: right;\n    }\n</style>\n<table border=\"1\" class=\"dataframe\">\n  <thead>\n    <tr style=\"text-align: right;\">\n      <th></th>\n      <th>income</th>\n      <th>age</th>\n    </tr>\n  </thead>\n  <tbody>\n    <tr>\n      <th>0</th>\n      <td>41100.0</td>\n      <td>48.75</td>\n    </tr>\n    <tr>\n      <th>1</th>\n      <td>54100.0</td>\n      <td>28.10</td>\n    </tr>\n    <tr>\n      <th>2</th>\n      <td>47800.0</td>\n      <td>46.75</td>\n    </tr>\n    <tr>\n      <th>3</th>\n      <td>19100.0</td>\n      <td>40.25</td>\n    </tr>\n    <tr>\n      <th>4</th>\n      <td>18200.0</td>\n      <td>35.80</td>\n    </tr>\n    <tr>\n      <th>5</th>\n      <td>19800.0</td>\n      <td>41.45</td>\n    </tr>\n    <tr>\n      <th>6</th>\n      <td>51500.0</td>\n      <td>31.55</td>\n    </tr>\n    <tr>\n      <th>7</th>\n      <td>39900.0</td>\n      <td>48.20</td>\n    </tr>\n  </tbody>\n</table>\n</div>",
            "text/plain": "    income    age\n0  41100.0  48.75\n1  54100.0  28.10\n2  47800.0  46.75\n3  19100.0  40.25\n4  18200.0  35.80\n5  19800.0  41.45\n6  51500.0  31.55\n7  39900.0  48.20"
          },
          "metadata": {}
        }
      ]
    },
    {
      "metadata": {
        "trusted": true
      },
      "cell_type": "code",
      "source": "from sklearn.cluster import KMeans",
      "execution_count": 1,
      "outputs": []
    },
    {
      "metadata": {
        "trusted": true
      },
      "cell_type": "code",
      "source": "clusters = KMeans(3)\nclusters.fit(customers_df)",
      "execution_count": 4,
      "outputs": [
        {
          "output_type": "execute_result",
          "execution_count": 4,
          "data": {
            "text/plain": "KMeans(algorithm='auto', copy_x=True, init='k-means++', max_iter=300,\n    n_clusters=3, n_init=10, n_jobs=None, precompute_distances='auto',\n    random_state=None, tol=0.0001, verbose=0)"
          },
          "metadata": {}
        }
      ]
    },
    {
      "metadata": {
        "trusted": true
      },
      "cell_type": "code",
      "source": "customers_df['clusterid'] = clusters.labels_",
      "execution_count": 10,
      "outputs": []
    },
    {
      "metadata": {
        "trusted": true
      },
      "cell_type": "code",
      "source": "sn.lmplot(x='age',y='income', data=customers_df, fit_reg=False, hue='clusterid', markers=['+','^','.'])",
      "execution_count": 11,
      "outputs": [
        {
          "output_type": "execute_result",
          "execution_count": 11,
          "data": {
            "text/plain": "<seaborn.axisgrid.FacetGrid at 0x7f0528e73c18>"
          },
          "metadata": {}
        },
        {
          "output_type": "display_data",
          "data": {
            "image/png": "[encoded data removed]",
            "text/plain": "<Figure size 411.375x360 with 1 Axes>"
          },
          "metadata": {
            "needs_background": "light"
          }
        }
      ]
    },
    {
      "metadata": {
        "trusted": true
      },
      "cell_type": "code",
      "source": "",
      "execution_count": null,
      "outputs": []
    }
  ],
  "metadata": {
    "kernelspec": {
      "name": "python36",
      "display_name": "Python 3.6",
      "language": "python"
    },
    "language_info": {
      "mimetype": "text/x-python",
      "nbconvert_exporter": "python",
      "name": "python",
      "pygments_lexer": "ipython3",
      "version": "3.6.6",
      "file_extension": ".py",
      "codemirror_mode": {
        "version": 3,
        "name": "ipython"
      }
    }
  },
  "nbformat": 4,
  "nbformat_minor": 2
}