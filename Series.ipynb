{
  "cells": [
    {
      "metadata": {
        "trusted": true
      },
      "cell_type": "code",
      "source": "import pandas as pd \ncountries_population = {\"Italy\": 59000000, \"France\": 65000000,\n                        \"Malta\": 434000, \"Maldives\": 434000,\n                        \"Brunei\": 434000, \"Iceland\": 337000,\n                        \"Nauru\": 11300, \"Tuvalu\": 11300,\n                        \"Anguilla\": 11300, \"Monserat\": 5200}\ns = pd.Series(countries_population)\ns",
      "execution_count": 1,
      "outputs": [
        {
          "output_type": "execute_result",
          "execution_count": 1,
          "data": {
            "text/plain": "Italy       59000000\nFrance      65000000\nMalta         434000\nMaldives      434000\nBrunei        434000\nIceland       337000\nNauru          11300\nTuvalu         11300\nAnguilla       11300\nMonserat        5200\ndtype: int64"
          },
          "metadata": {}
        }
      ]
    },
    {
      "metadata": {
        "trusted": true
      },
      "cell_type": "code",
      "source": "s.nlargest()",
      "execution_count": 2,
      "outputs": [
        {
          "output_type": "execute_result",
          "execution_count": 2,
          "data": {
            "text/plain": "France      65000000\nItaly       59000000\nMalta         434000\nMaldives      434000\nBrunei        434000\ndtype: int64"
          },
          "metadata": {}
        }
      ]
    },
    {
      "metadata": {
        "trusted": true
      },
      "cell_type": "code",
      "source": "s.nlargest(2)",
      "execution_count": 3,
      "outputs": [
        {
          "output_type": "execute_result",
          "execution_count": 3,
          "data": {
            "text/plain": "France    65000000\nItaly     59000000\ndtype: int64"
          },
          "metadata": {}
        }
      ]
    },
    {
      "metadata": {
        "trusted": true
      },
      "cell_type": "code",
      "source": "import pandas as pd \npopulation = {\"Italy\": 59000000, \"India\": 65000000,\n                        \"India\": 434000, \"India\": 434000,\n                        \"Italy\": 434000, \"Iceland\": 337000,\n                        \"Nauru\": 11300, \"Italy\": 11300,\n                        \"Iceland\": 11300, \"Iceland\": 5200}\nser = pd.Series(population)\nser",
      "execution_count": 6,
      "outputs": [
        {
          "output_type": "execute_result",
          "execution_count": 6,
          "data": {
            "text/plain": "Italy       11300\nIndia      434000\nIceland      5200\nNauru       11300\ndtype: int64"
          },
          "metadata": {}
        }
      ]
    },
    {
      "metadata": {
        "trusted": true
      },
      "cell_type": "code",
      "source": "import pandas as pd \npopulation = {\"Country\":[\"Italy\",\"India\",\"India\",\"India\",\"Italy\",\"Iceland\"]59000000,65000000,434000,434000,434000, : 337000,\n                        \"Nauru\": 11300, \"Italy\": 11300,\n                        \"Iceland\": 11300, \"Iceland\": 5200}\nser = pd.DataFrame(population)\nser",
      "execution_count": null,
      "outputs": []
    },
    {
      "metadata": {
        "trusted": true
      },
      "cell_type": "code",
      "source": "",
      "execution_count": null,
      "outputs": []
    }
  ],
  "metadata": {
    "kernelspec": {
      "name": "python36",
      "display_name": "Python 3.6",
      "language": "python"
    },
    "language_info": {
      "mimetype": "text/x-python",
      "nbconvert_exporter": "python",
      "name": "python",
      "pygments_lexer": "ipython3",
      "version": "3.6.6",
      "file_extension": ".py",
      "codemirror_mode": {
        "version": 3,
        "name": "ipython"
      }
    }
  },
  "nbformat": 4,
  "nbformat_minor": 2
}