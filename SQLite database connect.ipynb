{
  "cells": [
    {
      "metadata": {
        "trusted": true
      },
      "cell_type": "code",
      "source": "import pandas as pd\nfrom sqlalchemy import create_engine",
      "execution_count": 1,
      "outputs": []
    },
    {
      "metadata": {
        "trusted": true
      },
      "cell_type": "code",
      "source": "engine = create_engine('sqlite:///db.sqlite3')",
      "execution_count": 2,
      "outputs": []
    },
    {
      "metadata": {
        "trusted": true
      },
      "cell_type": "code",
      "source": "tables = engine.table_names()\ntables",
      "execution_count": 3,
      "outputs": [
        {
          "output_type": "execute_result",
          "execution_count": 3,
          "data": {
            "text/plain": "['auth_group',\n 'auth_group_permissions',\n 'auth_permission',\n 'auth_user',\n 'auth_user_groups',\n 'auth_user_user_permissions',\n 'collage_notice',\n 'collage_student',\n 'django_admin_log',\n 'django_content_type',\n 'django_migrations',\n 'django_session',\n 'sqlite_sequence']"
          },
          "metadata": {}
        }
      ]
    },
    {
      "metadata": {
        "trusted": true
      },
      "cell_type": "code",
      "source": "con = engine.connect()\ncon",
      "execution_count": 5,
      "outputs": [
        {
          "output_type": "execute_result",
          "execution_count": 5,
          "data": {
            "text/plain": "<sqlalchemy.engine.base.Connection at 0x7f1ad85ac7f0>"
          },
          "metadata": {}
        }
      ]
    },
    {
      "metadata": {
        "trusted": true
      },
      "cell_type": "code",
      "source": "result = con.execute('select * from auth_user')\nresult",
      "execution_count": 6,
      "outputs": [
        {
          "output_type": "execute_result",
          "execution_count": 6,
          "data": {
            "text/plain": "<sqlalchemy.engine.result.ResultProxy at 0x7f1ad8576400>"
          },
          "metadata": {}
        }
      ]
    },
    {
      "metadata": {
        "trusted": true
      },
      "cell_type": "code",
      "source": "df = pd.DataFrame(result.fetchall(),columns=result.keys())\ndf",
      "execution_count": 7,
      "outputs": [
        {
          "output_type": "execute_result",
          "execution_count": 7,
          "data": {
            "text/html": "<div>\n<style scoped>\n    .dataframe tbody tr th:only-of-type {\n        vertical-align: middle;\n    }\n\n    .dataframe tbody tr th {\n        vertical-align: top;\n    }\n\n    .dataframe thead th {\n        text-align: right;\n    }\n</style>\n<table border=\"1\" class=\"dataframe\">\n  <thead>\n    <tr style=\"text-align: right;\">\n      <th></th>\n      <th>id</th>\n      <th>password</th>\n      <th>last_login</th>\n      <th>is_superuser</th>\n      <th>username</th>\n      <th>first_name</th>\n      <th>email</th>\n      <th>is_staff</th>\n      <th>is_active</th>\n      <th>date_joined</th>\n      <th>last_name</th>\n    </tr>\n  </thead>\n  <tbody>\n    <tr>\n      <th>0</th>\n      <td>1</td>\n      <td>pbkdf2_sha256$180000$7qvlfC4ykqHI$j/xQRcTvvOOx...</td>\n      <td>2019-12-30 16:26:05.381341</td>\n      <td>1</td>\n      <td>v-prlakk</td>\n      <td></td>\n      <td>prasadlvks@gmail.com</td>\n      <td>1</td>\n      <td>1</td>\n      <td>2019-12-30 16:24:39.095904</td>\n      <td></td>\n    </tr>\n  </tbody>\n</table>\n</div>",
            "text/plain": "   id                                           password  \\\n0   1  pbkdf2_sha256$180000$7qvlfC4ykqHI$j/xQRcTvvOOx...   \n\n                   last_login  is_superuser  username first_name  \\\n0  2019-12-30 16:26:05.381341             1  v-prlakk              \n\n                  email  is_staff  is_active                 date_joined  \\\n0  prasadlvks@gmail.com         1          1  2019-12-30 16:24:39.095904   \n\n  last_name  \n0            "
          },
          "metadata": {}
        }
      ]
    },
    {
      "metadata": {
        "trusted": true
      },
      "cell_type": "code",
      "source": "",
      "execution_count": null,
      "outputs": []
    }
  ],
  "metadata": {
    "kernelspec": {
      "name": "python36",
      "display_name": "Python 3.6",
      "language": "python"
    },
    "language_info": {
      "mimetype": "text/x-python",
      "nbconvert_exporter": "python",
      "name": "python",
      "pygments_lexer": "ipython3",
      "version": "3.6.6",
      "file_extension": ".py",
      "codemirror_mode": {
        "version": 3,
        "name": "ipython"
      }
    }
  },
  "nbformat": 4,
  "nbformat_minor": 2
}