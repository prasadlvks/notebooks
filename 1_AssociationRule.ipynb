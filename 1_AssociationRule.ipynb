{
  "cells": [
    {
      "metadata": {
        "trusted": true
      },
      "cell_type": "code",
      "source": "!pip install mlxtend",
      "execution_count": null,
      "outputs": []
    },
    {
      "metadata": {
        "trusted": true
      },
      "cell_type": "code",
      "source": "from mlxtend.frequent_patterns import apriori, association_rules\nimport numpy as np\nimport pandas as pd",
      "execution_count": 16,
      "outputs": []
    },
    {
      "metadata": {
        "trusted": true
      },
      "cell_type": "code",
      "source": "data = pd.read_excel('Day1.xlsx')",
      "execution_count": 6,
      "outputs": []
    },
    {
      "metadata": {
        "trusted": true
      },
      "cell_type": "code",
      "source": "data",
      "execution_count": 7,
      "outputs": [
        {
          "output_type": "execute_result",
          "execution_count": 7,
          "data": {
            "text/html": "<div>\n<style scoped>\n    .dataframe tbody tr th:only-of-type {\n        vertical-align: middle;\n    }\n\n    .dataframe tbody tr th {\n        vertical-align: top;\n    }\n\n    .dataframe thead th {\n        text-align: right;\n    }\n</style>\n<table border=\"1\" class=\"dataframe\">\n  <thead>\n    <tr style=\"text-align: right;\">\n      <th></th>\n      <th>0</th>\n      <th>1</th>\n      <th>2</th>\n      <th>3</th>\n      <th>4</th>\n      <th>5</th>\n    </tr>\n  </thead>\n  <tbody>\n    <tr>\n      <th>0</th>\n      <td>Wine</td>\n      <td>Chips</td>\n      <td>Bread</td>\n      <td>Butter</td>\n      <td>Milk</td>\n      <td>Apple</td>\n    </tr>\n    <tr>\n      <th>1</th>\n      <td>Wine</td>\n      <td>NaN</td>\n      <td>Bread</td>\n      <td>Butter</td>\n      <td>Milk</td>\n      <td>NaN</td>\n    </tr>\n    <tr>\n      <th>2</th>\n      <td>NaN</td>\n      <td>NaN</td>\n      <td>Bread</td>\n      <td>Butter</td>\n      <td>Milk</td>\n      <td>NaN</td>\n    </tr>\n    <tr>\n      <th>3</th>\n      <td>NaN</td>\n      <td>Chips</td>\n      <td>NaN</td>\n      <td>NaN</td>\n      <td>NaN</td>\n      <td>Apple</td>\n    </tr>\n    <tr>\n      <th>4</th>\n      <td>Wine</td>\n      <td>Chips</td>\n      <td>Bread</td>\n      <td>Butter</td>\n      <td>Milk</td>\n      <td>Apple</td>\n    </tr>\n    <tr>\n      <th>5</th>\n      <td>Wine</td>\n      <td>Chips</td>\n      <td>NaN</td>\n      <td>NaN</td>\n      <td>Milk</td>\n      <td>NaN</td>\n    </tr>\n    <tr>\n      <th>6</th>\n      <td>Wine</td>\n      <td>Chips</td>\n      <td>Bread</td>\n      <td>Butter</td>\n      <td>NaN</td>\n      <td>Apple</td>\n    </tr>\n    <tr>\n      <th>7</th>\n      <td>Wine</td>\n      <td>Chips</td>\n      <td>NaN</td>\n      <td>NaN</td>\n      <td>Milk</td>\n      <td>NaN</td>\n    </tr>\n    <tr>\n      <th>8</th>\n      <td>Wine</td>\n      <td>NaN</td>\n      <td>Bread</td>\n      <td>NaN</td>\n      <td>NaN</td>\n      <td>Apple</td>\n    </tr>\n    <tr>\n      <th>9</th>\n      <td>Wine</td>\n      <td>NaN</td>\n      <td>Bread</td>\n      <td>Butter</td>\n      <td>Milk</td>\n      <td>NaN</td>\n    </tr>\n    <tr>\n      <th>10</th>\n      <td>NaN</td>\n      <td>Chips</td>\n      <td>Bread</td>\n      <td>Butter</td>\n      <td>NaN</td>\n      <td>Apple</td>\n    </tr>\n    <tr>\n      <th>11</th>\n      <td>Wine</td>\n      <td>NaN</td>\n      <td>NaN</td>\n      <td>Butter</td>\n      <td>Milk</td>\n      <td>Apple</td>\n    </tr>\n    <tr>\n      <th>12</th>\n      <td>Wine</td>\n      <td>Chips</td>\n      <td>Bread</td>\n      <td>Butter</td>\n      <td>Milk</td>\n      <td>NaN</td>\n    </tr>\n    <tr>\n      <th>13</th>\n      <td>Wine</td>\n      <td>NaN</td>\n      <td>Bread</td>\n      <td>NaN</td>\n      <td>Milk</td>\n      <td>Apple</td>\n    </tr>\n    <tr>\n      <th>14</th>\n      <td>Wine</td>\n      <td>NaN</td>\n      <td>Bread</td>\n      <td>Butter</td>\n      <td>Milk</td>\n      <td>Apple</td>\n    </tr>\n    <tr>\n      <th>15</th>\n      <td>Wine</td>\n      <td>Chips</td>\n      <td>Bread</td>\n      <td>Butter</td>\n      <td>Milk</td>\n      <td>Apple</td>\n    </tr>\n    <tr>\n      <th>16</th>\n      <td>NaN</td>\n      <td>Chips</td>\n      <td>Bread</td>\n      <td>Butter</td>\n      <td>Milk</td>\n      <td>Apple</td>\n    </tr>\n    <tr>\n      <th>17</th>\n      <td>NaN</td>\n      <td>Chips</td>\n      <td>NaN</td>\n      <td>Butter</td>\n      <td>Milk</td>\n      <td>Apple</td>\n    </tr>\n    <tr>\n      <th>18</th>\n      <td>Wine</td>\n      <td>Chips</td>\n      <td>Bread</td>\n      <td>Butter</td>\n      <td>Milk</td>\n      <td>Apple</td>\n    </tr>\n    <tr>\n      <th>19</th>\n      <td>Wine</td>\n      <td>NaN</td>\n      <td>Bread</td>\n      <td>Butter</td>\n      <td>Milk</td>\n      <td>Apple</td>\n    </tr>\n    <tr>\n      <th>20</th>\n      <td>Wine</td>\n      <td>Chips</td>\n      <td>Bread</td>\n      <td>NaN</td>\n      <td>Milk</td>\n      <td>Apple</td>\n    </tr>\n    <tr>\n      <th>21</th>\n      <td>NaN</td>\n      <td>Chips</td>\n      <td>NaN</td>\n      <td>NaN</td>\n      <td>NaN</td>\n      <td>NaN</td>\n    </tr>\n  </tbody>\n</table>\n</div>",
            "text/plain": "       0      1      2       3     4      5\n0   Wine  Chips  Bread  Butter  Milk  Apple\n1   Wine    NaN  Bread  Butter  Milk    NaN\n2    NaN    NaN  Bread  Butter  Milk    NaN\n3    NaN  Chips    NaN     NaN   NaN  Apple\n4   Wine  Chips  Bread  Butter  Milk  Apple\n5   Wine  Chips    NaN     NaN  Milk    NaN\n6   Wine  Chips  Bread  Butter   NaN  Apple\n7   Wine  Chips    NaN     NaN  Milk    NaN\n8   Wine    NaN  Bread     NaN   NaN  Apple\n9   Wine    NaN  Bread  Butter  Milk    NaN\n10   NaN  Chips  Bread  Butter   NaN  Apple\n11  Wine    NaN    NaN  Butter  Milk  Apple\n12  Wine  Chips  Bread  Butter  Milk    NaN\n13  Wine    NaN  Bread     NaN  Milk  Apple\n14  Wine    NaN  Bread  Butter  Milk  Apple\n15  Wine  Chips  Bread  Butter  Milk  Apple\n16   NaN  Chips  Bread  Butter  Milk  Apple\n17   NaN  Chips    NaN  Butter  Milk  Apple\n18  Wine  Chips  Bread  Butter  Milk  Apple\n19  Wine    NaN  Bread  Butter  Milk  Apple\n20  Wine  Chips  Bread     NaN  Milk  Apple\n21   NaN  Chips    NaN     NaN   NaN    NaN"
          },
          "metadata": {}
        }
      ]
    },
    {
      "metadata": {
        "trusted": true
      },
      "cell_type": "code",
      "source": "store_data = pd.get_dummies(data)",
      "execution_count": 8,
      "outputs": []
    },
    {
      "metadata": {
        "trusted": true
      },
      "cell_type": "code",
      "source": "store_data",
      "execution_count": 9,
      "outputs": [
        {
          "output_type": "execute_result",
          "execution_count": 9,
          "data": {
            "text/html": "<div>\n<style scoped>\n    .dataframe tbody tr th:only-of-type {\n        vertical-align: middle;\n    }\n\n    .dataframe tbody tr th {\n        vertical-align: top;\n    }\n\n    .dataframe thead th {\n        text-align: right;\n    }\n</style>\n<table border=\"1\" class=\"dataframe\">\n  <thead>\n    <tr style=\"text-align: right;\">\n      <th></th>\n      <th>0_Wine</th>\n      <th>1_Chips</th>\n      <th>2_Bread</th>\n      <th>3_Butter</th>\n      <th>4_Milk</th>\n      <th>5_Apple</th>\n    </tr>\n  </thead>\n  <tbody>\n    <tr>\n      <th>0</th>\n      <td>1</td>\n      <td>1</td>\n      <td>1</td>\n      <td>1</td>\n      <td>1</td>\n      <td>1</td>\n    </tr>\n    <tr>\n      <th>1</th>\n      <td>1</td>\n      <td>0</td>\n      <td>1</td>\n      <td>1</td>\n      <td>1</td>\n      <td>0</td>\n    </tr>\n    <tr>\n      <th>2</th>\n      <td>0</td>\n      <td>0</td>\n      <td>1</td>\n      <td>1</td>\n      <td>1</td>\n      <td>0</td>\n    </tr>\n    <tr>\n      <th>3</th>\n      <td>0</td>\n      <td>1</td>\n      <td>0</td>\n      <td>0</td>\n      <td>0</td>\n      <td>1</td>\n    </tr>\n    <tr>\n      <th>4</th>\n      <td>1</td>\n      <td>1</td>\n      <td>1</td>\n      <td>1</td>\n      <td>1</td>\n      <td>1</td>\n    </tr>\n    <tr>\n      <th>5</th>\n      <td>1</td>\n      <td>1</td>\n      <td>0</td>\n      <td>0</td>\n      <td>1</td>\n      <td>0</td>\n    </tr>\n    <tr>\n      <th>6</th>\n      <td>1</td>\n      <td>1</td>\n      <td>1</td>\n      <td>1</td>\n      <td>0</td>\n      <td>1</td>\n    </tr>\n    <tr>\n      <th>7</th>\n      <td>1</td>\n      <td>1</td>\n      <td>0</td>\n      <td>0</td>\n      <td>1</td>\n      <td>0</td>\n    </tr>\n    <tr>\n      <th>8</th>\n      <td>1</td>\n      <td>0</td>\n      <td>1</td>\n      <td>0</td>\n      <td>0</td>\n      <td>1</td>\n    </tr>\n    <tr>\n      <th>9</th>\n      <td>1</td>\n      <td>0</td>\n      <td>1</td>\n      <td>1</td>\n      <td>1</td>\n      <td>0</td>\n    </tr>\n    <tr>\n      <th>10</th>\n      <td>0</td>\n      <td>1</td>\n      <td>1</td>\n      <td>1</td>\n      <td>0</td>\n      <td>1</td>\n    </tr>\n    <tr>\n      <th>11</th>\n      <td>1</td>\n      <td>0</td>\n      <td>0</td>\n      <td>1</td>\n      <td>1</td>\n      <td>1</td>\n    </tr>\n    <tr>\n      <th>12</th>\n      <td>1</td>\n      <td>1</td>\n      <td>1</td>\n      <td>1</td>\n      <td>1</td>\n      <td>0</td>\n    </tr>\n    <tr>\n      <th>13</th>\n      <td>1</td>\n      <td>0</td>\n      <td>1</td>\n      <td>0</td>\n      <td>1</td>\n      <td>1</td>\n    </tr>\n    <tr>\n      <th>14</th>\n      <td>1</td>\n      <td>0</td>\n      <td>1</td>\n      <td>1</td>\n      <td>1</td>\n      <td>1</td>\n    </tr>\n    <tr>\n      <th>15</th>\n      <td>1</td>\n      <td>1</td>\n      <td>1</td>\n      <td>1</td>\n      <td>1</td>\n      <td>1</td>\n    </tr>\n    <tr>\n      <th>16</th>\n      <td>0</td>\n      <td>1</td>\n      <td>1</td>\n      <td>1</td>\n      <td>1</td>\n      <td>1</td>\n    </tr>\n    <tr>\n      <th>17</th>\n      <td>0</td>\n      <td>1</td>\n      <td>0</td>\n      <td>1</td>\n      <td>1</td>\n      <td>1</td>\n    </tr>\n    <tr>\n      <th>18</th>\n      <td>1</td>\n      <td>1</td>\n      <td>1</td>\n      <td>1</td>\n      <td>1</td>\n      <td>1</td>\n    </tr>\n    <tr>\n      <th>19</th>\n      <td>1</td>\n      <td>0</td>\n      <td>1</td>\n      <td>1</td>\n      <td>1</td>\n      <td>1</td>\n    </tr>\n    <tr>\n      <th>20</th>\n      <td>1</td>\n      <td>1</td>\n      <td>1</td>\n      <td>0</td>\n      <td>1</td>\n      <td>1</td>\n    </tr>\n    <tr>\n      <th>21</th>\n      <td>0</td>\n      <td>1</td>\n      <td>0</td>\n      <td>0</td>\n      <td>0</td>\n      <td>0</td>\n    </tr>\n  </tbody>\n</table>\n</div>",
            "text/plain": "    0_Wine  1_Chips  2_Bread  3_Butter  4_Milk  5_Apple\n0        1        1        1         1       1        1\n1        1        0        1         1       1        0\n2        0        0        1         1       1        0\n3        0        1        0         0       0        1\n4        1        1        1         1       1        1\n5        1        1        0         0       1        0\n6        1        1        1         1       0        1\n7        1        1        0         0       1        0\n8        1        0        1         0       0        1\n9        1        0        1         1       1        0\n10       0        1        1         1       0        1\n11       1        0        0         1       1        1\n12       1        1        1         1       1        0\n13       1        0        1         0       1        1\n14       1        0        1         1       1        1\n15       1        1        1         1       1        1\n16       0        1        1         1       1        1\n17       0        1        0         1       1        1\n18       1        1        1         1       1        1\n19       1        0        1         1       1        1\n20       1        1        1         0       1        1\n21       0        1        0         0       0        0"
          },
          "metadata": {}
        }
      ]
    },
    {
      "metadata": {
        "trusted": true
      },
      "cell_type": "code",
      "source": "association_rules = apriori?",
      "execution_count": 12,
      "outputs": []
    },
    {
      "metadata": {
        "trusted": true
      },
      "cell_type": "code",
      "source": "frequent_itemsets = apriori(store_data, min_support=0.50, max_len=2) ",
      "execution_count": 14,
      "outputs": []
    },
    {
      "metadata": {
        "trusted": true
      },
      "cell_type": "code",
      "source": "frequent_itemsets",
      "execution_count": 15,
      "outputs": [
        {
          "output_type": "execute_result",
          "execution_count": 15,
          "data": {
            "text/html": "<div>\n<style scoped>\n    .dataframe tbody tr th:only-of-type {\n        vertical-align: middle;\n    }\n\n    .dataframe tbody tr th {\n        vertical-align: top;\n    }\n\n    .dataframe thead th {\n        text-align: right;\n    }\n</style>\n<table border=\"1\" class=\"dataframe\">\n  <thead>\n    <tr style=\"text-align: right;\">\n      <th></th>\n      <th>support</th>\n      <th>itemsets</th>\n    </tr>\n  </thead>\n  <tbody>\n    <tr>\n      <th>0</th>\n      <td>0.727273</td>\n      <td>(0)</td>\n    </tr>\n    <tr>\n      <th>1</th>\n      <td>0.636364</td>\n      <td>(1)</td>\n    </tr>\n    <tr>\n      <th>2</th>\n      <td>0.727273</td>\n      <td>(2)</td>\n    </tr>\n    <tr>\n      <th>3</th>\n      <td>0.681818</td>\n      <td>(3)</td>\n    </tr>\n    <tr>\n      <th>4</th>\n      <td>0.772727</td>\n      <td>(4)</td>\n    </tr>\n    <tr>\n      <th>5</th>\n      <td>0.681818</td>\n      <td>(5)</td>\n    </tr>\n    <tr>\n      <th>6</th>\n      <td>0.590909</td>\n      <td>(0, 2)</td>\n    </tr>\n    <tr>\n      <th>7</th>\n      <td>0.500000</td>\n      <td>(0, 3)</td>\n    </tr>\n    <tr>\n      <th>8</th>\n      <td>0.636364</td>\n      <td>(0, 4)</td>\n    </tr>\n    <tr>\n      <th>9</th>\n      <td>0.500000</td>\n      <td>(0, 5)</td>\n    </tr>\n    <tr>\n      <th>10</th>\n      <td>0.590909</td>\n      <td>(2, 3)</td>\n    </tr>\n    <tr>\n      <th>11</th>\n      <td>0.590909</td>\n      <td>(2, 4)</td>\n    </tr>\n    <tr>\n      <th>12</th>\n      <td>0.545455</td>\n      <td>(2, 5)</td>\n    </tr>\n    <tr>\n      <th>13</th>\n      <td>0.590909</td>\n      <td>(3, 4)</td>\n    </tr>\n    <tr>\n      <th>14</th>\n      <td>0.500000</td>\n      <td>(3, 5)</td>\n    </tr>\n    <tr>\n      <th>15</th>\n      <td>0.500000</td>\n      <td>(4, 5)</td>\n    </tr>\n  </tbody>\n</table>\n</div>",
            "text/plain": "     support itemsets\n0   0.727273      (0)\n1   0.636364      (1)\n2   0.727273      (2)\n3   0.681818      (3)\n4   0.772727      (4)\n5   0.681818      (5)\n6   0.590909   (0, 2)\n7   0.500000   (0, 3)\n8   0.636364   (0, 4)\n9   0.500000   (0, 5)\n10  0.590909   (2, 3)\n11  0.590909   (2, 4)\n12  0.545455   (2, 5)\n13  0.590909   (3, 4)\n14  0.500000   (3, 5)\n15  0.500000   (4, 5)"
          },
          "metadata": {}
        }
      ]
    },
    {
      "metadata": {
        "trusted": true
      },
      "cell_type": "code",
      "source": "rules = association_rules(frequent_itemsets, metric='lift',min_threshold=1)",
      "execution_count": 17,
      "outputs": []
    },
    {
      "metadata": {
        "trusted": true
      },
      "cell_type": "code",
      "source": "rules",
      "execution_count": 18,
      "outputs": [
        {
          "output_type": "execute_result",
          "execution_count": 18,
          "data": {
            "text/html": "<div>\n<style scoped>\n    .dataframe tbody tr th:only-of-type {\n        vertical-align: middle;\n    }\n\n    .dataframe tbody tr th {\n        vertical-align: top;\n    }\n\n    .dataframe thead th {\n        text-align: right;\n    }\n</style>\n<table border=\"1\" class=\"dataframe\">\n  <thead>\n    <tr style=\"text-align: right;\">\n      <th></th>\n      <th>antecedents</th>\n      <th>consequents</th>\n      <th>antecedent support</th>\n      <th>consequent support</th>\n      <th>support</th>\n      <th>confidence</th>\n      <th>lift</th>\n      <th>leverage</th>\n      <th>conviction</th>\n    </tr>\n  </thead>\n  <tbody>\n    <tr>\n      <th>0</th>\n      <td>(0)</td>\n      <td>(2)</td>\n      <td>0.727273</td>\n      <td>0.727273</td>\n      <td>0.590909</td>\n      <td>0.812500</td>\n      <td>1.117188</td>\n      <td>0.061983</td>\n      <td>1.454545</td>\n    </tr>\n    <tr>\n      <th>1</th>\n      <td>(2)</td>\n      <td>(0)</td>\n      <td>0.727273</td>\n      <td>0.727273</td>\n      <td>0.590909</td>\n      <td>0.812500</td>\n      <td>1.117188</td>\n      <td>0.061983</td>\n      <td>1.454545</td>\n    </tr>\n    <tr>\n      <th>2</th>\n      <td>(0)</td>\n      <td>(3)</td>\n      <td>0.727273</td>\n      <td>0.681818</td>\n      <td>0.500000</td>\n      <td>0.687500</td>\n      <td>1.008333</td>\n      <td>0.004132</td>\n      <td>1.018182</td>\n    </tr>\n    <tr>\n      <th>3</th>\n      <td>(3)</td>\n      <td>(0)</td>\n      <td>0.681818</td>\n      <td>0.727273</td>\n      <td>0.500000</td>\n      <td>0.733333</td>\n      <td>1.008333</td>\n      <td>0.004132</td>\n      <td>1.022727</td>\n    </tr>\n    <tr>\n      <th>4</th>\n      <td>(0)</td>\n      <td>(4)</td>\n      <td>0.727273</td>\n      <td>0.772727</td>\n      <td>0.636364</td>\n      <td>0.875000</td>\n      <td>1.132353</td>\n      <td>0.074380</td>\n      <td>1.818182</td>\n    </tr>\n    <tr>\n      <th>5</th>\n      <td>(4)</td>\n      <td>(0)</td>\n      <td>0.772727</td>\n      <td>0.727273</td>\n      <td>0.636364</td>\n      <td>0.823529</td>\n      <td>1.132353</td>\n      <td>0.074380</td>\n      <td>1.545455</td>\n    </tr>\n    <tr>\n      <th>6</th>\n      <td>(0)</td>\n      <td>(5)</td>\n      <td>0.727273</td>\n      <td>0.681818</td>\n      <td>0.500000</td>\n      <td>0.687500</td>\n      <td>1.008333</td>\n      <td>0.004132</td>\n      <td>1.018182</td>\n    </tr>\n    <tr>\n      <th>7</th>\n      <td>(5)</td>\n      <td>(0)</td>\n      <td>0.681818</td>\n      <td>0.727273</td>\n      <td>0.500000</td>\n      <td>0.733333</td>\n      <td>1.008333</td>\n      <td>0.004132</td>\n      <td>1.022727</td>\n    </tr>\n    <tr>\n      <th>8</th>\n      <td>(2)</td>\n      <td>(3)</td>\n      <td>0.727273</td>\n      <td>0.681818</td>\n      <td>0.590909</td>\n      <td>0.812500</td>\n      <td>1.191667</td>\n      <td>0.095041</td>\n      <td>1.696970</td>\n    </tr>\n    <tr>\n      <th>9</th>\n      <td>(3)</td>\n      <td>(2)</td>\n      <td>0.681818</td>\n      <td>0.727273</td>\n      <td>0.590909</td>\n      <td>0.866667</td>\n      <td>1.191667</td>\n      <td>0.095041</td>\n      <td>2.045455</td>\n    </tr>\n    <tr>\n      <th>10</th>\n      <td>(2)</td>\n      <td>(4)</td>\n      <td>0.727273</td>\n      <td>0.772727</td>\n      <td>0.590909</td>\n      <td>0.812500</td>\n      <td>1.051471</td>\n      <td>0.028926</td>\n      <td>1.212121</td>\n    </tr>\n    <tr>\n      <th>11</th>\n      <td>(4)</td>\n      <td>(2)</td>\n      <td>0.772727</td>\n      <td>0.727273</td>\n      <td>0.590909</td>\n      <td>0.764706</td>\n      <td>1.051471</td>\n      <td>0.028926</td>\n      <td>1.159091</td>\n    </tr>\n    <tr>\n      <th>12</th>\n      <td>(2)</td>\n      <td>(5)</td>\n      <td>0.727273</td>\n      <td>0.681818</td>\n      <td>0.545455</td>\n      <td>0.750000</td>\n      <td>1.100000</td>\n      <td>0.049587</td>\n      <td>1.272727</td>\n    </tr>\n    <tr>\n      <th>13</th>\n      <td>(5)</td>\n      <td>(2)</td>\n      <td>0.681818</td>\n      <td>0.727273</td>\n      <td>0.545455</td>\n      <td>0.800000</td>\n      <td>1.100000</td>\n      <td>0.049587</td>\n      <td>1.363636</td>\n    </tr>\n    <tr>\n      <th>14</th>\n      <td>(3)</td>\n      <td>(4)</td>\n      <td>0.681818</td>\n      <td>0.772727</td>\n      <td>0.590909</td>\n      <td>0.866667</td>\n      <td>1.121569</td>\n      <td>0.064050</td>\n      <td>1.704545</td>\n    </tr>\n    <tr>\n      <th>15</th>\n      <td>(4)</td>\n      <td>(3)</td>\n      <td>0.772727</td>\n      <td>0.681818</td>\n      <td>0.590909</td>\n      <td>0.764706</td>\n      <td>1.121569</td>\n      <td>0.064050</td>\n      <td>1.352273</td>\n    </tr>\n    <tr>\n      <th>16</th>\n      <td>(3)</td>\n      <td>(5)</td>\n      <td>0.681818</td>\n      <td>0.681818</td>\n      <td>0.500000</td>\n      <td>0.733333</td>\n      <td>1.075556</td>\n      <td>0.035124</td>\n      <td>1.193182</td>\n    </tr>\n    <tr>\n      <th>17</th>\n      <td>(5)</td>\n      <td>(3)</td>\n      <td>0.681818</td>\n      <td>0.681818</td>\n      <td>0.500000</td>\n      <td>0.733333</td>\n      <td>1.075556</td>\n      <td>0.035124</td>\n      <td>1.193182</td>\n    </tr>\n  </tbody>\n</table>\n</div>",
            "text/plain": "   antecedents consequents  antecedent support  consequent support   support  \\\n0          (0)         (2)            0.727273            0.727273  0.590909   \n1          (2)         (0)            0.727273            0.727273  0.590909   \n2          (0)         (3)            0.727273            0.681818  0.500000   \n3          (3)         (0)            0.681818            0.727273  0.500000   \n4          (0)         (4)            0.727273            0.772727  0.636364   \n5          (4)         (0)            0.772727            0.727273  0.636364   \n6          (0)         (5)            0.727273            0.681818  0.500000   \n7          (5)         (0)            0.681818            0.727273  0.500000   \n8          (2)         (3)            0.727273            0.681818  0.590909   \n9          (3)         (2)            0.681818            0.727273  0.590909   \n10         (2)         (4)            0.727273            0.772727  0.590909   \n11         (4)         (2)            0.772727            0.727273  0.590909   \n12         (2)         (5)            0.727273            0.681818  0.545455   \n13         (5)         (2)            0.681818            0.727273  0.545455   \n14         (3)         (4)            0.681818            0.772727  0.590909   \n15         (4)         (3)            0.772727            0.681818  0.590909   \n16         (3)         (5)            0.681818            0.681818  0.500000   \n17         (5)         (3)            0.681818            0.681818  0.500000   \n\n    confidence      lift  leverage  conviction  \n0     0.812500  1.117188  0.061983    1.454545  \n1     0.812500  1.117188  0.061983    1.454545  \n2     0.687500  1.008333  0.004132    1.018182  \n3     0.733333  1.008333  0.004132    1.022727  \n4     0.875000  1.132353  0.074380    1.818182  \n5     0.823529  1.132353  0.074380    1.545455  \n6     0.687500  1.008333  0.004132    1.018182  \n7     0.733333  1.008333  0.004132    1.022727  \n8     0.812500  1.191667  0.095041    1.696970  \n9     0.866667  1.191667  0.095041    2.045455  \n10    0.812500  1.051471  0.028926    1.212121  \n11    0.764706  1.051471  0.028926    1.159091  \n12    0.750000  1.100000  0.049587    1.272727  \n13    0.800000  1.100000  0.049587    1.363636  \n14    0.866667  1.121569  0.064050    1.704545  \n15    0.764706  1.121569  0.064050    1.352273  \n16    0.733333  1.075556  0.035124    1.193182  \n17    0.733333  1.075556  0.035124    1.193182  "
          },
          "metadata": {}
        }
      ]
    },
    {
      "metadata": {
        "trusted": true
      },
      "cell_type": "code",
      "source": "",
      "execution_count": null,
      "outputs": []
    }
  ],
  "metadata": {
    "kernelspec": {
      "name": "python36",
      "display_name": "Python 3.6",
      "language": "python"
    },
    "language_info": {
      "mimetype": "text/x-python",
      "nbconvert_exporter": "python",
      "name": "python",
      "pygments_lexer": "ipython3",
      "version": "3.6.6",
      "file_extension": ".py",
      "codemirror_mode": {
        "version": 3,
        "name": "ipython"
      }
    }
  },
  "nbformat": 4,
  "nbformat_minor": 2
}