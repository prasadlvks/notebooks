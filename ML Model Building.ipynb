{
  "cells": [
    {
      "metadata": {
        "trusted": true
      },
      "cell_type": "code",
      "source": "import pandas as pd\nimport math\nfrom operator import itemgetter",
      "execution_count": 1,
      "outputs": []
    },
    {
      "metadata": {
        "trusted": true
      },
      "cell_type": "code",
      "source": "data = pd.DataFrame({'Movie':['Titanic','Lord of the rings','Wrath of Titans','Perfume','Rambo','Bahubali','American Pie','Love Story'],'Kss':[50,10,9,120,5,2,80,99],'Kicks':[3,40,89,11,80,110,20,30],\n                    'Type':['Romance','Action','Action','Romance','Action','Action','Romance','Romance']})\ndata",
      "execution_count": 2,
      "outputs": [
        {
          "output_type": "execute_result",
          "execution_count": 2,
          "data": {
            "text/html": "<div>\n<style scoped>\n    .dataframe tbody tr th:only-of-type {\n        vertical-align: middle;\n    }\n\n    .dataframe tbody tr th {\n        vertical-align: top;\n    }\n\n    .dataframe thead th {\n        text-align: right;\n    }\n</style>\n<table border=\"1\" class=\"dataframe\">\n  <thead>\n    <tr style=\"text-align: right;\">\n      <th></th>\n      <th>Movie</th>\n      <th>Kss</th>\n      <th>Kicks</th>\n      <th>Type</th>\n    </tr>\n  </thead>\n  <tbody>\n    <tr>\n      <th>0</th>\n      <td>Titanic</td>\n      <td>50</td>\n      <td>3</td>\n      <td>Romance</td>\n    </tr>\n    <tr>\n      <th>1</th>\n      <td>Lord of the rings</td>\n      <td>10</td>\n      <td>40</td>\n      <td>Action</td>\n    </tr>\n    <tr>\n      <th>2</th>\n      <td>Wrath of Titans</td>\n      <td>9</td>\n      <td>89</td>\n      <td>Action</td>\n    </tr>\n    <tr>\n      <th>3</th>\n      <td>Perfume</td>\n      <td>120</td>\n      <td>11</td>\n      <td>Romance</td>\n    </tr>\n    <tr>\n      <th>4</th>\n      <td>Rambo</td>\n      <td>5</td>\n      <td>80</td>\n      <td>Action</td>\n    </tr>\n    <tr>\n      <th>5</th>\n      <td>Bahubali</td>\n      <td>2</td>\n      <td>110</td>\n      <td>Action</td>\n    </tr>\n    <tr>\n      <th>6</th>\n      <td>American Pie</td>\n      <td>80</td>\n      <td>20</td>\n      <td>Romance</td>\n    </tr>\n    <tr>\n      <th>7</th>\n      <td>Love Story</td>\n      <td>99</td>\n      <td>30</td>\n      <td>Romance</td>\n    </tr>\n  </tbody>\n</table>\n</div>",
            "text/plain": "               Movie  Kss  Kicks     Type\n0            Titanic   50      3  Romance\n1  Lord of the rings   10     40   Action\n2    Wrath of Titans    9     89   Action\n3            Perfume  120     11  Romance\n4              Rambo    5     80   Action\n5           Bahubali    2    110   Action\n6       American Pie   80     20  Romance\n7         Love Story   99     30  Romance"
          },
          "metadata": {}
        }
      ]
    },
    {
      "metadata": {
        "trusted": true
      },
      "cell_type": "code",
      "source": "def getdistance(x1,y1,x2,y2):\n    dist = math.sqrt((x1-x2)**2 + (y1-y2)**2)\n    return dist",
      "execution_count": 3,
      "outputs": []
    },
    {
      "metadata": {
        "trusted": true
      },
      "cell_type": "code",
      "source": "dist = getdistance(10,50, 50,3)\ndist",
      "execution_count": 4,
      "outputs": [
        {
          "output_type": "execute_result",
          "execution_count": 4,
          "data": {
            "text/plain": "61.71709649683789"
          },
          "metadata": {}
        }
      ]
    },
    {
      "metadata": {
        "trusted": true
      },
      "cell_type": "code",
      "source": "distances=[]\ntrainingset = data['Type']\ntrainingset \n\nfor x in range(len(data)):\n    dist=getdistance(10,100,data['Kss'][x],data['Kicks'][x])\n    distances.append((trainingset[x],dist))\n\ndistances.sort(key=itemgetter(1))\ndistances",
      "execution_count": 24,
      "outputs": [
        {
          "output_type": "execute_result",
          "execution_count": 24,
          "data": {
            "text/plain": "[('Action', 11.045361017187261),\n ('Action', 12.806248474865697),\n ('Action', 20.615528128088304),\n ('Action', 60.0),\n ('Romance', 104.92378186092989),\n ('Romance', 106.30145812734649),\n ('Romance', 113.22985472038724),\n ('Romance', 141.4955829699288)]"
          },
          "metadata": {}
        }
      ]
    },
    {
      "metadata": {
        "trusted": true
      },
      "cell_type": "code",
      "source": "mydataset=distances\nk=3\nneighbors = []\nfor x in range(k):\n    neighbors.append(mydataset[x])\nneighbors",
      "execution_count": 25,
      "outputs": [
        {
          "output_type": "execute_result",
          "execution_count": 25,
          "data": {
            "text/plain": "[('Action', 11.045361017187261),\n ('Action', 12.806248474865697),\n ('Action', 20.615528128088304)]"
          },
          "metadata": {}
        }
      ]
    },
    {
      "metadata": {
        "trusted": true
      },
      "cell_type": "code",
      "source": "classvotes = {}\nfor x in range(len(neighbors)):\n    resp = neighbors[x][-1]\n    if resp in classvotes:\n        classvotes[resp] += 1 \n    else:\n        classvotes[resp] = 1 \n\nsortedvotes = sorted(classvotes.items(),key=itemgetter(1),reverse=True)\n\n\nneighbors[0][0]\n    ",
      "execution_count": 26,
      "outputs": [
        {
          "output_type": "execute_result",
          "execution_count": 26,
          "data": {
            "text/plain": "'Action'"
          },
          "metadata": {}
        }
      ]
    }
  ],
  "metadata": {
    "kernelspec": {
      "name": "python36",
      "display_name": "Python 3.6",
      "language": "python"
    },
    "language_info": {
      "mimetype": "text/x-python",
      "nbconvert_exporter": "python",
      "name": "python",
      "pygments_lexer": "ipython3",
      "version": "3.6.6",
      "file_extension": ".py",
      "codemirror_mode": {
        "version": 3,
        "name": "ipython"
      }
    }
  },
  "nbformat": 4,
  "nbformat_minor": 2
}