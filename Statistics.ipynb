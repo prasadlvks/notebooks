{
  "cells": [
    {
      "metadata": {
        "trusted": true
      },
      "cell_type": "code",
      "source": "def mean_value(arr=[1,2,3]):\n    arrsum=sum(arr)\n    arrlen=len(arr)\n    return arrsum/arrlen\nprint(mean_value([1,2,3,4,5,6,7]))",
      "execution_count": 12,
      "outputs": [
        {
          "output_type": "stream",
          "text": "4.0\n",
          "name": "stdout"
        }
      ]
    },
    {
      "metadata": {
        "trusted": true
      },
      "cell_type": "code",
      "source": "from sklearn.metrics import confusion_matrix\ny_true = [2, 0, 2, 2, 0, 1]\ny_pred = [0, 0, 2, 2, 0, 2]\nconfusion_matrix(y_true,y_pred)",
      "execution_count": 13,
      "outputs": [
        {
          "output_type": "execute_result",
          "execution_count": 13,
          "data": {
            "text/plain": "array([[2, 0, 0],\n       [0, 0, 1],\n       [1, 0, 2]])"
          },
          "metadata": {}
        }
      ]
    },
    {
      "metadata": {
        "trusted": true
      },
      "cell_type": "code",
      "source": "y_true = [\"cat\", \"ant\", \"cat\", \"cat\", \"ant\", \"bird\"]\ny_pred = [\"ant\", \"ant\", \"cat\", \"cat\", \"ant\", \"cat\"]\nconfusion_matrix(y_true, y_pred)\n#confusion_matrix(y_true, y_pred, labels=[\"ant\", \"bird\", \"cat\"])",
      "execution_count": 15,
      "outputs": [
        {
          "output_type": "execute_result",
          "execution_count": 15,
          "data": {
            "text/plain": "array([[2, 0, 0],\n       [0, 0, 1],\n       [1, 0, 2]])"
          },
          "metadata": {}
        }
      ]
    },
    {
      "metadata": {
        "trusted": true
      },
      "cell_type": "code",
      "source": "from scipy import stats\nimport scipy\nimport statistics\nDL=[139,140,154,154,154,155,180,192,192]\nprint(scipy.mean(DL))\nprint(scipy.median(DL))\n#print(stats.mode(DL))\nprint(statistics.stdev(DL))",
      "execution_count": 2,
      "outputs": [
        {
          "output_type": "stream",
          "text": "162.22222222222223\n154.0\n20.547370742857698\n",
          "name": "stdout"
        }
      ]
    },
    {
      "metadata": {
        "trusted": true
      },
      "cell_type": "code",
      "source": "#t-score\nprint(stats.t(DL))",
      "execution_count": 19,
      "outputs": [
        {
          "output_type": "stream",
          "text": "<scipy.stats._distn_infrastructure.rv_frozen object at 0x7f00e91595f8>\n",
          "name": "stdout"
        }
      ]
    },
    {
      "metadata": {
        "trusted": true
      },
      "cell_type": "code",
      "source": "#z-score\nDL=[139,140,154,154,154,155,180,192,192]\nprint(stats.zscore(DL))",
      "execution_count": 3,
      "outputs": [
        {
          "output_type": "stream",
          "text": "[-1.19873664 -1.1471164  -0.42443307 -0.42443307 -0.42443307 -0.37281283\n  0.91769312  1.53713598  1.53713598]\n",
          "name": "stdout"
        }
      ]
    },
    {
      "metadata": {
        "trusted": true
      },
      "cell_type": "code",
      "source": "#f-score\n",
      "execution_count": null,
      "outputs": []
    },
    {
      "metadata": {
        "trusted": true
      },
      "cell_type": "code",
      "source": "",
      "execution_count": null,
      "outputs": []
    }
  ],
  "metadata": {
    "kernelspec": {
      "name": "python36",
      "display_name": "Python 3.6",
      "language": "python"
    },
    "language_info": {
      "mimetype": "text/x-python",
      "nbconvert_exporter": "python",
      "name": "python",
      "pygments_lexer": "ipython3",
      "version": "3.6.6",
      "file_extension": ".py",
      "codemirror_mode": {
        "version": 3,
        "name": "ipython"
      }
    }
  },
  "nbformat": 4,
  "nbformat_minor": 2
}