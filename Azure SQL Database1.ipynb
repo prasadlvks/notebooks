{
  "cells": [
    {
      "metadata": {
        "trusted": true
      },
      "cell_type": "code",
      "source": "import pyodbc\nimport pandas as pd\nserver = 'coe1server.database.windows.net'\ndatabase = 'coe1db'\nusername = 'coeadmin'\npassword = 'Coewebpwd1'\ndriver= '{ODBC Driver 13 for SQL Server}'\ndf = pd.DataFrame()\ncnxn = pyodbc.connect('DRIVER='+driver+';SERVER='+server+';PORT=1433;DATABASE='+database+';UID='+username+';PWD='+ password)\ncursor = cnxn.cursor()\ncursor.execute(\"SELECT ProcessId,Process,StartDate FROM GDCOProcesses\")\nrow = cursor.fetchone()\nrecs=0\nwhile row:\n    df=df.append({'ProcessId':str(row[0]), 'Process':str(row[1]), 'StartDate':str(row[2])}, ignore_index=True)\n    recs=recs+1\n    row = cursor.fetchone()\nrecs",
      "execution_count": 1,
      "outputs": [
        {
          "output_type": "execute_result",
          "execution_count": 1,
          "data": {
            "text/plain": "1"
          },
          "metadata": {}
        }
      ]
    },
    {
      "metadata": {
        "trusted": true
      },
      "cell_type": "code",
      "source": "df",
      "execution_count": 2,
      "outputs": [
        {
          "output_type": "execute_result",
          "execution_count": 2,
          "data": {
            "text/html": "<div>\n<style scoped>\n    .dataframe tbody tr th:only-of-type {\n        vertical-align: middle;\n    }\n\n    .dataframe tbody tr th {\n        vertical-align: top;\n    }\n\n    .dataframe thead th {\n        text-align: right;\n    }\n</style>\n<table border=\"1\" class=\"dataframe\">\n  <thead>\n    <tr style=\"text-align: right;\">\n      <th></th>\n      <th>Process</th>\n      <th>ProcessId</th>\n      <th>StartDate</th>\n    </tr>\n  </thead>\n  <tbody>\n    <tr>\n      <th>0</th>\n      <td>Assessment1</td>\n      <td>1</td>\n      <td>2019-01-12 16:52:35.610000</td>\n    </tr>\n  </tbody>\n</table>\n</div>",
            "text/plain": "       Process ProcessId                   StartDate\n0  Assessment1         1  2019-01-12 16:52:35.610000"
          },
          "metadata": {}
        }
      ]
    },
    {
      "metadata": {
        "trusted": true
      },
      "cell_type": "code",
      "source": "",
      "execution_count": null,
      "outputs": []
    }
  ],
  "metadata": {
    "kernelspec": {
      "name": "python36",
      "display_name": "Python 3.6",
      "language": "python"
    },
    "language_info": {
      "mimetype": "text/x-python",
      "nbconvert_exporter": "python",
      "name": "python",
      "pygments_lexer": "ipython3",
      "version": "3.6.6",
      "file_extension": ".py",
      "codemirror_mode": {
        "version": 3,
        "name": "ipython"
      }
    }
  },
  "nbformat": 4,
  "nbformat_minor": 1
}