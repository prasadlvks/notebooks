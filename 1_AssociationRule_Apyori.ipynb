{
  "cells": [
    {
      "metadata": {
        "trusted": true
      },
      "cell_type": "code",
      "source": "from apyori import apriori\nimport numpy as np\nimport pandas as pd",
      "execution_count": 1,
      "outputs": []
    },
    {
      "metadata": {
        "trusted": true
      },
      "cell_type": "code",
      "source": "store_data = pd.read_excel('Day1.xlsx')",
      "execution_count": 2,
      "outputs": []
    },
    {
      "metadata": {
        "trusted": true
      },
      "cell_type": "code",
      "source": "store_data",
      "execution_count": 3,
      "outputs": [
        {
          "output_type": "execute_result",
          "execution_count": 3,
          "data": {
            "text/html": "<div>\n<style scoped>\n    .dataframe tbody tr th:only-of-type {\n        vertical-align: middle;\n    }\n\n    .dataframe tbody tr th {\n        vertical-align: top;\n    }\n\n    .dataframe thead th {\n        text-align: right;\n    }\n</style>\n<table border=\"1\" class=\"dataframe\">\n  <thead>\n    <tr style=\"text-align: right;\">\n      <th></th>\n      <th>0</th>\n      <th>1</th>\n      <th>2</th>\n      <th>3</th>\n      <th>4</th>\n      <th>5</th>\n    </tr>\n  </thead>\n  <tbody>\n    <tr>\n      <th>0</th>\n      <td>Wine</td>\n      <td>Chips</td>\n      <td>Bread</td>\n      <td>Butter</td>\n      <td>Milk</td>\n      <td>Apple</td>\n    </tr>\n    <tr>\n      <th>1</th>\n      <td>Wine</td>\n      <td>NaN</td>\n      <td>Bread</td>\n      <td>Butter</td>\n      <td>Milk</td>\n      <td>NaN</td>\n    </tr>\n    <tr>\n      <th>2</th>\n      <td>NaN</td>\n      <td>NaN</td>\n      <td>Bread</td>\n      <td>Butter</td>\n      <td>Milk</td>\n      <td>NaN</td>\n    </tr>\n    <tr>\n      <th>3</th>\n      <td>NaN</td>\n      <td>Chips</td>\n      <td>NaN</td>\n      <td>NaN</td>\n      <td>NaN</td>\n      <td>Apple</td>\n    </tr>\n    <tr>\n      <th>4</th>\n      <td>Wine</td>\n      <td>Chips</td>\n      <td>Bread</td>\n      <td>Butter</td>\n      <td>Milk</td>\n      <td>Apple</td>\n    </tr>\n    <tr>\n      <th>5</th>\n      <td>Wine</td>\n      <td>Chips</td>\n      <td>NaN</td>\n      <td>NaN</td>\n      <td>Milk</td>\n      <td>NaN</td>\n    </tr>\n    <tr>\n      <th>6</th>\n      <td>Wine</td>\n      <td>Chips</td>\n      <td>Bread</td>\n      <td>Butter</td>\n      <td>NaN</td>\n      <td>Apple</td>\n    </tr>\n    <tr>\n      <th>7</th>\n      <td>Wine</td>\n      <td>Chips</td>\n      <td>NaN</td>\n      <td>NaN</td>\n      <td>Milk</td>\n      <td>NaN</td>\n    </tr>\n    <tr>\n      <th>8</th>\n      <td>Wine</td>\n      <td>NaN</td>\n      <td>Bread</td>\n      <td>NaN</td>\n      <td>NaN</td>\n      <td>Apple</td>\n    </tr>\n    <tr>\n      <th>9</th>\n      <td>Wine</td>\n      <td>NaN</td>\n      <td>Bread</td>\n      <td>Butter</td>\n      <td>Milk</td>\n      <td>NaN</td>\n    </tr>\n    <tr>\n      <th>10</th>\n      <td>NaN</td>\n      <td>Chips</td>\n      <td>Bread</td>\n      <td>Butter</td>\n      <td>NaN</td>\n      <td>Apple</td>\n    </tr>\n    <tr>\n      <th>11</th>\n      <td>Wine</td>\n      <td>NaN</td>\n      <td>NaN</td>\n      <td>Butter</td>\n      <td>Milk</td>\n      <td>Apple</td>\n    </tr>\n    <tr>\n      <th>12</th>\n      <td>Wine</td>\n      <td>Chips</td>\n      <td>Bread</td>\n      <td>Butter</td>\n      <td>Milk</td>\n      <td>NaN</td>\n    </tr>\n    <tr>\n      <th>13</th>\n      <td>Wine</td>\n      <td>NaN</td>\n      <td>Bread</td>\n      <td>NaN</td>\n      <td>Milk</td>\n      <td>Apple</td>\n    </tr>\n    <tr>\n      <th>14</th>\n      <td>Wine</td>\n      <td>NaN</td>\n      <td>Bread</td>\n      <td>Butter</td>\n      <td>Milk</td>\n      <td>Apple</td>\n    </tr>\n    <tr>\n      <th>15</th>\n      <td>Wine</td>\n      <td>Chips</td>\n      <td>Bread</td>\n      <td>Butter</td>\n      <td>Milk</td>\n      <td>Apple</td>\n    </tr>\n    <tr>\n      <th>16</th>\n      <td>NaN</td>\n      <td>Chips</td>\n      <td>Bread</td>\n      <td>Butter</td>\n      <td>Milk</td>\n      <td>Apple</td>\n    </tr>\n    <tr>\n      <th>17</th>\n      <td>NaN</td>\n      <td>Chips</td>\n      <td>NaN</td>\n      <td>Butter</td>\n      <td>Milk</td>\n      <td>Apple</td>\n    </tr>\n    <tr>\n      <th>18</th>\n      <td>Wine</td>\n      <td>Chips</td>\n      <td>Bread</td>\n      <td>Butter</td>\n      <td>Milk</td>\n      <td>Apple</td>\n    </tr>\n    <tr>\n      <th>19</th>\n      <td>Wine</td>\n      <td>NaN</td>\n      <td>Bread</td>\n      <td>Butter</td>\n      <td>Milk</td>\n      <td>Apple</td>\n    </tr>\n    <tr>\n      <th>20</th>\n      <td>Wine</td>\n      <td>Chips</td>\n      <td>Bread</td>\n      <td>NaN</td>\n      <td>Milk</td>\n      <td>Apple</td>\n    </tr>\n    <tr>\n      <th>21</th>\n      <td>NaN</td>\n      <td>Chips</td>\n      <td>NaN</td>\n      <td>NaN</td>\n      <td>NaN</td>\n      <td>NaN</td>\n    </tr>\n  </tbody>\n</table>\n</div>",
            "text/plain": "       0      1      2       3     4      5\n0   Wine  Chips  Bread  Butter  Milk  Apple\n1   Wine    NaN  Bread  Butter  Milk    NaN\n2    NaN    NaN  Bread  Butter  Milk    NaN\n3    NaN  Chips    NaN     NaN   NaN  Apple\n4   Wine  Chips  Bread  Butter  Milk  Apple\n5   Wine  Chips    NaN     NaN  Milk    NaN\n6   Wine  Chips  Bread  Butter   NaN  Apple\n7   Wine  Chips    NaN     NaN  Milk    NaN\n8   Wine    NaN  Bread     NaN   NaN  Apple\n9   Wine    NaN  Bread  Butter  Milk    NaN\n10   NaN  Chips  Bread  Butter   NaN  Apple\n11  Wine    NaN    NaN  Butter  Milk  Apple\n12  Wine  Chips  Bread  Butter  Milk    NaN\n13  Wine    NaN  Bread     NaN  Milk  Apple\n14  Wine    NaN  Bread  Butter  Milk  Apple\n15  Wine  Chips  Bread  Butter  Milk  Apple\n16   NaN  Chips  Bread  Butter  Milk  Apple\n17   NaN  Chips    NaN  Butter  Milk  Apple\n18  Wine  Chips  Bread  Butter  Milk  Apple\n19  Wine    NaN  Bread  Butter  Milk  Apple\n20  Wine  Chips  Bread     NaN  Milk  Apple\n21   NaN  Chips    NaN     NaN   NaN    NaN"
          },
          "metadata": {}
        }
      ]
    },
    {
      "metadata": {
        "trusted": true
      },
      "cell_type": "code",
      "source": "!pip install apyori",
      "execution_count": null,
      "outputs": []
    },
    {
      "metadata": {
        "trusted": true
      },
      "cell_type": "code",
      "source": "records = []\nfor i in range(0,22):\n    records.append([str(store_data.values[i,j]) for j in range(0,6)])",
      "execution_count": 5,
      "outputs": []
    },
    {
      "metadata": {
        "trusted": true
      },
      "cell_type": "code",
      "source": "records",
      "execution_count": 6,
      "outputs": [
        {
          "output_type": "execute_result",
          "execution_count": 6,
          "data": {
            "text/plain": "[['Wine', 'Chips', 'Bread', 'Butter', 'Milk', 'Apple'],\n ['Wine', 'nan', 'Bread', 'Butter', 'Milk', 'nan'],\n ['nan', 'nan', 'Bread', 'Butter', 'Milk', 'nan'],\n ['nan', 'Chips', 'nan', 'nan', 'nan', 'Apple'],\n ['Wine', 'Chips', 'Bread', 'Butter', 'Milk', 'Apple'],\n ['Wine', 'Chips', 'nan', 'nan', 'Milk', 'nan'],\n ['Wine', 'Chips', 'Bread', 'Butter', 'nan', 'Apple'],\n ['Wine', 'Chips', 'nan', 'nan', 'Milk', 'nan'],\n ['Wine', 'nan', 'Bread', 'nan', 'nan', 'Apple'],\n ['Wine', 'nan', 'Bread', 'Butter', 'Milk', 'nan'],\n ['nan', 'Chips', 'Bread', 'Butter', 'nan', 'Apple'],\n ['Wine', 'nan', 'nan', 'Butter', 'Milk', 'Apple'],\n ['Wine', 'Chips', 'Bread', 'Butter', 'Milk', 'nan'],\n ['Wine', 'nan', 'Bread', 'nan', 'Milk', 'Apple'],\n ['Wine', 'nan', 'Bread', 'Butter', 'Milk', 'Apple'],\n ['Wine', 'Chips', 'Bread', 'Butter', 'Milk', 'Apple'],\n ['nan', 'Chips', 'Bread', 'Butter', 'Milk', 'Apple'],\n ['nan', 'Chips', 'nan', 'Butter', 'Milk', 'Apple'],\n ['Wine', 'Chips', 'Bread', 'Butter', 'Milk', 'Apple'],\n ['Wine', 'nan', 'Bread', 'Butter', 'Milk', 'Apple'],\n ['Wine', 'Chips', 'Bread', 'nan', 'Milk', 'Apple'],\n ['nan', 'Chips', 'nan', 'nan', 'nan', 'nan']]"
          },
          "metadata": {}
        }
      ]
    },
    {
      "metadata": {
        "trusted": true
      },
      "cell_type": "code",
      "source": "association_rules = apriori(records, min_support=0.50, min_confidence=0.7, min_lift=1.2, min_length=2) ",
      "execution_count": 7,
      "outputs": []
    },
    {
      "metadata": {
        "trusted": true
      },
      "cell_type": "code",
      "source": "list(association_rules)",
      "execution_count": 8,
      "outputs": [
        {
          "output_type": "execute_result",
          "execution_count": 8,
          "data": {
            "text/plain": "[RelationRecord(items=frozenset({'Bread', 'Milk', 'Butter'}), support=0.5, ordered_statistics=[OrderedStatistic(items_base=frozenset({'Butter'}), items_add=frozenset({'Bread', 'Milk'}), confidence=0.7333333333333334, lift=1.241025641025641), OrderedStatistic(items_base=frozenset({'Bread', 'Milk'}), items_add=frozenset({'Butter'}), confidence=0.8461538461538461, lift=1.241025641025641)])]"
          },
          "metadata": {}
        }
      ]
    },
    {
      "metadata": {
        "trusted": true
      },
      "cell_type": "code",
      "source": "type(records)",
      "execution_count": 9,
      "outputs": [
        {
          "output_type": "execute_result",
          "execution_count": 9,
          "data": {
            "text/plain": "list"
          },
          "metadata": {}
        }
      ]
    },
    {
      "metadata": {},
      "cell_type": "markdown",
      "source": "Notes:\n\nsupport=says that 67% of customers purchased milk and cheese\n\nlift represents the 28% increase in expectation that someone will buy cheese, when we know that they bought milk.\n\nconfidence is that 100% of the customers that bought milk also bought cheese."
    },
    {
      "metadata": {
        "trusted": true
      },
      "cell_type": "code",
      "source": "",
      "execution_count": null,
      "outputs": []
    }
  ],
  "metadata": {
    "kernelspec": {
      "name": "python36",
      "display_name": "Python 3.6",
      "language": "python"
    },
    "language_info": {
      "mimetype": "text/x-python",
      "nbconvert_exporter": "python",
      "name": "python",
      "pygments_lexer": "ipython3",
      "version": "3.6.6",
      "file_extension": ".py",
      "codemirror_mode": {
        "version": 3,
        "name": "ipython"
      }
    }
  },
  "nbformat": 4,
  "nbformat_minor": 2
}