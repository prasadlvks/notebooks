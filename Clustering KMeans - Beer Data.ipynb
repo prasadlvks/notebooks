{
  "cells": [
    {
      "metadata": {
        "trusted": true
      },
      "cell_type": "code",
      "source": "import pandas as pd\nimport matplotlib.pyplot as plt\nimport seaborn as sn",
      "execution_count": 11,
      "outputs": []
    },
    {
      "metadata": {
        "trusted": true
      },
      "cell_type": "code",
      "source": "beer_df = pd.read_csv('beer.csv')\nbeer_df[0:8]",
      "execution_count": 12,
      "outputs": [
        {
          "output_type": "execute_result",
          "execution_count": 12,
          "data": {
            "text/html": "<div>\n<style scoped>\n    .dataframe tbody tr th:only-of-type {\n        vertical-align: middle;\n    }\n\n    .dataframe tbody tr th {\n        vertical-align: top;\n    }\n\n    .dataframe thead th {\n        text-align: right;\n    }\n</style>\n<table border=\"1\" class=\"dataframe\">\n  <thead>\n    <tr style=\"text-align: right;\">\n      <th></th>\n      <th>name</th>\n      <th>calories</th>\n      <th>sodium</th>\n      <th>alcohol</th>\n      <th>cost</th>\n    </tr>\n  </thead>\n  <tbody>\n    <tr>\n      <th>0</th>\n      <td>Budweiser</td>\n      <td>144</td>\n      <td>15</td>\n      <td>4.7</td>\n      <td>0.43</td>\n    </tr>\n    <tr>\n      <th>1</th>\n      <td>Schlitz</td>\n      <td>151</td>\n      <td>19</td>\n      <td>4.9</td>\n      <td>0.43</td>\n    </tr>\n    <tr>\n      <th>2</th>\n      <td>Lowenbrau</td>\n      <td>157</td>\n      <td>15</td>\n      <td>0.9</td>\n      <td>0.48</td>\n    </tr>\n    <tr>\n      <th>3</th>\n      <td>Kronenbourg</td>\n      <td>170</td>\n      <td>7</td>\n      <td>5.2</td>\n      <td>0.73</td>\n    </tr>\n    <tr>\n      <th>4</th>\n      <td>Heineken</td>\n      <td>152</td>\n      <td>11</td>\n      <td>5.0</td>\n      <td>0.77</td>\n    </tr>\n    <tr>\n      <th>5</th>\n      <td>Old_Milwaukee</td>\n      <td>145</td>\n      <td>23</td>\n      <td>4.6</td>\n      <td>0.28</td>\n    </tr>\n    <tr>\n      <th>6</th>\n      <td>Augsberger</td>\n      <td>175</td>\n      <td>24</td>\n      <td>5.5</td>\n      <td>0.40</td>\n    </tr>\n    <tr>\n      <th>7</th>\n      <td>Srohs_Bohemian_Style</td>\n      <td>149</td>\n      <td>27</td>\n      <td>4.7</td>\n      <td>0.42</td>\n    </tr>\n  </tbody>\n</table>\n</div>",
            "text/plain": "                   name  calories  sodium  alcohol  cost\n0             Budweiser       144      15      4.7  0.43\n1               Schlitz       151      19      4.9  0.43\n2             Lowenbrau       157      15      0.9  0.48\n3           Kronenbourg       170       7      5.2  0.73\n4              Heineken       152      11      5.0  0.77\n5         Old_Milwaukee       145      23      4.6  0.28\n6            Augsberger       175      24      5.5  0.40\n7  Srohs_Bohemian_Style       149      27      4.7  0.42"
          },
          "metadata": {}
        }
      ]
    },
    {
      "metadata": {
        "trusted": true
      },
      "cell_type": "code",
      "source": "from sklearn.preprocessing import StandardScaler\nscalar = StandardScaler()\nscalled_beer_df = scalar.fit_transform(beer_df[['calories','sodium','alcohol','cost']])\nscalled_beer_df",
      "execution_count": 5,
      "outputs": [
        {
          "output_type": "stream",
          "text": "/home/nbuser/anaconda3_501/lib/python3.6/site-packages/sklearn/preprocessing/data.py:645: DataConversionWarning: Data with input dtype int64, float64 were all converted to float64 by StandardScaler.\n  return self.partial_fit(X, y)\n/home/nbuser/anaconda3_501/lib/python3.6/site-packages/sklearn/base.py:464: DataConversionWarning: Data with input dtype int64, float64 were all converted to float64 by StandardScaler.\n  return self.fit(X, **fit_params).transform(X)\n",
          "name": "stderr"
        },
        {
          "output_type": "execute_result",
          "execution_count": 5,
          "data": {
            "text/plain": "array([[ 0.38791334,  0.00779468,  0.43380786, -0.45682969],\n       [ 0.6250656 ,  0.63136906,  0.62241997, -0.45682969],\n       [ 0.82833896,  0.00779468, -3.14982226, -0.10269815],\n       [ 1.26876459, -1.23935408,  0.90533814,  1.66795955],\n       [ 0.65894449, -0.6157797 ,  0.71672602,  1.95126478],\n       [ 0.42179223,  1.25494344,  0.3395018 , -1.5192243 ],\n       [ 1.43815906,  1.41083704,  1.1882563 , -0.66930861],\n       [ 0.55730781,  1.87851782,  0.43380786, -0.52765599],\n       [-1.1366369 , -0.7716733 ,  0.05658363, -0.45682969],\n       [-0.66233238, -1.08346049, -0.5092527 , -0.66930861],\n       [ 0.25239776,  0.47547547,  0.3395018 , -0.38600338],\n       [-1.03500022,  0.00779468, -0.13202848, -0.24435076],\n       [ 0.08300329, -0.6157797 , -0.03772242,  0.03895447],\n       [ 0.59118671,  0.63136906,  0.43380786,  1.88043848],\n       [ 0.55730781, -1.39524768,  0.71672602,  2.0929174 ],\n       [-2.18688263,  0.00779468, -1.82953748, -0.81096123],\n       [ 0.21851887,  0.63136906,  0.15088969, -0.45682969],\n       [ 0.38791334,  1.41083704,  0.62241997, -0.45682969],\n       [-2.05136705, -1.39524768, -1.26370115, -0.24435076],\n       [-1.20439469, -1.23935408, -0.03772242, -0.17352445]])"
          },
          "metadata": {}
        }
      ]
    },
    {
      "metadata": {
        "trusted": true
      },
      "cell_type": "code",
      "source": "sn.clustermap(scalled_beer_df)",
      "execution_count": 6,
      "outputs": [
        {
          "output_type": "execute_result",
          "execution_count": 6,
          "data": {
            "text/plain": "<seaborn.matrix.ClusterGrid at 0x7fe11ee52d30>"
          },
          "metadata": {}
        },
        {
          "output_type": "display_data",
          "data": {
            "image/png": "[encoded data removed]",
            "text/plain": "<Figure size 720x720 with 4 Axes>"
          },
          "metadata": {
            "needs_background": "light"
          }
        }
      ]
    },
    {
      "metadata": {
        "trusted": true
      },
      "cell_type": "code",
      "source": "from sklearn.cluster import KMeans",
      "execution_count": 8,
      "outputs": []
    },
    {
      "metadata": {
        "trusted": true
      },
      "cell_type": "code",
      "source": "clusters = KMeans(3)\nclusters.fit(beer_df[['calories','cost']])",
      "execution_count": 14,
      "outputs": [
        {
          "output_type": "execute_result",
          "execution_count": 14,
          "data": {
            "text/plain": "KMeans(algorithm='auto', copy_x=True, init='k-means++', max_iter=300,\n    n_clusters=3, n_init=10, n_jobs=None, precompute_distances='auto',\n    random_state=None, tol=0.0001, verbose=0)"
          },
          "metadata": {}
        }
      ]
    },
    {
      "metadata": {
        "trusted": true
      },
      "cell_type": "code",
      "source": "beer_df['clusterid'] = clusters.labels_",
      "execution_count": 16,
      "outputs": []
    },
    {
      "metadata": {
        "trusted": true
      },
      "cell_type": "code",
      "source": "sn.lmplot(x='calories',y='cost', data=beer_df, fit_reg=False, hue='clusterid', markers=['+','^','.'])",
      "execution_count": 19,
      "outputs": [
        {
          "output_type": "execute_result",
          "execution_count": 19,
          "data": {
            "text/plain": "<seaborn.axisgrid.FacetGrid at 0x7fe11e6ba518>"
          },
          "metadata": {}
        },
        {
          "output_type": "display_data",
          "data": {
            "image/png": "[encoded data removed]",
            "text/plain": "<Figure size 411.375x360 with 1 Axes>"
          },
          "metadata": {
            "needs_background": "light"
          }
        }
      ]
    },
    {
      "metadata": {
        "trusted": true
      },
      "cell_type": "code",
      "source": "",
      "execution_count": null,
      "outputs": []
    }
  ],
  "metadata": {
    "kernelspec": {
      "name": "python36",
      "display_name": "Python 3.6",
      "language": "python"
    },
    "language_info": {
      "mimetype": "text/x-python",
      "nbconvert_exporter": "python",
      "name": "python",
      "pygments_lexer": "ipython3",
      "version": "3.6.6",
      "file_extension": ".py",
      "codemirror_mode": {
        "version": 3,
        "name": "ipython"
      }
    }
  },
  "nbformat": 4,
  "nbformat_minor": 2
}