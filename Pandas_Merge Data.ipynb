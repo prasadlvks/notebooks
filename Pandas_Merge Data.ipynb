{
  "cells": [
    {
      "metadata": {
        "trusted": true
      },
      "cell_type": "code",
      "source": "import pandas as pd",
      "execution_count": 1,
      "outputs": []
    },
    {
      "metadata": {
        "trusted": true
      },
      "cell_type": "code",
      "source": "dfdept = pd.read_csv(\"Depts.csv\") \ndfdept",
      "execution_count": 3,
      "outputs": [
        {
          "output_type": "execute_result",
          "execution_count": 3,
          "data": {
            "text/html": "<div>\n<style scoped>\n    .dataframe tbody tr th:only-of-type {\n        vertical-align: middle;\n    }\n\n    .dataframe tbody tr th {\n        vertical-align: top;\n    }\n\n    .dataframe thead th {\n        text-align: right;\n    }\n</style>\n<table border=\"1\" class=\"dataframe\">\n  <thead>\n    <tr style=\"text-align: right;\">\n      <th></th>\n      <th>DepartmentId</th>\n      <th>JobTitle</th>\n    </tr>\n  </thead>\n  <tbody>\n    <tr>\n      <th>0</th>\n      <td>101</td>\n      <td>Marketing</td>\n    </tr>\n    <tr>\n      <th>1</th>\n      <td>102</td>\n      <td>Sales</td>\n    </tr>\n    <tr>\n      <th>2</th>\n      <td>103</td>\n      <td>IT</td>\n    </tr>\n    <tr>\n      <th>3</th>\n      <td>104</td>\n      <td>Accounting</td>\n    </tr>\n  </tbody>\n</table>\n</div>",
            "text/plain": "   DepartmentId    JobTitle\n0           101   Marketing\n1           102       Sales\n2           103          IT\n3           104  Accounting"
          },
          "metadata": {}
        }
      ]
    },
    {
      "metadata": {
        "trusted": true
      },
      "cell_type": "code",
      "source": "dfemp = pd.read_csv(\"Employees.csv\") \ndfemp.head()",
      "execution_count": 5,
      "outputs": [
        {
          "output_type": "execute_result",
          "execution_count": 5,
          "data": {
            "text/html": "<div>\n<style scoped>\n    .dataframe tbody tr th:only-of-type {\n        vertical-align: middle;\n    }\n\n    .dataframe tbody tr th {\n        vertical-align: top;\n    }\n\n    .dataframe thead th {\n        text-align: right;\n    }\n</style>\n<table border=\"1\" class=\"dataframe\">\n  <thead>\n    <tr style=\"text-align: right;\">\n      <th></th>\n      <th>EmpId</th>\n      <th>EmpName</th>\n      <th>Gender</th>\n      <th>DepartmentId</th>\n      <th>DOJ</th>\n      <th>Country</th>\n    </tr>\n  </thead>\n  <tbody>\n    <tr>\n      <th>0</th>\n      <td>1001</td>\n      <td>Jones</td>\n      <td>M</td>\n      <td>101</td>\n      <td>10/27/1980</td>\n      <td>USA</td>\n    </tr>\n    <tr>\n      <th>1</th>\n      <td>1002</td>\n      <td>Kivell</td>\n      <td>M</td>\n      <td>102</td>\n      <td>10/28/1980</td>\n      <td>USA</td>\n    </tr>\n    <tr>\n      <th>2</th>\n      <td>1003</td>\n      <td>Jardine</td>\n      <td>M</td>\n      <td>103</td>\n      <td>10/29/1981</td>\n      <td>USA</td>\n    </tr>\n    <tr>\n      <th>3</th>\n      <td>1004</td>\n      <td>Gill</td>\n      <td>M</td>\n      <td>103</td>\n      <td>10/30/1981</td>\n      <td>USA</td>\n    </tr>\n    <tr>\n      <th>4</th>\n      <td>1005</td>\n      <td>Sorvino</td>\n      <td>F</td>\n      <td>103</td>\n      <td>10/31/1985</td>\n      <td>USA</td>\n    </tr>\n  </tbody>\n</table>\n</div>",
            "text/plain": "   EmpId  EmpName Gender  DepartmentId         DOJ Country\n0   1001    Jones      M           101  10/27/1980     USA\n1   1002   Kivell      M           102  10/28/1980     USA\n2   1003  Jardine      M           103  10/29/1981     USA\n3   1004     Gill      M           103  10/30/1981     USA\n4   1005  Sorvino      F           103  10/31/1985     USA"
          },
          "metadata": {}
        }
      ]
    },
    {
      "metadata": {
        "trusted": true
      },
      "cell_type": "code",
      "source": "df=pd.merge(dfemp,dfdept,on=\"DepartmentId\", how='inner')\ndf",
      "execution_count": 6,
      "outputs": [
        {
          "output_type": "execute_result",
          "execution_count": 6,
          "data": {
            "text/html": "<div>\n<style scoped>\n    .dataframe tbody tr th:only-of-type {\n        vertical-align: middle;\n    }\n\n    .dataframe tbody tr th {\n        vertical-align: top;\n    }\n\n    .dataframe thead th {\n        text-align: right;\n    }\n</style>\n<table border=\"1\" class=\"dataframe\">\n  <thead>\n    <tr style=\"text-align: right;\">\n      <th></th>\n      <th>EmpId</th>\n      <th>EmpName</th>\n      <th>Gender</th>\n      <th>DepartmentId</th>\n      <th>DOJ</th>\n      <th>Country</th>\n      <th>JobTitle</th>\n    </tr>\n  </thead>\n  <tbody>\n    <tr>\n      <th>0</th>\n      <td>1001</td>\n      <td>Jones</td>\n      <td>M</td>\n      <td>101</td>\n      <td>10/27/1980</td>\n      <td>USA</td>\n      <td>Marketing</td>\n    </tr>\n    <tr>\n      <th>1</th>\n      <td>1007</td>\n      <td>Howard</td>\n      <td>M</td>\n      <td>101</td>\n      <td>11/2/1991</td>\n      <td>USA</td>\n      <td>Marketing</td>\n    </tr>\n    <tr>\n      <th>2</th>\n      <td>1013</td>\n      <td>Alexander</td>\n      <td>M</td>\n      <td>101</td>\n      <td>11/8/2001</td>\n      <td>UK</td>\n      <td>Marketing</td>\n    </tr>\n    <tr>\n      <th>3</th>\n      <td>1016</td>\n      <td>Ethan</td>\n      <td>M</td>\n      <td>101</td>\n      <td>11/11/2013</td>\n      <td>UK</td>\n      <td>Marketing</td>\n    </tr>\n    <tr>\n      <th>4</th>\n      <td>1019</td>\n      <td>Isabella</td>\n      <td>F</td>\n      <td>101</td>\n      <td>11/14/2015</td>\n      <td>UK</td>\n      <td>Marketing</td>\n    </tr>\n    <tr>\n      <th>5</th>\n      <td>1022</td>\n      <td>Emily</td>\n      <td>F</td>\n      <td>101</td>\n      <td>11/17/2016</td>\n      <td>UK</td>\n      <td>Marketing</td>\n    </tr>\n    <tr>\n      <th>6</th>\n      <td>1024</td>\n      <td>Thompson</td>\n      <td>M</td>\n      <td>101</td>\n      <td>11/19/2018</td>\n      <td>UK</td>\n      <td>Marketing</td>\n    </tr>\n    <tr>\n      <th>7</th>\n      <td>1002</td>\n      <td>Kivell</td>\n      <td>M</td>\n      <td>102</td>\n      <td>10/28/1980</td>\n      <td>USA</td>\n      <td>Sales</td>\n    </tr>\n    <tr>\n      <th>8</th>\n      <td>1006</td>\n      <td>Andrews</td>\n      <td>M</td>\n      <td>102</td>\n      <td>11/1/1985</td>\n      <td>USA</td>\n      <td>Sales</td>\n    </tr>\n    <tr>\n      <th>9</th>\n      <td>1011</td>\n      <td>Jacob</td>\n      <td>M</td>\n      <td>102</td>\n      <td>11/6/1995</td>\n      <td>UK</td>\n      <td>Sales</td>\n    </tr>\n    <tr>\n      <th>10</th>\n      <td>1015</td>\n      <td>Olivia</td>\n      <td>F</td>\n      <td>102</td>\n      <td>11/10/2013</td>\n      <td>UK</td>\n      <td>Sales</td>\n    </tr>\n    <tr>\n      <th>11</th>\n      <td>1017</td>\n      <td>Elijah</td>\n      <td>M</td>\n      <td>102</td>\n      <td>11/12/2015</td>\n      <td>UK</td>\n      <td>Sales</td>\n    </tr>\n    <tr>\n      <th>12</th>\n      <td>1021</td>\n      <td>Robin</td>\n      <td>M</td>\n      <td>102</td>\n      <td>11/16/2016</td>\n      <td>UK</td>\n      <td>Sales</td>\n    </tr>\n    <tr>\n      <th>13</th>\n      <td>1003</td>\n      <td>Jardine</td>\n      <td>M</td>\n      <td>103</td>\n      <td>10/29/1981</td>\n      <td>USA</td>\n      <td>IT</td>\n    </tr>\n    <tr>\n      <th>14</th>\n      <td>1004</td>\n      <td>Gill</td>\n      <td>M</td>\n      <td>103</td>\n      <td>10/30/1981</td>\n      <td>USA</td>\n      <td>IT</td>\n    </tr>\n    <tr>\n      <th>15</th>\n      <td>1005</td>\n      <td>Sorvino</td>\n      <td>F</td>\n      <td>103</td>\n      <td>10/31/1985</td>\n      <td>USA</td>\n      <td>IT</td>\n    </tr>\n    <tr>\n      <th>16</th>\n      <td>1010</td>\n      <td>William</td>\n      <td>M</td>\n      <td>103</td>\n      <td>11/5/1995</td>\n      <td>USA</td>\n      <td>IT</td>\n    </tr>\n    <tr>\n      <th>17</th>\n      <td>1018</td>\n      <td>Noah</td>\n      <td>M</td>\n      <td>103</td>\n      <td>11/13/2015</td>\n      <td>UK</td>\n      <td>IT</td>\n    </tr>\n    <tr>\n      <th>18</th>\n      <td>1008</td>\n      <td>Smith</td>\n      <td>M</td>\n      <td>104</td>\n      <td>11/3/1991</td>\n      <td>USA</td>\n      <td>Accounting</td>\n    </tr>\n    <tr>\n      <th>19</th>\n      <td>1009</td>\n      <td>Benjamin</td>\n      <td>M</td>\n      <td>104</td>\n      <td>11/4/1991</td>\n      <td>USA</td>\n      <td>Accounting</td>\n    </tr>\n    <tr>\n      <th>20</th>\n      <td>1012</td>\n      <td>Emma</td>\n      <td>F</td>\n      <td>104</td>\n      <td>11/7/2001</td>\n      <td>UK</td>\n      <td>Accounting</td>\n    </tr>\n    <tr>\n      <th>21</th>\n      <td>1014</td>\n      <td>Liam</td>\n      <td>M</td>\n      <td>104</td>\n      <td>11/9/2013</td>\n      <td>UK</td>\n      <td>Accounting</td>\n    </tr>\n    <tr>\n      <th>22</th>\n      <td>1020</td>\n      <td>Mason</td>\n      <td>M</td>\n      <td>104</td>\n      <td>11/15/2015</td>\n      <td>UK</td>\n      <td>Accounting</td>\n    </tr>\n  </tbody>\n</table>\n</div>",
            "text/plain": "    EmpId    EmpName Gender  DepartmentId         DOJ Country    JobTitle\n0    1001      Jones      M           101  10/27/1980     USA   Marketing\n1    1007     Howard      M           101   11/2/1991     USA   Marketing\n2    1013  Alexander      M           101   11/8/2001      UK   Marketing\n3    1016      Ethan      M           101  11/11/2013      UK   Marketing\n4    1019   Isabella      F           101  11/14/2015      UK   Marketing\n5    1022      Emily      F           101  11/17/2016      UK   Marketing\n6    1024   Thompson      M           101  11/19/2018      UK   Marketing\n7    1002     Kivell      M           102  10/28/1980     USA       Sales\n8    1006    Andrews      M           102   11/1/1985     USA       Sales\n9    1011      Jacob      M           102   11/6/1995      UK       Sales\n10   1015     Olivia      F           102  11/10/2013      UK       Sales\n11   1017     Elijah      M           102  11/12/2015      UK       Sales\n12   1021      Robin      M           102  11/16/2016      UK       Sales\n13   1003    Jardine      M           103  10/29/1981     USA          IT\n14   1004       Gill      M           103  10/30/1981     USA          IT\n15   1005    Sorvino      F           103  10/31/1985     USA          IT\n16   1010    William      M           103   11/5/1995     USA          IT\n17   1018       Noah      M           103  11/13/2015      UK          IT\n18   1008      Smith      M           104   11/3/1991     USA  Accounting\n19   1009   Benjamin      M           104   11/4/1991     USA  Accounting\n20   1012       Emma      F           104   11/7/2001      UK  Accounting\n21   1014       Liam      M           104   11/9/2013      UK  Accounting\n22   1020      Mason      M           104  11/15/2015      UK  Accounting"
          },
          "metadata": {}
        }
      ]
    },
    {
      "metadata": {
        "trusted": true
      },
      "cell_type": "code",
      "source": "df.groupby('JobTitle')['EmpId'].count()",
      "execution_count": 7,
      "outputs": [
        {
          "output_type": "execute_result",
          "execution_count": 7,
          "data": {
            "text/plain": "JobTitle\nAccounting    5\nIT            5\nMarketing     7\nSales         6\nName: EmpId, dtype: int64"
          },
          "metadata": {}
        }
      ]
    }
  ],
  "metadata": {
    "kernelspec": {
      "name": "python36",
      "display_name": "Python 3.6",
      "language": "python"
    },
    "language_info": {
      "mimetype": "text/x-python",
      "nbconvert_exporter": "python",
      "name": "python",
      "pygments_lexer": "ipython3",
      "version": "3.6.6",
      "file_extension": ".py",
      "codemirror_mode": {
        "version": 3,
        "name": "ipython"
      }
    }
  },
  "nbformat": 4,
  "nbformat_minor": 2
}