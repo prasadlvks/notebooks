{
  "cells": [
    {
      "metadata": {},
      "cell_type": "markdown",
      "source": "Non-Stationary: If ADF test statistic value is greater than critical value.\n\nNote: If the test statistic is less than the critical value, we can reject the null hypothesis"
    },
    {
      "metadata": {
        "trusted": true
      },
      "cell_type": "code",
      "source": "import requests\nimport pandas as pd\nimport json\nimport matplotlib.pyplot as plt\nfrom numpy import log\nfrom statsmodels.tsa.stattools import adfuller",
      "execution_count": 17,
      "outputs": []
    },
    {
      "metadata": {
        "trusted": true
      },
      "cell_type": "code",
      "source": "plt.style.use('Solarize_Light2')",
      "execution_count": 2,
      "outputs": []
    },
    {
      "metadata": {
        "trusted": true
      },
      "cell_type": "code",
      "source": "index = pd.date_range('11/07/2019', periods=35, freq='D')\ndf = pd.read_csv('Murali.csv',parse_dates=True)",
      "execution_count": 6,
      "outputs": []
    },
    {
      "metadata": {
        "trusted": true
      },
      "cell_type": "code",
      "source": "df.set_index(index, inplace=True)",
      "execution_count": 7,
      "outputs": []
    },
    {
      "metadata": {
        "trusted": true
      },
      "cell_type": "code",
      "source": "df.drop('Date', axis=1, inplace=True)",
      "execution_count": 8,
      "outputs": []
    },
    {
      "metadata": {
        "trusted": true
      },
      "cell_type": "code",
      "source": "df.head()",
      "execution_count": 9,
      "outputs": [
        {
          "output_type": "execute_result",
          "execution_count": 9,
          "data": {
            "text/html": "<div>\n<style scoped>\n    .dataframe tbody tr th:only-of-type {\n        vertical-align: middle;\n    }\n\n    .dataframe tbody tr th {\n        vertical-align: top;\n    }\n\n    .dataframe thead th {\n        text-align: right;\n    }\n</style>\n<table border=\"1\" class=\"dataframe\">\n  <thead>\n    <tr style=\"text-align: right;\">\n      <th></th>\n      <th>DBSize</th>\n    </tr>\n  </thead>\n  <tbody>\n    <tr>\n      <th>2019-11-07</th>\n      <td>3.60</td>\n    </tr>\n    <tr>\n      <th>2019-11-08</th>\n      <td>3.71</td>\n    </tr>\n    <tr>\n      <th>2019-11-09</th>\n      <td>3.81</td>\n    </tr>\n    <tr>\n      <th>2019-11-10</th>\n      <td>3.92</td>\n    </tr>\n    <tr>\n      <th>2019-11-11</th>\n      <td>4.02</td>\n    </tr>\n  </tbody>\n</table>\n</div>",
            "text/plain": "            DBSize\n2019-11-07    3.60\n2019-11-08    3.71\n2019-11-09    3.81\n2019-11-10    3.92\n2019-11-11    4.02"
          },
          "metadata": {}
        }
      ]
    },
    {
      "metadata": {
        "trusted": true
      },
      "cell_type": "code",
      "source": "plt.plot(df.values)",
      "execution_count": 14,
      "outputs": [
        {
          "output_type": "execute_result",
          "execution_count": 14,
          "data": {
            "text/plain": "[<matplotlib.lines.Line2D at 0x7f3041a99f98>]"
          },
          "metadata": {}
        },
        {
          "output_type": "display_data",
          "data": {
            "image/png": "[encoded data removed]",
            "text/plain": "<Figure size 432x288 with 1 Axes>"
          },
          "metadata": {}
        }
      ]
    },
    {
      "metadata": {
        "trusted": true
      },
      "cell_type": "code",
      "source": "df.values",
      "execution_count": 13,
      "outputs": [
        {
          "output_type": "execute_result",
          "execution_count": 13,
          "data": {
            "text/plain": "array([[3.6 ],\n       [3.71],\n       [3.81],\n       [3.92],\n       [4.02],\n       [4.08],\n       [4.14],\n       [4.19],\n       [4.24],\n       [4.29],\n       [4.35],\n       [4.4 ],\n       [4.46],\n       [4.51],\n       [4.57],\n       [4.62],\n       [4.67],\n       [4.72],\n       [4.78],\n       [4.83],\n       [4.89],\n       [4.94],\n       [4.99],\n       [5.05],\n       [5.1 ],\n       [5.17],\n       [5.21],\n       [5.26],\n       [5.32],\n       [5.37],\n       [5.42],\n       [5.48],\n       [5.53],\n       [5.58],\n       [5.64]])"
          },
          "metadata": {}
        }
      ]
    },
    {
      "metadata": {
        "trusted": true
      },
      "cell_type": "code",
      "source": "df.iloc[:,0].values",
      "execution_count": 29,
      "outputs": [
        {
          "output_type": "execute_result",
          "execution_count": 29,
          "data": {
            "text/plain": "array([3.6 , 3.71, 3.81, 3.92, 4.02, 4.08, 4.14, 4.19, 4.24, 4.29, 4.35,\n       4.4 , 4.46, 4.51, 4.57, 4.62, 4.67, 4.72, 4.78, 4.83, 4.89, 4.94,\n       4.99, 5.05, 5.1 , 5.17, 5.21, 5.26, 5.32, 5.37, 5.42, 5.48, 5.53,\n       5.58, 5.64])"
          },
          "metadata": {}
        }
      ]
    },
    {
      "metadata": {
        "trusted": true
      },
      "cell_type": "code",
      "source": "result = adfuller(df.iloc[:,0].values)",
      "execution_count": 34,
      "outputs": []
    },
    {
      "metadata": {
        "trusted": true
      },
      "cell_type": "code",
      "source": "for key, value in result[4].items():\n    print('\\t%s: %.3f' % (key, value))",
      "execution_count": 35,
      "outputs": [
        {
          "output_type": "stream",
          "text": "\t1%: -3.654\n\t5%: -2.957\n\t10%: -2.618\n",
          "name": "stdout"
        }
      ]
    },
    {
      "metadata": {
        "trusted": true
      },
      "cell_type": "code",
      "source": "result",
      "execution_count": 36,
      "outputs": [
        {
          "output_type": "execute_result",
          "execution_count": 36,
          "data": {
            "text/plain": "(-0.11738551217677856,\n 0.94767909978358,\n 2,\n 32,\n {'1%': -3.653519805908203,\n  '5%': -2.9572185644531253,\n  '10%': -2.6175881640625},\n -179.57138205898707)"
          },
          "metadata": {}
        }
      ]
    },
    {
      "metadata": {
        "trusted": true
      },
      "cell_type": "code",
      "source": "-0.11738551217677856 > -3.653519805908203",
      "execution_count": 25,
      "outputs": [
        {
          "output_type": "execute_result",
          "execution_count": 25,
          "data": {
            "text/plain": "True"
          },
          "metadata": {}
        }
      ]
    },
    {
      "metadata": {},
      "cell_type": "markdown",
      "source": "Non-Stationary"
    },
    {
      "metadata": {
        "trusted": true
      },
      "cell_type": "code",
      "source": "",
      "execution_count": null,
      "outputs": []
    }
  ],
  "metadata": {
    "kernelspec": {
      "name": "python36",
      "display_name": "Python 3.6",
      "language": "python"
    },
    "language_info": {
      "mimetype": "text/x-python",
      "nbconvert_exporter": "python",
      "name": "python",
      "pygments_lexer": "ipython3",
      "version": "3.6.6",
      "file_extension": ".py",
      "codemirror_mode": {
        "version": 3,
        "name": "ipython"
      }
    }
  },
  "nbformat": 4,
  "nbformat_minor": 2
}